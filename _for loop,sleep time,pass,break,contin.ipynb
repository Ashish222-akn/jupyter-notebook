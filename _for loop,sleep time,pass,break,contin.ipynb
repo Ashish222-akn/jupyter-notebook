{
 "cells": [
  {
   "cell_type": "code",
   "execution_count": 1,
   "id": "9a518a5a-ebf1-43bc-814e-438a35d504bc",
   "metadata": {},
   "outputs": [
    {
     "name": "stdout",
     "output_type": "stream",
     "text": [
      "rohit\n",
      "sachin\n",
      "rahul\n"
     ]
    }
   ],
   "source": [
    "list=[\"rohit\",\"sachin\",12,890,[1,2,3],\"rahul\"]\n",
    "for i in list:\n",
    "    if type (i)==str:\n",
    "        print(i)"
   ]
  },
  {
   "cell_type": "code",
   "execution_count": 2,
   "id": "024b1e65-e4d7-4812-9060-18773088a8f6",
   "metadata": {},
   "outputs": [
    {
     "name": "stdout",
     "output_type": "stream",
     "text": [
      "12\n",
      "890\n"
     ]
    }
   ],
   "source": [
    "list=[\"rohit\",\"sachin\",12,890,[1,2,3],\"rahul\"]\n",
    "for i in list:\n",
    "    if type (i)==int:\n",
    "        print(i)"
   ]
  },
  {
   "cell_type": "code",
   "execution_count": 51,
   "id": "ca69ab4e-24b4-4e52-b529-a8662b96be9b",
   "metadata": {},
   "outputs": [
    {
     "data": {
      "text/plain": [
       "([[['this']]], 'python', 'ashish', 'tuple', {'now'})"
      ]
     },
     "execution_count": 51,
     "metadata": {},
     "output_type": "execute_result"
    }
   ],
   "source": [
    "# print only strings values.\n",
    "\n",
    "\n",
    "list1=[[\"ashish\",1,2,3,4],\"python\",(\"tuple\",78),{\"now\"},[[[\"this\"]]]]\n",
    "\n",
    "list1[4],list1[1],list1[0][0],list1[2][0],list1[3]\n",
    "\n",
    "        \n"
   ]
  },
  {
   "cell_type": "code",
   "execution_count": 1,
   "id": "82599e8b-fa83-4eae-a4a4-beec4efb0a27",
   "metadata": {},
   "outputs": [
    {
     "name": "stdout",
     "output_type": "stream",
     "text": [
      "a\n",
      "s\n",
      "h\n",
      "i\n",
      "s\n",
      "h\n"
     ]
    }
   ],
   "source": [
    "import time \n",
    "for i in \"ashish\":\n",
    "    time.sleep(2)\n",
    "    print(i)"
   ]
  },
  {
   "cell_type": "code",
   "execution_count": 59,
   "id": "82174519-6044-4b00-925a-0058f385a1e5",
   "metadata": {},
   "outputs": [
    {
     "name": "stdout",
     "output_type": "stream",
     "text": [
      "rajpatel@gmail.com\n",
      "ashishnagar@gmail.com\n",
      "sumitkumar@gmail.com\n"
     ]
    }
   ],
   "source": [
    "# creating email id from names in list\n",
    "\n",
    "worker_name=([\"raj\", \"patel\"],[\"ashish\", \"nagar\"],[\"sumit\", \"kumar\"])\n",
    "for i in worker_name:\n",
    "    print(f\"{i[0]}{i[1]}@gmail.com\")\n",
    "    "
   ]
  },
  {
   "cell_type": "code",
   "execution_count": null,
   "id": "bb1beb90-6066-4efc-b171-d948ceb4744a",
   "metadata": {},
   "outputs": [],
   "source": []
  },
  {
   "cell_type": "markdown",
   "id": "5b61f2e2-34b1-49c3-bd4c-738957b6f89f",
   "metadata": {},
   "source": [
    "# pass\n"
   ]
  },
  {
   "cell_type": "code",
   "execution_count": null,
   "id": "f5ad904f-7f20-43ff-bcc5-56ca97751457",
   "metadata": {},
   "outputs": [],
   "source": [
    "# to fiil up the empty block.\n",
    "# if we dont want to run a command pass doest give error"
   ]
  },
  {
   "cell_type": "code",
   "execution_count": 83,
   "id": "f1e693b6-e686-4afc-a79a-d799e846edfb",
   "metadata": {},
   "outputs": [
    {
     "ename": "NameError",
     "evalue": "name 'true' is not defined",
     "output_type": "error",
     "traceback": [
      "\u001b[1;31m---------------------------------------------------------------------------\u001b[0m",
      "\u001b[1;31mNameError\u001b[0m                                 Traceback (most recent call last)",
      "Cell \u001b[1;32mIn[83], line 1\u001b[0m\n\u001b[1;32m----> 1\u001b[0m \u001b[38;5;28;01mif\u001b[39;00m true:\n\u001b[0;32m      2\u001b[0m     \u001b[38;5;28;01mpass\u001b[39;00m\n\u001b[0;32m      3\u001b[0m     \u001b[38;5;28mprint\u001b[39m(\u001b[38;5;124m\"\u001b[39m\u001b[38;5;124mhello\u001b[39m\u001b[38;5;124m\"\u001b[39m)\n",
      "\u001b[1;31mNameError\u001b[0m: name 'true' is not defined"
     ]
    }
   ],
   "source": [
    "\n",
    "if true:\n",
    "    pass\n",
    "    print(\"hello\")\n",
    "    "
   ]
  },
  {
   "cell_type": "markdown",
   "id": "3796d4b3-addc-499c-83e6-7424d1c6f6a8",
   "metadata": {},
   "source": [
    "# continue"
   ]
  },
  {
   "cell_type": "code",
   "execution_count": 101,
   "id": "2aa9d4bf-3873-4865-b0fb-5733af37ee60",
   "metadata": {},
   "outputs": [
    {
     "name": "stdout",
     "output_type": "stream",
     "text": [
      "1\n",
      "2\n",
      "3\n",
      "4\n",
      "6\n",
      "7\n",
      "8\n",
      "9\n"
     ]
    }
   ],
   "source": [
    "# it will skip the characther in the data but do not terminate the loop.\n",
    "# to stop the current itertation.\n",
    "\n",
    "for i in range(1,10):\n",
    "    if i==5:                       # where i==5 , it will skip (5) and move to 6 and continue\n",
    "        continue\n",
    "    print(i)\n"
   ]
  },
  {
   "cell_type": "markdown",
   "id": "cef6e0f1-1cbe-4cb5-9ca6-48c80954e9ed",
   "metadata": {},
   "source": [
    "# break"
   ]
  },
  {
   "cell_type": "code",
   "execution_count": 99,
   "id": "178300f9-0fd3-42fa-9663-73dfd945bab1",
   "metadata": {},
   "outputs": [
    {
     "name": "stdout",
     "output_type": "stream",
     "text": [
      "1\n",
      "2\n",
      "3\n",
      "4\n"
     ]
    }
   ],
   "source": [
    "# it will break the loop or terminate the loop\n",
    "\n",
    "for i in range(1,10):\n",
    "    if i==5:                          # where i==5, it will break the loop from 5 and dont continue. it will terminate the loop from 5.\n",
    "        break\n",
    "    print(i)"
   ]
  },
  {
   "cell_type": "code",
   "execution_count": 115,
   "id": "5361035a-b675-4e71-888d-cbfd3d264917",
   "metadata": {},
   "outputs": [
    {
     "name": "stdout",
     "output_type": "stream",
     "text": [
      "1\n",
      "2\n",
      "3\n",
      "4\n",
      "5 (has been skipped)\n",
      "6\n",
      "7\n",
      "8\n",
      "9\n",
      "none\n"
     ]
    }
   ],
   "source": [
    "# we can also use else function in for loop\n",
    "\n",
    "for i in range(1,10):\n",
    "    if i==5:\n",
    "        print(\"5 (has been skipped)\")\n",
    "        continue\n",
    "    print(i)\n",
    "else:\n",
    "    print(\"none\")\n",
    "    \n"
   ]
  },
  {
   "cell_type": "code",
   "execution_count": 134,
   "id": "260fc75c-f3ff-4c64-b997-1f19553df4b5",
   "metadata": {},
   "outputs": [
    {
     "name": "stdout",
     "output_type": "stream",
     "text": [
      "ashish\n",
      "rohan\n",
      "nagar\n"
     ]
    }
   ],
   "source": [
    "list1=[\"ashish\",\"rohan\",123,\"nagar\",7824733632]\n",
    "for i in list1:\n",
    "    if type(i)==int:\n",
    "        continue\n",
    "    else:\n",
    "        print(i)"
   ]
  },
  {
   "cell_type": "code",
   "execution_count": 150,
   "id": "9d3e57e8-3ffe-4b0f-b8e6-3f0efb46d5c8",
   "metadata": {},
   "outputs": [
    {
     "name": "stdout",
     "output_type": "stream",
     "text": [
      "7824733632\n"
     ]
    }
   ],
   "source": [
    "list1=[\"ashish\",\"rohan\",123,\"nagar\",7824733632]\n",
    "for i in list1:\n",
    "    if len(str(i))==10:\n",
    "        print(i)"
   ]
  },
  {
   "cell_type": "code",
   "execution_count": 148,
   "id": "1ed73899-d984-493f-ae4f-f3cc9db9095f",
   "metadata": {},
   "outputs": [
    {
     "name": "stdout",
     "output_type": "stream",
     "text": [
      "7824733632\n"
     ]
    }
   ],
   "source": [
    "list1=[\"ashish\",\"rohan\",\"123\",\"nagar\",\"7824733632\"]\n",
    "for i in list1:\n",
    "    if len(i)==10:\n",
    "        print(i)"
   ]
  },
  {
   "cell_type": "markdown",
   "id": "221e8681-cee4-4cb9-bf17-26dbb5f60f59",
   "metadata": {},
   "source": [
    "# finding items present in the list or not"
   ]
  },
  {
   "cell_type": "code",
   "execution_count": 12,
   "id": "f13dd435-83fb-46b3-894f-5dfc508efe42",
   "metadata": {},
   "outputs": [
    {
     "name": "stdin",
     "output_type": "stream",
     "text": [
      "enter item bread\n"
     ]
    },
    {
     "name": "stdout",
     "output_type": "stream",
     "text": [
      " bread : is not avaliable\n"
     ]
    }
   ],
   "source": [
    "# use of f string\n",
    "# to find item is present in list or not.\n",
    "\n",
    "\n",
    "list1=[\"mango\",\"banana\",\"milk\",\"eggs\",\"apple\"]\n",
    "item_input=input(\"enter item name\")\n",
    "if item_input in list1: \n",
    "    print(f\" {item_input}:  is avaliable\")\n",
    "else:\n",
    "    print(f\" {item_input} : is not avaliable\")"
   ]
  },
  {
   "cell_type": "code",
   "execution_count": null,
   "id": "ee092485-f68a-49b5-a083-757e3e327235",
   "metadata": {},
   "outputs": [],
   "source": []
  },
  {
   "cell_type": "code",
   "execution_count": null,
   "id": "e4814d25-6a04-4a24-8319-fc9f22dcb6bc",
   "metadata": {},
   "outputs": [],
   "source": []
  },
  {
   "cell_type": "code",
   "execution_count": null,
   "id": "d4a857b1-7538-4604-bc90-f2e44ccb04cb",
   "metadata": {},
   "outputs": [],
   "source": []
  },
  {
   "cell_type": "code",
   "execution_count": null,
   "id": "436108c5-45e1-4214-9024-e0b3cd1251d0",
   "metadata": {},
   "outputs": [],
   "source": []
  },
  {
   "cell_type": "code",
   "execution_count": 66,
   "id": "1e9ea912-9918-45c5-8f2b-db92889d0cb4",
   "metadata": {},
   "outputs": [
    {
     "name": "stdout",
     "output_type": "stream",
     "text": [
      "name\n",
      "class\n"
     ]
    }
   ],
   "source": [
    "sequence = {\"name\":\"rohit\",\"class\":\"Python\"}\n",
    "\n",
    "for item in sequence:\n",
    "    print(item)==str"
   ]
  },
  {
   "cell_type": "raw",
   "id": "a12da3d5-b296-4c67-80e5-6080c0b0aa98",
   "metadata": {},
   "source": []
  },
  {
   "cell_type": "code",
   "execution_count": 80,
   "id": "8f344a09-dd13-421d-8237-3afd6ff6a3a1",
   "metadata": {},
   "outputs": [
    {
     "name": "stdout",
     "output_type": "stream",
     "text": [
      "1\n",
      "4\n",
      "7\n"
     ]
    }
   ],
   "source": [
    "for i in range(1,10,3):\n",
    "    print(i)"
   ]
  },
  {
   "cell_type": "code",
   "execution_count": 109,
   "id": "79abfd3e-59c1-4abd-ab85-0b63745dc3bd",
   "metadata": {},
   "outputs": [
    {
     "name": "stdout",
     "output_type": "stream",
     "text": [
      "Rkt6543@gmail.com\n",
      "Sachin@yahoo.com\n",
      "Aman@gmail.com\n",
      "chirag@rex.com\n"
     ]
    }
   ],
   "source": [
    "sequence = [\"Rohit\",\"Rkt6543@gmail.com\",\"Sachin\",\"Sachin@yahoo.com\",\"Aman\",\"Aman@gmail.com\",\"Chirag\",\"chirag@rex.com\"]\n",
    "sequence_len=len(sequence)\n",
    "for email in range(1,sequence_len,2):\n",
    "    print(sequence[email])"
   ]
  },
  {
   "cell_type": "code",
   "execution_count": null,
   "id": "ec457608-a25d-4602-9b71-498394933b66",
   "metadata": {},
   "outputs": [],
   "source": []
  },
  {
   "cell_type": "code",
   "execution_count": null,
   "id": "ffdba7cb-7994-4adb-9e84-986781651741",
   "metadata": {},
   "outputs": [],
   "source": []
  }
 ],
 "metadata": {
  "kernelspec": {
   "display_name": "Python 3 (ipykernel)",
   "language": "python",
   "name": "python3"
  },
  "language_info": {
   "codemirror_mode": {
    "name": "ipython",
    "version": 3
   },
   "file_extension": ".py",
   "mimetype": "text/x-python",
   "name": "python",
   "nbconvert_exporter": "python",
   "pygments_lexer": "ipython3",
   "version": "3.12.7"
  }
 },
 "nbformat": 4,
 "nbformat_minor": 5
}
