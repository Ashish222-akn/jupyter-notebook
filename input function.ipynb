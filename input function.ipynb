{
 "cells": [
  {
   "cell_type": "code",
   "execution_count": 5,
   "id": "7f111ecf-12fa-4700-ba7d-cfb611898707",
   "metadata": {},
   "outputs": [
    {
     "name": "stdin",
     "output_type": "stream",
     "text": [
      "enter your first name ashish\n",
      "enter your last name nagar\n"
     ]
    },
    {
     "name": "stdout",
     "output_type": "stream",
     "text": [
      "ashish nagar\n"
     ]
    }
   ],
   "source": [
    "# input firstname and Last name.\n",
    "# print in same line .\n",
    "\n",
    "first_name=input(\"enter your first name\")\n",
    "last_name=input(\"enter your last name\")\n",
    "print(first_name,last_name)"
   ]
  },
  {
   "cell_type": "code",
   "execution_count": 7,
   "id": "63fddd93-8942-4f25-924c-84bcd0e3c180",
   "metadata": {},
   "outputs": [
    {
     "name": "stdin",
     "output_type": "stream",
     "text": [
      "enter your first name ashish\n",
      "enter your last name nagar\n"
     ]
    },
    {
     "name": "stdout",
     "output_type": "stream",
     "text": [
      "ashish\n",
      "nagar\n"
     ]
    }
   ],
   "source": [
    "# print in two lines.\n",
    "\n",
    "first_name=input(\"enter your first name \")\n",
    "last_name=input(\"enter your last name\")\n",
    "print(first_name)\n",
    "print(last_name)"
   ]
  },
  {
   "cell_type": "code",
   "execution_count": 13,
   "id": "af1e3d58-662f-4f9f-948d-d7ee51e71bc1",
   "metadata": {},
   "outputs": [
    {
     "name": "stdin",
     "output_type": "stream",
     "text": [
      "enter your first name ashish\n",
      "enter your last name nagar\n"
     ]
    },
    {
     "name": "stdout",
     "output_type": "stream",
     "text": [
      "Ashish Nagar\n"
     ]
    }
   ],
   "source": [
    "# to captialize the first word of you data.\n",
    "\n",
    "first_name=input(\"enter your first name\").capitalize()\n",
    "last_name=input(\"enter your last name\").capitalize()\n",
    "print(first_name,last_name)"
   ]
  },
  {
   "cell_type": "code",
   "execution_count": 27,
   "id": "7c521824-8a74-445b-8953-5ca8ceffc460",
   "metadata": {},
   "outputs": [
    {
     "name": "stdin",
     "output_type": "stream",
     "text": [
      "enter your first name:  ashish\n",
      "enter your last name:  nagar\n"
     ]
    },
    {
     "name": "stdout",
     "output_type": "stream",
     "text": [
      "hello Ashish how can i help you\n"
     ]
    }
   ],
   "source": [
    "# to display some message to user.we use f in print command.\n",
    "\n",
    "first_name=input(\"enter your first name: \").capitalize()\n",
    "last_name=input(\"enter your last name: \").capitalize\n",
    "print(f\"hello {first_name} how can i help you\")  "
   ]
  },
  {
   "cell_type": "code",
   "execution_count": 33,
   "id": "d75c7c81-2dc6-435a-93d7-385344efda30",
   "metadata": {},
   "outputs": [
    {
     "name": "stdin",
     "output_type": "stream",
     "text": [
      "enter your first number:  12\n",
      "enter your last number:  12\n"
     ]
    },
    {
     "name": "stdout",
     "output_type": "stream",
     "text": [
      "24\n"
     ]
    }
   ],
   "source": [
    "# Take numubrs as input and + the numbers.\n",
    "# use int before the input function. and close the brackts.\n",
    "\n",
    "first_number= int(input(\"enter your first number: \"))\n",
    "second_number=int(input(\"enter your last number: \"))\n",
    "print(first_number+second_number)  "
   ]
  },
  {
   "cell_type": "markdown",
   "id": "a607f8bd-49f2-41ca-85bc-c9b6bfce9a85",
   "metadata": {},
   "source": [
    " # finding items present in the list or not"
   ]
  },
  {
   "cell_type": "code",
   "execution_count": 5,
   "id": "2c6b88fc-179a-4f0c-b5ce-b705d9d0a3ae",
   "metadata": {},
   "outputs": [
    {
     "name": "stdin",
     "output_type": "stream",
     "text": [
      "enter item name banana\n"
     ]
    },
    {
     "name": "stdout",
     "output_type": "stream",
     "text": [
      " banana:  is avaliable\n"
     ]
    }
   ],
   "source": [
    "# use of f string\n",
    "# to find item is present in list or not.\n",
    "\n",
    "\n",
    "list1=[\"mango\",\"banana\",\"milk\",\"eggs\",\"apple\"]\n",
    "item_input=input(\"enter item name\")\n",
    "if item_input in list1: \n",
    "    print(f\" {item_input}:  is avaliable\")\n",
    "else:\n",
    "    print(f\" {item_input} : is not avaliable\")"
   ]
  },
  {
   "cell_type": "code",
   "execution_count": null,
   "id": "c7355743-3727-40a8-8587-3b2f5dae9363",
   "metadata": {},
   "outputs": [],
   "source": []
  },
  {
   "cell_type": "code",
   "execution_count": null,
   "id": "077185ac-444a-43f8-8e45-09d43f93aeba",
   "metadata": {},
   "outputs": [],
   "source": []
  },
  {
   "cell_type": "code",
   "execution_count": null,
   "id": "f71db409-fe9d-4bff-9a92-0674369f901b",
   "metadata": {},
   "outputs": [],
   "source": []
  },
  {
   "cell_type": "code",
   "execution_count": null,
   "id": "b9edc5ca-2c6e-474e-b1ce-48df9a236f43",
   "metadata": {},
   "outputs": [],
   "source": []
  },
  {
   "cell_type": "code",
   "execution_count": null,
   "id": "1471b088-4da1-4d98-adda-a7838da4dfa4",
   "metadata": {},
   "outputs": [],
   "source": []
  },
  {
   "cell_type": "code",
   "execution_count": null,
   "id": "cd300928-f30a-432a-877a-6c8f07e79c25",
   "metadata": {},
   "outputs": [],
   "source": []
  },
  {
   "cell_type": "code",
   "execution_count": null,
   "id": "d0f83d6a-2b39-4ebd-84cd-b2683ea496a4",
   "metadata": {},
   "outputs": [],
   "source": []
  },
  {
   "cell_type": "code",
   "execution_count": null,
   "id": "70baa6b2-1865-4a27-971f-e4e3ab4ceb3a",
   "metadata": {},
   "outputs": [],
   "source": []
  }
 ],
 "metadata": {
  "kernelspec": {
   "display_name": "Python 3 (ipykernel)",
   "language": "python",
   "name": "python3"
  },
  "language_info": {
   "codemirror_mode": {
    "name": "ipython",
    "version": 3
   },
   "file_extension": ".py",
   "mimetype": "text/x-python",
   "name": "python",
   "nbconvert_exporter": "python",
   "pygments_lexer": "ipython3",
   "version": "3.12.7"
  }
 },
 "nbformat": 4,
 "nbformat_minor": 5
}
