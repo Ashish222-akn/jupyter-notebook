{
 "cells": [
  {
   "cell_type": "markdown",
   "id": "bb0a5d05-0e40-4ce4-8945-9a3499b4b990",
   "metadata": {},
   "source": [
    "# function is a block of code that perform specfic block of task. function are funfamental concep i programming that help\n",
    "# in organize code code reuseablity amd to make programmes more modular."
   ]
  },
  {
   "cell_type": "markdown",
   "id": "9c0a02e7-7526-4e24-8af2-133155c54d21",
   "metadata": {},
   "source": [
    "DO NOT REPEAT YOURSELF"
   ]
  },
  {
   "cell_type": "raw",
   "id": "b4744bc2-cdc8-42ff-bfd3-c95bbe2e41f7",
   "metadata": {},
   "source": [
    "# method - list.pop()\n",
    "\n",
    "# standalone function   - def function(function made by user)\n",
    "\n",
    "# built in function  -  print(),input(),type(),len()\n"
   ]
  },
  {
   "cell_type": "code",
   "execution_count": 1,
   "id": "29313334-4f1d-46a1-b1d8-20133c2bd925",
   "metadata": {},
   "outputs": [],
   "source": [
    "def ashish_function():\n",
    "    print(\" hello ashish\")"
   ]
  },
  {
   "cell_type": "code",
   "execution_count": 3,
   "id": "3a12e60f-7daf-43dc-a55f-f7ba1b11c987",
   "metadata": {},
   "outputs": [
    {
     "name": "stdout",
     "output_type": "stream",
     "text": [
      " hello ashish\n"
     ]
    }
   ],
   "source": [
    "ashish_function()"
   ]
  },
  {
   "cell_type": "code",
   "execution_count": 35,
   "id": "de772395-90cd-400c-a058-dec06b3c5df3",
   "metadata": {},
   "outputs": [],
   "source": [
    "# using function instead taking many variables\n",
    "\n",
    "def details_com(name):\n",
    "    print(f\"hello {name} how are you\")"
   ]
  },
  {
   "cell_type": "code",
   "execution_count": 37,
   "id": "dd55ab96-b51d-4279-8fe2-66dc269e172b",
   "metadata": {},
   "outputs": [
    {
     "name": "stdout",
     "output_type": "stream",
     "text": [
      "hello Ashish how are you\n"
     ]
    }
   ],
   "source": [
    "details_com('Ashish')"
   ]
  },
  {
   "cell_type": "code",
   "execution_count": 39,
   "id": "f0199ddd-090d-410e-a1a6-9c75ea31e576",
   "metadata": {},
   "outputs": [
    {
     "name": "stdout",
     "output_type": "stream",
     "text": [
      "hello kumar how are you\n"
     ]
    }
   ],
   "source": [
    "details_com('kumar')"
   ]
  },
  {
   "cell_type": "markdown",
   "id": "ab264234-0504-4958-aec5-1a578cc8fcbd",
   "metadata": {},
   "source": [
    "# Parameters And Arguments ?"
   ]
  },
  {
   "cell_type": "raw",
   "id": "947fc057-41e5-4361-abdb-3c3a69133b3f",
   "metadata": {},
   "source": [
    "parameters - it is a variable listed inside the paratheses in first line of function.\n",
    "\n",
    "Arguments - it is the value we give when the function called."
   ]
  },
  {
   "cell_type": "code",
   "execution_count": 64,
   "id": "d85eb019-4755-45e7-8d76-e16782295b8d",
   "metadata": {},
   "outputs": [],
   "source": [
    "# make a function which take name and surname and print a message\n",
    "\n",
    "def name_detail(name,surname):\n",
    "    print (f\"hello {name} {surname} how are you !\")"
   ]
  },
  {
   "cell_type": "code",
   "execution_count": 66,
   "id": "03c1e6ca-ffd0-4f60-b5b3-e737aab5fa33",
   "metadata": {},
   "outputs": [
    {
     "name": "stdout",
     "output_type": "stream",
     "text": [
      "hello ashish kumar how are you !\n"
     ]
    }
   ],
   "source": [
    "name_detail('ashish','kumar')"
   ]
  },
  {
   "cell_type": "code",
   "execution_count": 73,
   "id": "59a36181-26f8-4876-9671-e5fff1381a7a",
   "metadata": {},
   "outputs": [],
   "source": [
    "# we also can use return instead of print.\n",
    "\n",
    "def name_detail(name,surname):\n",
    "    return (f\"hello {name} {surname} how are you !\")"
   ]
  },
  {
   "cell_type": "code",
   "execution_count": 70,
   "id": "56ea7ead-d462-463e-8a2c-30d84fcc2251",
   "metadata": {},
   "outputs": [
    {
     "data": {
      "text/plain": [
       "'hello ashish kumar how are you !'"
      ]
     },
     "execution_count": 70,
     "metadata": {},
     "output_type": "execute_result"
    }
   ],
   "source": [
    "name_detail('ashish','kumar')"
   ]
  },
  {
   "cell_type": "markdown",
   "id": "5e66e9dd-1db9-4bc8-a335-c1679f2a5865",
   "metadata": {},
   "source": [
    "# types of Arguments ?\n",
    "\n",
    "# 1 - positional arguments- ( the no of values pass in parameters ,must be passed in arguments we the function get called)\n",
    "# 2 - arbitrary arguments-( during the parameter using * sign ,so it can take many arguments)\n",
    "# 3 - default arguments-( in the parameter we give a default argument , and when user call the blank function it return default value)\n",
    "# 4 - keyword arguments-()"
   ]
  },
  {
   "cell_type": "code",
   "execution_count": 75,
   "id": "61c7ae2d-1aeb-42d5-beb8-b1dfaeeaa069",
   "metadata": {},
   "outputs": [],
   "source": [
    "# positional arguments-\n",
    "\n",
    "def name_detail(name,surname):\n",
    "    return (f\"hello {name} {surname} how are you !\")\n"
   ]
  },
  {
   "cell_type": "code",
   "execution_count": 85,
   "id": "4af834ad-ed74-4a75-9f68-2a1644848243",
   "metadata": {},
   "outputs": [
    {
     "data": {
      "text/plain": [
       "'hello ashish kumar how are you !'"
      ]
     },
     "execution_count": 85,
     "metadata": {},
     "output_type": "execute_result"
    }
   ],
   "source": [
    "name_detail('ashish','kumar')     # two aruguments are compulsory to give during calling the functuion."
   ]
  },
  {
   "cell_type": "code",
   "execution_count": 119,
   "id": "51001737-a647-43d3-9a7c-7f392ad42099",
   "metadata": {},
   "outputs": [],
   "source": [
    "# arbitrary arguments-\n",
    "\n",
    "def my_function(*name):\n",
    "    print (f\"hello {name} how are you !\")"
   ]
  },
  {
   "cell_type": "code",
   "execution_count": 121,
   "id": "0c6f7b81-3fb4-47e9-b878-1b316ab8dc49",
   "metadata": {},
   "outputs": [
    {
     "name": "stdout",
     "output_type": "stream",
     "text": [
      "hello ('ashish', 'kumar', 'nagar') how are you !\n"
     ]
    }
   ],
   "source": [
    "my_function(\"ashish\",\"kumar\",\"nagar\")             # here not compusory to gine only one argument,it can take many."
   ]
  },
  {
   "cell_type": "code",
   "execution_count": 133,
   "id": "dc51d3ee-ba17-43ff-bd5f-71a8893a2e01",
   "metadata": {},
   "outputs": [],
   "source": [
    "# now we want only first name .\n",
    "\n",
    "def my_function(*name):\n",
    "    print (f\"hello {name[0]} {name[2]} how are you !\")             # we want only 0 vala index."
   ]
  },
  {
   "cell_type": "code",
   "execution_count": 137,
   "id": "882ba26a-d3bd-4467-a1b7-b65571f2f66b",
   "metadata": {},
   "outputs": [
    {
     "name": "stdout",
     "output_type": "stream",
     "text": [
      "hello ashish nagar how are you !\n"
     ]
    }
   ],
   "source": [
    "my_function('ashish','kumar','nagar')                # other name or ignored.\n",
    "                                                       # when user provide thier full name ,it only take 0 and 2 index vala name."
   ]
  },
  {
   "cell_type": "code",
   "execution_count": 147,
   "id": "7212d4ec-14b5-45da-bc1e-f868a0ca36cd",
   "metadata": {},
   "outputs": [],
   "source": [
    "# make a program to do sum of all number the user enter.\n",
    "\n",
    "def number_sum(*num):\n",
    "    total=0\n",
    "    for item in num:\n",
    "        total=total+item\n",
    "    print(\"total of your numbes is:\",total)    "
   ]
  },
  {
   "cell_type": "code",
   "execution_count": 149,
   "id": "26dd3445-59ec-4898-ae7e-dbc045a52c26",
   "metadata": {},
   "outputs": [
    {
     "name": "stdout",
     "output_type": "stream",
     "text": [
      "total of your numbes is: 21\n"
     ]
    }
   ],
   "source": [
    "number_sum(1,2,3,4,5,6)"
   ]
  },
  {
   "cell_type": "code",
   "execution_count": 164,
   "id": "fbaae04e-ba61-47c7-9e2e-f1e8303f259b",
   "metadata": {},
   "outputs": [],
   "source": [
    "# default arguments/\n",
    "\n",
    "def city_locator(city='noida'):\n",
    "    print(f\"hello your city is:\",city)"
   ]
  },
  {
   "cell_type": "code",
   "execution_count": 166,
   "id": "ff14b911-3c40-4161-9bae-c08eaa7b59d8",
   "metadata": {},
   "outputs": [
    {
     "name": "stdout",
     "output_type": "stream",
     "text": [
      "hello your city is: noida\n"
     ]
    }
   ],
   "source": [
    "city_locator()                        # when your dont give any city."
   ]
  },
  {
   "cell_type": "code",
   "execution_count": 168,
   "id": "82730a67-fa3d-4510-bcda-4c102d45e187",
   "metadata": {},
   "outputs": [
    {
     "name": "stdout",
     "output_type": "stream",
     "text": [
      "hello your city is: jaipur\n"
     ]
    }
   ],
   "source": [
    "city_locator('jaipur')                # when user give a city name"
   ]
  },
  {
   "cell_type": "code",
   "execution_count": 206,
   "id": "a32c4d85-a18e-44de-ae50-c1ebb58c0842",
   "metadata": {},
   "outputs": [],
   "source": [
    "dict1={\"name\":\"ashish\",\"surname\":\"kumar\"}\n",
    "def my_function1(**kwargs):\n",
    "    print(f'hello {dict1[name]} {dict1[surname]} how are you ')"
   ]
  },
  {
   "cell_type": "code",
   "execution_count": 210,
   "id": "e98e790c-1988-4665-bdd6-2908f4d929a4",
   "metadata": {},
   "outputs": [
    {
     "ename": "NameError",
     "evalue": "name 'name' is not defined",
     "output_type": "error",
     "traceback": [
      "\u001b[1;31m---------------------------------------------------------------------------\u001b[0m",
      "\u001b[1;31mNameError\u001b[0m                                 Traceback (most recent call last)",
      "Cell \u001b[1;32mIn[210], line 1\u001b[0m\n\u001b[1;32m----> 1\u001b[0m my_function1()\n",
      "Cell \u001b[1;32mIn[206], line 3\u001b[0m, in \u001b[0;36mmy_function1\u001b[1;34m(**kwargs)\u001b[0m\n\u001b[0;32m      2\u001b[0m \u001b[38;5;28;01mdef\u001b[39;00m \u001b[38;5;21mmy_function1\u001b[39m(\u001b[38;5;241m*\u001b[39m\u001b[38;5;241m*\u001b[39mkwargs):\n\u001b[1;32m----> 3\u001b[0m     \u001b[38;5;28mprint\u001b[39m(\u001b[38;5;124mf\u001b[39m\u001b[38;5;124m'\u001b[39m\u001b[38;5;124mhello \u001b[39m\u001b[38;5;132;01m{\u001b[39;00mdict1[name]\u001b[38;5;132;01m}\u001b[39;00m\u001b[38;5;124m \u001b[39m\u001b[38;5;132;01m{\u001b[39;00mdict1[surname]\u001b[38;5;132;01m}\u001b[39;00m\u001b[38;5;124m how are you \u001b[39m\u001b[38;5;124m'\u001b[39m)\n",
      "\u001b[1;31mNameError\u001b[0m: name 'name' is not defined"
     ]
    }
   ],
   "source": [
    "my_function1()"
   ]
  },
  {
   "cell_type": "code",
   "execution_count": null,
   "id": "b812de01-4f9b-4189-ae4a-7a07aeb62195",
   "metadata": {},
   "outputs": [],
   "source": []
  }
 ],
 "metadata": {
  "kernelspec": {
   "display_name": "Python 3 (ipykernel)",
   "language": "python",
   "name": "python3"
  },
  "language_info": {
   "codemirror_mode": {
    "name": "ipython",
    "version": 3
   },
   "file_extension": ".py",
   "mimetype": "text/x-python",
   "name": "python",
   "nbconvert_exporter": "python",
   "pygments_lexer": "ipython3",
   "version": "3.12.7"
  }
 },
 "nbformat": 4,
 "nbformat_minor": 5
}
