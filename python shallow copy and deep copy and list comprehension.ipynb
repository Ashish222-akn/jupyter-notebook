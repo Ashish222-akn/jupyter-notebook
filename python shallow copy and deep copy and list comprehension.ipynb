{
 "cells": [
  {
   "cell_type": "markdown",
   "id": "1208f400-e3dc-4947-85ea-de52baf2c60c",
   "metadata": {},
   "source": [
    "# shallow copy ()"
   ]
  },
  {
   "cell_type": "raw",
   "id": "cfccc60b-c3b0-4ba9-aea1-e03d180f0168",
   "metadata": {},
   "source": [
    "# when we put one variable equal to other varialbe they are shllow copied , means therie reference are remain same ,it means\n",
    "# when we do sone change one list the chamge will occour in other list."
   ]
  },
  {
   "cell_type": "code",
   "execution_count": null,
   "id": "c8a1ec62-4283-4f82-999a-77c471daa6b5",
   "metadata": {},
   "outputs": [],
   "source": []
  },
  {
   "cell_type": "code",
   "execution_count": 18,
   "id": "c7bcb7bb-cc2d-4a85-ba70-989514358fa0",
   "metadata": {},
   "outputs": [
    {
     "name": "stdout",
     "output_type": "stream",
     "text": [
      "[1, 2, 3, 4, [9, 8]]\n"
     ]
    }
   ],
   "source": [
    "list1=[1,2,3,4,[9,8]]\n",
    "\n",
    "list2 = list1                      #  here we copy the list1 in list2\n",
    "\n",
    "print(list2)"
   ]
  },
  {
   "cell_type": "code",
   "execution_count": 59,
   "id": "816937ea-4f73-4946-947c-48f6144618bd",
   "metadata": {},
   "outputs": [
    {
     "name": "stdout",
     "output_type": "stream",
     "text": [
      "[1, 2, 3, 4, [9, 8, 'ashish']]\n"
     ]
    }
   ],
   "source": [
    "# now we make change in the nested list.\n",
    "\n",
    "list1=[1,2,3,4,[9,8]]\n",
    "\n",
    "list2=list1\n",
    "                                                                # this is shallow copy means we make change in the list1 and it will reflect \n",
    "                                                                              # in list2\n",
    "list2[4].append(\"ashish\")\n",
    "\n",
    "print(list2)\n"
   ]
  },
  {
   "cell_type": "code",
   "execution_count": 65,
   "id": "2a81ef87-0c00-4771-8fcf-79b74f89bb29",
   "metadata": {},
   "outputs": [],
   "source": [
    "# output of bothe list1 and list2 is same."
   ]
  },
  {
   "cell_type": "code",
   "execution_count": 67,
   "id": "51d68214-0a63-4253-b58c-fc23fa1f9a7d",
   "metadata": {},
   "outputs": [
    {
     "data": {
      "text/plain": [
       "[1, 2, 3, 4, [9, 8, 'ashish']]"
      ]
     },
     "execution_count": 67,
     "metadata": {},
     "output_type": "execute_result"
    }
   ],
   "source": [
    "list1"
   ]
  },
  {
   "cell_type": "code",
   "execution_count": 69,
   "id": "64c1c170-ac60-422c-a86c-a61d54e4e896",
   "metadata": {},
   "outputs": [
    {
     "data": {
      "text/plain": [
       "[1, 2, 3, 4, [9, 8, 'ashish']]"
      ]
     },
     "execution_count": 69,
     "metadata": {},
     "output_type": "execute_result"
    }
   ],
   "source": [
    "list2"
   ]
  },
  {
   "cell_type": "code",
   "execution_count": null,
   "id": "150173c7-7793-47a5-9fcd-606a54fc9139",
   "metadata": {},
   "outputs": [],
   "source": []
  },
  {
   "cell_type": "markdown",
   "id": "a87d11c2-117b-4de9-9fa4-65eca04c63f7",
   "metadata": {},
   "source": [
    "# Deep copy    -  when we make change in one copy and it does'nt chang the oyher list"
   ]
  },
  {
   "cell_type": "code",
   "execution_count": 73,
   "id": "bad6701b-c9ab-4728-b7ae-d98cb6245bbf",
   "metadata": {},
   "outputs": [
    {
     "name": "stdout",
     "output_type": "stream",
     "text": [
      "[1, 2, 3, 4, [8, 9]]\n"
     ]
    }
   ],
   "source": [
    "import copy\n",
    "\n",
    "list3=[1,2,3,4,[8,9]]\n",
    "\n",
    "list4=copy.deepcopy(list3)\n",
    "\n",
    "print(list4)"
   ]
  },
  {
   "cell_type": "code",
   "execution_count": 75,
   "id": "ea7dfaca-4fd2-44a4-8340-8ad167c510d2",
   "metadata": {},
   "outputs": [
    {
     "name": "stdout",
     "output_type": "stream",
     "text": [
      "[1, 2, 3, 4, [8, 9, 'ashish']]\n"
     ]
    }
   ],
   "source": [
    "# now we make change in list3\n",
    "\n",
    "list4[4].append(\"ashish\")\n",
    "print(list4)"
   ]
  },
  {
   "cell_type": "code",
   "execution_count": 77,
   "id": "57c8ea19-12d5-4a10-92c6-7131d44b76a7",
   "metadata": {},
   "outputs": [],
   "source": [
    "# here the output of list3 and list4 is differnt."
   ]
  },
  {
   "cell_type": "code",
   "execution_count": 79,
   "id": "51db9a18-7962-4bd6-8e49-d4490d7e79e7",
   "metadata": {},
   "outputs": [
    {
     "data": {
      "text/plain": [
       "[1, 2, 3, 4, [8, 9]]"
      ]
     },
     "execution_count": 79,
     "metadata": {},
     "output_type": "execute_result"
    }
   ],
   "source": [
    "list3"
   ]
  },
  {
   "cell_type": "code",
   "execution_count": 81,
   "id": "e17609ff-4185-4317-93d0-ab1c33a6c109",
   "metadata": {},
   "outputs": [
    {
     "data": {
      "text/plain": [
       "[1, 2, 3, 4, [8, 9, 'ashish']]"
      ]
     },
     "execution_count": 81,
     "metadata": {},
     "output_type": "execute_result"
    }
   ],
   "source": [
    "list4"
   ]
  },
  {
   "cell_type": "code",
   "execution_count": null,
   "id": "83b9eb9e-de83-4745-8df3-379de188a573",
   "metadata": {},
   "outputs": [],
   "source": []
  },
  {
   "cell_type": "markdown",
   "id": "13533376-16ba-48e5-bdb3-337000aca09d",
   "metadata": {},
   "source": [
    "# list comrehension  -  means writing codes in a short way."
   ]
  },
  {
   "cell_type": "code",
   "execution_count": 23,
   "id": "4d50dcf1-67a9-4432-ba12-1ea17d4a8925",
   "metadata": {},
   "outputs": [
    {
     "name": "stdout",
     "output_type": "stream",
     "text": [
      "[1, 4, 9, 16, 25, 36, 49, 64, 81]\n"
     ]
    }
   ],
   "source": [
    "list1=[1,2,3,4,5,6,7,8,9]\n",
    "list2=[]\n",
    "for item in list1:\n",
    "    list2.append(item*item)\n",
    "print(list2)"
   ]
  },
  {
   "cell_type": "code",
   "execution_count": 25,
   "id": "395470d4-adaf-4f0e-8f70-b3eb2403aae3",
   "metadata": {},
   "outputs": [
    {
     "name": "stdout",
     "output_type": "stream",
     "text": [
      "[1, 4, 9, 16, 25, 36, 49, 64, 81]\n"
     ]
    }
   ],
   "source": [
    "# now we make square through list comphrihension\n",
    "\n",
    "list3=[item*item for item in list1]          # for loop right side mai rehega and humara item left side mai.\n",
    "\n",
    "print(list3)\n"
   ]
  },
  {
   "cell_type": "code",
   "execution_count": 27,
   "id": "cb6c8ac0-f542-47d0-92fc-9c877147d1f2",
   "metadata": {},
   "outputs": [
    {
     "name": "stdout",
     "output_type": "stream",
     "text": [
      "[4, 16, 36, 64]\n"
     ]
    }
   ],
   "source": [
    "# now make squar of only even numbers in the list, using if condition\n",
    "# through normal method:\n",
    "\n",
    "list1=[1,2,3,4,5,6,7,8,9]\n",
    "list2=[]\n",
    "for item in list1:\n",
    "    if item%2==0:\n",
    "        list2.append(item*item)\n",
    "print(list2)"
   ]
  },
  {
   "cell_type": "code",
   "execution_count": 35,
   "id": "96e39200-23b2-4870-b597-08fc64e2ae3b",
   "metadata": {},
   "outputs": [
    {
     "name": "stdout",
     "output_type": "stream",
     "text": [
      "[4, 16, 36, 64]\n"
     ]
    }
   ],
   "source": [
    "# through list cophrehension: using if condition\n",
    "\n",
    "list4=[ item*item for item in list1 if item%2==0 ]\n",
    "\n",
    "print(list4)"
   ]
  },
  {
   "cell_type": "code",
   "execution_count": 43,
   "id": "df7d0460-7016-4c3a-af7f-ac601802823a",
   "metadata": {},
   "outputs": [
    {
     "name": "stdout",
     "output_type": "stream",
     "text": [
      "[4, 4, 12, 16, 20, 36, 28, 64, 36]\n"
     ]
    }
   ],
   "source": [
    "# using else condition.\n",
    "# else: item*4\n",
    "\n",
    "list4=[ item*item if item%2==0 else (item*4) for item in list1  ]\n",
    "\n",
    "print(list4)"
   ]
  },
  {
   "cell_type": "code",
   "execution_count": 55,
   "id": "6dc1de27-9d73-43ef-b92e-dfadc4058863",
   "metadata": {},
   "outputs": [
    {
     "data": {
      "text/plain": [
       "[1, 2, 3, 4, 5]"
      ]
     },
     "execution_count": 55,
     "metadata": {},
     "output_type": "execute_result"
    }
   ],
   "source": [
    "# making negative items into positive through list comphrihension.\n",
    "\n",
    "listA=[1,2,-3,-4,-5]\n",
    "listB=[]\n",
    "\n",
    "listB=[item*(-1) if item<0 else(item*1) for item in listA ]\n",
    "\n",
    "listB"
   ]
  },
  {
   "cell_type": "code",
   "execution_count": 57,
   "id": "1fcffcd6-ce24-411a-a424-65d5f31fe02d",
   "metadata": {},
   "outputs": [
    {
     "name": "stdout",
     "output_type": "stream",
     "text": [
      "2\n",
      "4\n",
      "6\n",
      "18\n"
     ]
    }
   ],
   "source": [
    "listC=[1,2,3,4,5,6]\n",
    "listD=[]\n",
    "\n",
    "for item in listC:\n",
    "    if item<=3:\n",
    "        print(item*2)\n",
    "    elif item>5:\n",
    "        print(item*3)\n",
    "        "
   ]
  },
  {
   "cell_type": "code",
   "execution_count": 73,
   "id": "9bfcca4a-9a39-4935-910f-d241b3f7c3c8",
   "metadata": {},
   "outputs": [],
   "source": [
    "listD = [item*2 if item <= 3 else item*3 for item in listC]"
   ]
  },
  {
   "cell_type": "code",
   "execution_count": 75,
   "id": "7907fe3d-af27-49a8-a004-880abbb8ff62",
   "metadata": {},
   "outputs": [
    {
     "data": {
      "text/plain": [
       "[2, 4, 6, 12, 15, 18]"
      ]
     },
     "execution_count": 75,
     "metadata": {},
     "output_type": "execute_result"
    }
   ],
   "source": [
    "listD\n"
   ]
  },
  {
   "cell_type": "code",
   "execution_count": null,
   "id": "2a706568-8d21-45bc-bb63-e30865377ae8",
   "metadata": {},
   "outputs": [],
   "source": []
  }
 ],
 "metadata": {
  "kernelspec": {
   "display_name": "Python 3 (ipykernel)",
   "language": "python",
   "name": "python3"
  },
  "language_info": {
   "codemirror_mode": {
    "name": "ipython",
    "version": 3
   },
   "file_extension": ".py",
   "mimetype": "text/x-python",
   "name": "python",
   "nbconvert_exporter": "python",
   "pygments_lexer": "ipython3",
   "version": "3.12.7"
  }
 },
 "nbformat": 4,
 "nbformat_minor": 5
}
