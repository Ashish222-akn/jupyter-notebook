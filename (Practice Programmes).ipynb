{
 "cells": [
  {
   "cell_type": "markdown",
   "id": "ee21b77a-cfac-4ae8-9c1d-4b332f194624",
   "metadata": {},
   "source": [
    "# 1. Electricity bill Calculation."
   ]
  },
  {
   "cell_type": "code",
   "execution_count": 27,
   "id": "7609d37d-bb92-4780-8963-0326226eb559",
   "metadata": {},
   "outputs": [
    {
     "name": "stdin",
     "output_type": "stream",
     "text": [
      "enter units of electricity 350\n"
     ]
    },
    {
     "name": "stdout",
     "output_type": "stream",
     "text": [
      "2000\n"
     ]
    }
   ],
   "source": [
    "\n",
    "electricity_units=int(input(\"enter units of electricity\"))\n",
    "if electricity_units <= 100:\n",
    "    print(\"zero charge\")\n",
    "elif electricity_units>=100 and electricity_units<=200:\n",
    "    print(electricity_units*5)\n",
    "elif electricity_units>=200:\n",
    "    print((electricity_units-150)*10)\n"
   ]
  },
  {
   "cell_type": "markdown",
   "id": "beb2bb42-77eb-4fae-a550-d736e63ebe87",
   "metadata": {},
   "source": [
    "# 2.grade system"
   ]
  },
  {
   "cell_type": "code",
   "execution_count": 11,
   "id": "c84a7c63-5725-4c37-8ab5-2baf54d28d98",
   "metadata": {},
   "outputs": [
    {
     "name": "stdin",
     "output_type": "stream",
     "text": [
      "enter your percentage 90\n"
     ]
    },
    {
     "name": "stdout",
     "output_type": "stream",
     "text": [
      "grade-A\n"
     ]
    }
   ],
   "source": [
    "percentage=float(int(input(\"enter your percentage\")))\n",
    "if percentage>=90:\n",
    "    print(\"grade-A\")\n",
    "elif percentage>80 and percentage<=90:\n",
    "    print(\"grade-B\")\n",
    "elif percentage>=60 and percentage<=80:\n",
    "    print(\"grade-C\")\n",
    "else:\n",
    "    print(\"grade-D\")\n"
   ]
  },
  {
   "cell_type": "markdown",
   "id": "aa997eac-10c6-4386-af6a-02fa5b2e0a03",
   "metadata": {},
   "source": [
    "# 3.WHO is the youngest"
   ]
  },
  {
   "cell_type": "code",
   "execution_count": 19,
   "id": "ecaf97b9-f84b-46ec-952f-1b8b9c09ab4b",
   "metadata": {},
   "outputs": [
    {
     "name": "stdin",
     "output_type": "stream",
     "text": [
      "enter your age 23\n",
      "enter your age 34\n",
      "enter your age 45\n",
      "enter your age 56\n"
     ]
    },
    {
     "name": "stdout",
     "output_type": "stream",
     "text": [
      "first user is youngest\n"
     ]
    }
   ],
   "source": [
    "first_user_age=int(input(\"enter your age\"))\n",
    "second_user_age=int(input(\"enter your age\"))\n",
    "third_user_age=int(input(\"enter your age\"))\n",
    "fourth_user_age=int(input(\"enter your age\"))\n",
    "if first_user_age<second_user_age and third_user_age and fourth_user_age:\n",
    "    print(\"first user is youngest\")\n",
    "if second_user_age<first_user_age and third_user_age and fourth_user_age:\n",
    "    print(\"second user is youngest\")\n",
    "if third_user_age<second_user_age and first_user_age and fourth_user_age:\n",
    "    print(\"third user is youngest\")\n",
    "if fourth_user_age<second_user_age and third_user_age and first_user_age:\n",
    "    print(\"fourth user is youngest\")\n"
   ]
  },
  {
   "cell_type": "markdown",
   "id": "21cc8781-1069-4a79-ac58-11f560a28dce",
   "metadata": {},
   "source": [
    " # 4. bonus to employes"
   ]
  },
  {
   "cell_type": "code",
   "execution_count": 23,
   "id": "5f9e2fc9-016d-42ec-b139-309f68e5f0e1",
   "metadata": {},
   "outputs": [
    {
     "name": "stdin",
     "output_type": "stream",
     "text": [
      "enter your salary 50000\n",
      "enter your service time 6\n"
     ]
    },
    {
     "name": "stdout",
     "output_type": "stream",
     "text": [
      "54000.0\n"
     ]
    }
   ],
   "source": [
    "user_salary=int(input(\"enter your salary\"))\n",
    "service_time=int(input(\"enter your service time\"))\n",
    "if service_time>=10:\n",
    "    print((user_salary)+(user_salary*10)/100)\n",
    "elif service_time>=6 and service_time<=10:\n",
    "    print((user_salary)+(user_salary*8)/100)\n",
    "else:\n",
    "    print((user_salary)+(user_salary*5)/100)"
   ]
  },
  {
   "cell_type": "markdown",
   "id": "4a495b06-39a4-48d4-b43a-0121cabf3487",
   "metadata": {},
   "source": [
    "# 5. number is divisible by 5 or not"
   ]
  },
  {
   "cell_type": "code",
   "execution_count": 27,
   "id": "80d5cbb4-48dd-4d28-beec-16c3dae0ccd5",
   "metadata": {},
   "outputs": [
    {
     "name": "stdin",
     "output_type": "stream",
     "text": [
      "enter any number 55\n"
     ]
    },
    {
     "name": "stdout",
     "output_type": "stream",
     "text": [
      "hello\n"
     ]
    }
   ],
   "source": [
    "num=int(input(\"enter any number\"))\n",
    "rem=num%10\n",
    "if rem%5==0:\n",
    "    print(\"hello\")\n",
    "else: print(\"bye\")"
   ]
  },
  {
   "cell_type": "markdown",
   "id": "354b73b6-b165-4e63-b9df-e45d8e172ccb",
   "metadata": {},
   "source": [
    "# 6. Print first largest and second largest number enter by user i the list"
   ]
  },
  {
   "cell_type": "code",
   "execution_count": 35,
   "id": "96111022-4e19-46cf-989c-e09cd719a5e6",
   "metadata": {},
   "outputs": [
    {
     "name": "stdout",
     "output_type": "stream",
     "text": [
      "Second Largest Number: 88\n",
      "Smallest Number: 11\n"
     ]
    }
   ],
   "source": [
    "list1=[44,66,22,77,88,11,99,44]\n",
    "list1.sort()\n",
    "print(\"Second Largest Number:\",  list1[-2])\n",
    "print(\"Smallest Number:\", list1[0])\n",
    "\n"
   ]
  },
  {
   "cell_type": "markdown",
   "id": "f6b3995e-658e-4767-9df0-5d7abd226901",
   "metadata": {},
   "source": [
    " # 7. to calculate net amount payable by the consumer , by input marked price"
   ]
  },
  {
   "cell_type": "code",
   "execution_count": 72,
   "id": "a2dc3024-529f-43f2-be5c-130d5b95087f",
   "metadata": {},
   "outputs": [
    {
     "name": "stdin",
     "output_type": "stream",
     "text": [
      "enter marked price of item 20\n"
     ]
    },
    {
     "name": "stdout",
     "output_type": "stream",
     "text": [
      "18.0\n"
     ]
    }
   ],
   "source": [
    "marked_price=int(input(\"enter marked price of item\"))\n",
    "if marked_price>10000:\n",
    "    print(marked_price-((marked_price*20)/100))\n",
    "elif marked_price>7000 and marked_price<=10000:\n",
    "    print(marked_price-((marked_price*15)/100))\n",
    "else:\n",
    "     print(marked_price-((marked_price*10)/100))\n"
   ]
  },
  {
   "cell_type": "markdown",
   "id": "0381b1a3-810d-42b4-a3ac-6cbe9f94454f",
   "metadata": {},
   "source": [
    "# 8. imput marks of students and allots them streams"
   ]
  },
  {
   "cell_type": "code",
   "execution_count": 93,
   "id": "1dcbff59-396b-4279-8a75-1f32a3c1885b",
   "metadata": {},
   "outputs": [
    {
     "name": "stdin",
     "output_type": "stream",
     "text": [
      "enter marks of MATHS 60\n",
      "enter marks of SCIENCE 60\n",
      "enter marks of SOCIAL STUDIES 33\n",
      "enter marks of ENGLISH 89\n"
     ]
    },
    {
     "name": "stdout",
     "output_type": "stream",
     "text": [
      "Stream : commerce\n"
     ]
    }
   ],
   "source": [
    "maths_marks=int(input(\"enter marks of MATHS\"))\n",
    "science_marks=int(input(\"enter marks of SCIENCE\"))\n",
    "social_studies_marks=int(input(\"enter marks of SOCIAL STUDIES\"))\n",
    "english_marks=int(input(\"enter marks of ENGLISH\"))\n",
    "if maths_marks>80 and science_marks>80 and social_studies_marks>80 and english_marks>80:\n",
    "    print(\"Stream : Science\")\n",
    "elif english_marks>80 and maths_marks>50 and science_marks>50:\n",
    "    print(\"Stream : commerce\")\n",
    "else: \n",
    "    print(\"Stream : humanities\")"
   ]
  },
  {
   "cell_type": "markdown",
   "id": "12541770-6eba-437d-bfc0-5d22a0128612",
   "metadata": {},
   "source": [
    "# 9. check wheather the number is divisible by 3 or not"
   ]
  },
  {
   "cell_type": "code",
   "execution_count": 116,
   "id": "3bf82e13-1f67-449e-87ca-24070835521c",
   "metadata": {},
   "outputs": [
    {
     "name": "stdin",
     "output_type": "stream",
     "text": [
      "enter a number 26663667\n"
     ]
    },
    {
     "name": "stdout",
     "output_type": "stream",
     "text": [
      "number is not divisible by 3\n"
     ]
    }
   ],
   "source": [
    "number=int(input(\"enter a number\"))\n",
    "rem=number%10\n",
    "if rem%3==0:\n",
    "    print (\"number is divisible by 3\")\n",
    "else:\n",
    "    print(\"number is not divisible by 3\")"
   ]
  },
  {
   "cell_type": "markdown",
   "id": "f32ca536-85e2-4a1a-b216-29c192a8bb37",
   "metadata": {},
   "source": [
    "# 10. to check wheather the entered number is thee digit or not"
   ]
  },
  {
   "cell_type": "code",
   "execution_count": 140,
   "id": "29da524f-6840-4678-aa58-71530fa0c61a",
   "metadata": {},
   "outputs": [
    {
     "name": "stdin",
     "output_type": "stream",
     "text": [
      "enter any number 999\n"
     ]
    },
    {
     "name": "stdout",
     "output_type": "stream",
     "text": [
      "YES it is three digit number \n"
     ]
    }
   ],
   "source": [
    "num1=int(input(\"enter any number\"))\n",
    "if num1>99 and num1<1000:\n",
    "    print(\"YES it is three digit number \")\n",
    "else:\n",
    "    print(\"NO it is NOT three digit number \")"
   ]
  },
  {
   "cell_type": "markdown",
   "id": "60318d76-936f-49a6-a469-559c756ecc81",
   "metadata": {},
   "source": [
    "# 11. leap year "
   ]
  },
  {
   "cell_type": "code",
   "execution_count": 9,
   "id": "f2ab7db1-482f-4d14-befa-21ec8fef9ec4",
   "metadata": {},
   "outputs": [
    {
     "name": "stdout",
     "output_type": "stream",
     "text": [
      "200 is not a leap year\n"
     ]
    }
   ],
   "source": [
    "year = 200\n",
    "\n",
    "\n",
    "if (year % 400 == 0) and (year % 100 == 0):\n",
    "    print(\"{0} is a leap year\".format(year))\n",
    "    \n",
    "elif (year % 4 ==0) and (year % 100 != 0):\n",
    "    print(\"{0} is a leap year\".format(year))\n",
    "else:\n",
    "    print(\"{0} is not a leap year\".format(year))"
   ]
  },
  {
   "cell_type": "markdown",
   "id": "35c3fce4-b855-4cef-87bf-3bcb068d58ac",
   "metadata": {},
   "source": [
    "# 12- To calculate area of triangle."
   ]
  },
  {
   "cell_type": "code",
   "execution_count": 5,
   "id": "03f242d1-a4c7-4a25-8215-c3160cbb83b8",
   "metadata": {},
   "outputs": [
    {
     "name": "stdin",
     "output_type": "stream",
     "text": [
      "enter first side of triangle 3\n",
      "enter second side of triangle 8\n",
      "enter third side of triangle 9\n"
     ]
    },
    {
     "name": "stdout",
     "output_type": "stream",
     "text": [
      "Area of Triangle is 11.832159566199232\n"
     ]
    }
   ],
   "source": [
    "# area of triangle by heronse formulae.\n",
    "\n",
    "import math\n",
    "\n",
    "first_side=float(input(\"enter first side of triangle\"))\n",
    "second_side=float(input(\"enter second side of triangle\"))\n",
    "third_side=float(input(\"enter third side of triangle\"))\n",
    "\n",
    "perimeter=((first_side+second_side+third_side)/2)\n",
    "\n",
    "area_of_triangle= math.sqrt( perimeter*((perimeter-first_side)*(perimeter-second_side)*(perimeter-third_side)))\n",
    "\n",
    "print(f\"Area of Triangle is {area_of_triangle}\")"
   ]
  },
  {
   "cell_type": "code",
   "execution_count": null,
   "id": "2fb53b4e-481b-4552-8fbf-b2f4a7b1cab0",
   "metadata": {},
   "outputs": [],
   "source": [
    "# area of triangle \n",
    "\n",
    "a=float(input(\"height of triangle\"))\n",
    "b=float(input(\"base of triangle\"))\n",
    "c=(a*b)/2\n",
    "print(\"area of triangle\",c)"
   ]
  },
  {
   "cell_type": "markdown",
   "id": "62095aa9-3a0b-449e-b7cb-af16b7ec573e",
   "metadata": {},
   "source": [
    "# 13- To check number is even or odd"
   ]
  },
  {
   "cell_type": "code",
   "execution_count": 7,
   "id": "a16282c3-3873-490b-92fb-ce304a3f6473",
   "metadata": {},
   "outputs": [
    {
     "name": "stdin",
     "output_type": "stream",
     "text": [
      "Enter any number : 45\n"
     ]
    },
    {
     "name": "stdout",
     "output_type": "stream",
     "text": [
      "45: is ODD number\n"
     ]
    }
   ],
   "source": [
    "user_input=int(input(\"Enter any number :\"))\n",
    "if user_input % 2 == 0 :\n",
    "    print(f\"{user_input}: is EVEN number\")\n",
    "else:\n",
    "    print(f\"{user_input}: is ODD number\")\n"
   ]
  },
  {
   "cell_type": "markdown",
   "id": "dde1a6a8-3dc0-409a-9c60-77403933ae0d",
   "metadata": {},
   "source": [
    "# 14- sum of first natural numbers"
   ]
  },
  {
   "cell_type": "code",
   "execution_count": 71,
   "id": "4878c02f-75bf-4a3f-b049-cd23515e073b",
   "metadata": {},
   "outputs": [
    {
     "name": "stdin",
     "output_type": "stream",
     "text": [
      "enter any number 3\n"
     ]
    },
    {
     "name": "stdout",
     "output_type": "stream",
     "text": [
      "sum of first 3 natural number is 6\n"
     ]
    }
   ],
   "source": [
    "number=int(input(\"enter any number\"))\n",
    "sum_of_number=0\n",
    "i=1\n",
    "while i <= number:\n",
    "    sum_of_number=sum_of_number+i\n",
    "    i=i+1\n",
    "print(f\"sum of first {number} natural number is {sum_of_number}\")\n",
    "    "
   ]
  },
  {
   "cell_type": "code",
   "execution_count": null,
   "id": "7e4bead8-1aa1-4f32-8ec5-f4013324bc84",
   "metadata": {},
   "outputs": [],
   "source": []
  },
  {
   "cell_type": "code",
   "execution_count": null,
   "id": "3756450f-695a-4971-b3ba-795a43dc0039",
   "metadata": {},
   "outputs": [],
   "source": []
  }
 ],
 "metadata": {
  "kernelspec": {
   "display_name": "Python 3 (ipykernel)",
   "language": "python",
   "name": "python3"
  },
  "language_info": {
   "codemirror_mode": {
    "name": "ipython",
    "version": 3
   },
   "file_extension": ".py",
   "mimetype": "text/x-python",
   "name": "python",
   "nbconvert_exporter": "python",
   "pygments_lexer": "ipython3",
   "version": "3.12.7"
  }
 },
 "nbformat": 4,
 "nbformat_minor": 5
}
