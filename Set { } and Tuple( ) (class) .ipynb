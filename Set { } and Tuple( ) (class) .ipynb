{
 "cells": [
  {
   "cell_type": "markdown",
   "id": "eea990c4-9e74-4a57-ac6d-81bf50a97de5",
   "metadata": {},
   "source": [
    "#    set {}  -  In Python, a set is a built-in data structure that is used to store an unordered collection of unique elements. This means that each element in a set is unique and cannot appear more than once."
   ]
  },
  {
   "cell_type": "raw",
   "id": "c15c7523-170f-4aaf-9780-a3fdf2bfa58f",
   "metadata": {},
   "source": [
    "#  charactherstics\n",
    "\n",
    " Unordered: \n",
    "The elements in a set do not have a specific order. This means that when you iterate over a set, the elements may appear in a different order than you added them.\n",
    "\n",
    "Unique Elements: \n",
    "Sets automatically ensure that all elements are unique. If you try to add a duplicate element, it will not be included in the set.\n",
    "\n",
    "*Mutable: \n",
    "Sets can be modified after creation. You can add or remove elements from a set.\n",
    "\n",
    "No Indexing: \n",
    "Since sets are unordered, they do not support indexing, slicing, or other sequence-like behavior."
   ]
  },
  {
   "cell_type": "code",
   "execution_count": 5,
   "id": "2cc291ef-4d5f-4e24-bced-2a5f89f409ba",
   "metadata": {},
   "outputs": [
    {
     "name": "stdout",
     "output_type": "stream",
     "text": [
      "<class 'set'>\n"
     ]
    }
   ],
   "source": [
    "# creating set \n",
    "set1={1,}                           # if we give nothing in the {} the it became dictionary,\n",
    "print(type(set1))"
   ]
  },
  {
   "cell_type": "code",
   "execution_count": 7,
   "id": "c0084bac-a817-4ab2-9e04-74806f80a32c",
   "metadata": {},
   "outputs": [
    {
     "name": "stdout",
     "output_type": "stream",
     "text": [
      "<class 'set'>\n"
     ]
    }
   ],
   "source": [
    "# creating set by constructor\n",
    "set2=set()\n",
    "print(type(set2))"
   ]
  },
  {
   "cell_type": "markdown",
   "id": "a1b0c2c0-396a-4cf9-8018-d8c0765e0cf5",
   "metadata": {},
   "source": [
    "#"
   ]
  },
  {
   "cell_type": "markdown",
   "id": "3e510aa4-90a7-41d2-bcb1-4002c7cbe6de",
   "metadata": {},
   "source": [
    "#   set {} Methods."
   ]
  },
  {
   "cell_type": "markdown",
   "id": "56a26a60-db43-4c8c-8933-12878e498a5f",
   "metadata": {},
   "source": [
    "#"
   ]
  },
  {
   "cell_type": "markdown",
   "id": "11e6ef27-cd7b-4bb3-a873-7d5768c9e5b7",
   "metadata": {},
   "source": [
    "# 1) - add   (it will add an elements in the end of the set. )"
   ]
  },
  {
   "cell_type": "code",
   "execution_count": 17,
   "id": "561c67c5-ca8a-4af4-b010-d6c0352fe970",
   "metadata": {},
   "outputs": [
    {
     "name": "stdout",
     "output_type": "stream",
     "text": [
      "{1, 2, 3, 4, 5, 6, 7, 8, 9}\n"
     ]
    }
   ],
   "source": [
    "set1={1,2,3,4,5,6,7}\n",
    "\n",
    "set1.add(8)                        # addind 8 and 9 in the set.\n",
    "set1.add(9)\n",
    "\n",
    "print(set1)\n"
   ]
  },
  {
   "cell_type": "markdown",
   "id": "1e9cc4f5-879c-49d7-b8c0-2de657050a6e",
   "metadata": {},
   "source": [
    "# 2) clear   - (it will remove all the elements of the cell and return empty cell )"
   ]
  },
  {
   "cell_type": "code",
   "execution_count": 20,
   "id": "c8c2868e-9b19-4ba0-a83a-457a267506ca",
   "metadata": {},
   "outputs": [
    {
     "name": "stdout",
     "output_type": "stream",
     "text": [
      "set()\n"
     ]
    }
   ],
   "source": [
    "set1={1,2,3,4,5,6,7}\n",
    "\n",
    "set1.clear()\n",
    "\n",
    "print(set1)"
   ]
  },
  {
   "cell_type": "markdown",
   "id": "59d91912-c66f-4734-8389-44a401a8dcf4",
   "metadata": {},
   "source": [
    "# 3) copy   -  ( it will copy the set. )"
   ]
  },
  {
   "cell_type": "code",
   "execution_count": 23,
   "id": "19f3dd45-86fa-4b1a-8c8b-b14725274038",
   "metadata": {},
   "outputs": [
    {
     "name": "stdout",
     "output_type": "stream",
     "text": [
      "{1, 2, 3, 4, 5, 6, 7}\n"
     ]
    }
   ],
   "source": [
    "set1={1,2,3,4,5,6,7}\n",
    "\n",
    "set1.copy()\n",
    "\n",
    "print(set1)"
   ]
  },
  {
   "cell_type": "markdown",
   "id": "1b5ad2f2-b9fb-4d9e-bafd-063b712727e3",
   "metadata": {},
   "source": [
    "# 4) difference -  ( it will give the difference ,means the non common elements in new set (set3).)"
   ]
  },
  {
   "cell_type": "code",
   "execution_count": 73,
   "id": "afcd2657-7541-4a97-a74c-06e4345029d9",
   "metadata": {},
   "outputs": [
    {
     "name": "stdout",
     "output_type": "stream",
     "text": [
      "{2, 4, 6, 7}\n"
     ]
    }
   ],
   "source": [
    "set1={1,2,3,4,5,6,7}\n",
    "set2={1,3,9,9,5}\n",
    "\n",
    "set3=set1.difference(set2)\n",
    "\n",
    "print(set3)"
   ]
  },
  {
   "cell_type": "markdown",
   "id": "9e8be0d6-edfa-4603-931d-048604d1e84f",
   "metadata": {},
   "source": [
    "# 5) - difference_update    (it will remove the common elemnets and return the remaining elemants  )"
   ]
  },
  {
   "cell_type": "code",
   "execution_count": 55,
   "id": "6bccdee8-bc21-45d6-9a67-8b34e9f77a8e",
   "metadata": {},
   "outputs": [
    {
     "name": "stdout",
     "output_type": "stream",
     "text": [
      "{2, 4, 6, 7}\n"
     ]
    }
   ],
   "source": [
    "set1={1,2,3,4,5,6,7}\n",
    "set2={1,3,9,9,5}\n",
    "\n",
    "set1.difference_update(set2)          # here it remove the 1,3,5 from set1 because they are also present in set2.\n",
    "\n",
    "print(set1)\n"
   ]
  },
  {
   "cell_type": "code",
   "execution_count": 57,
   "id": "0c39c659-6406-494d-9bcf-a4a58662c12e",
   "metadata": {},
   "outputs": [
    {
     "name": "stdout",
     "output_type": "stream",
     "text": [
      "{8, 9}\n"
     ]
    }
   ],
   "source": [
    "set1={1,2,3,4,5,6,7}\n",
    "set2={1,3,9,9,8,5}\n",
    "\n",
    "set2.difference_update(set1)          # here it remove the 1,3,5 from set2 because they are also present in set1.\n",
    "                                          # and it give only 9,8 not 9,9,8 because repeate values not allowed in set.\n",
    "print(set2)"
   ]
  },
  {
   "cell_type": "markdown",
   "id": "e235779d-4194-45c4-8573-0bb80693f63b",
   "metadata": {},
   "source": [
    "# 6)-  discard     (it will remove the elements for the set by providing the element in() )"
   ]
  },
  {
   "cell_type": "code",
   "execution_count": 59,
   "id": "b05cd6d2-5dbb-4cd2-bda3-55df8d23c8f1",
   "metadata": {},
   "outputs": [
    {
     "name": "stdout",
     "output_type": "stream",
     "text": [
      "{1, 2, 4, 5, 6, 7}\n"
     ]
    }
   ],
   "source": [
    "set1={1,2,3,4,5,6,7}\n",
    "set2={1,3,9,9,8,5}\n",
    "\n",
    "set1.discard(3)\n",
    "\n",
    "print(set1)"
   ]
  },
  {
   "cell_type": "markdown",
   "id": "d4dea350-b7e9-4483-b76b-e2a3c4c4f0e4",
   "metadata": {},
   "source": [
    "# 7) intersection     -(it will return the common elements in the sets in the new set. )"
   ]
  },
  {
   "cell_type": "code",
   "execution_count": 62,
   "id": "7e8e55ea-58f4-4434-8720-15938abf048c",
   "metadata": {},
   "outputs": [
    {
     "name": "stdout",
     "output_type": "stream",
     "text": [
      "{1, 3, 5}\n"
     ]
    }
   ],
   "source": [
    "set1={1,2,3,4,5,6,7}\n",
    "set2={1,3,9,9,8,5}\n",
    "\n",
    "set3=set1.intersection(set2)              # 1,3,5 are the comman elements in both the sets.\n",
    "\n",
    "print(set3)"
   ]
  },
  {
   "cell_type": "markdown",
   "id": "b2298f4d-dd97-4eb6-9538-c9172b1ae987",
   "metadata": {},
   "source": [
    "# 8) intersection_update   -  ( it will return the comman elements in the sets )"
   ]
  },
  {
   "cell_type": "code",
   "execution_count": 78,
   "id": "a3db0b39-7c9d-49f6-a84e-7d0709cd9bd6",
   "metadata": {},
   "outputs": [
    {
     "name": "stdout",
     "output_type": "stream",
     "text": [
      "{1, 3, 5}\n"
     ]
    }
   ],
   "source": [
    "set1={1,2,3,4,5,6,7}\n",
    "set2={1,3,9,9,8,5}\n",
    "set1.intersection_update(set2)\n",
    "print(set1)"
   ]
  },
  {
   "cell_type": "code",
   "execution_count": 92,
   "id": "8478ebfd-c996-4256-9c68-cb790d7cb721",
   "metadata": {},
   "outputs": [
    {
     "name": "stdout",
     "output_type": "stream",
     "text": [
      "{1, 3, 5}\n"
     ]
    }
   ],
   "source": [
    "set1={1,2,3,4,5,6,7}\n",
    "set2={1,3,9,9,8,5}\n",
    "set2.intersection_update(set1)\n",
    "print(set2)"
   ]
  },
  {
   "cell_type": "markdown",
   "id": "5039cde3-e006-4965-9766-7d40a35040d9",
   "metadata": {},
   "source": [
    "# 8) isdisjoint   -(  it will return True or False on the basis of comman or non commman elenents in the sets.)"
   ]
  },
  {
   "cell_type": "code",
   "execution_count": 99,
   "id": "d2fee90c-5646-419f-881c-3e06fbf20f0e",
   "metadata": {},
   "outputs": [
    {
     "data": {
      "text/plain": [
       "False"
      ]
     },
     "execution_count": 99,
     "metadata": {},
     "output_type": "execute_result"
    }
   ],
   "source": [
    "set1={1,2,3,4,}\n",
    "set2={1,2,4,6}\n",
    "                           # it will return False if common valuse present in the sets.\n",
    "set1.isdisjoint(set2)\n",
    "\n"
   ]
  },
  {
   "cell_type": "code",
   "execution_count": 101,
   "id": "54ab6abd-ca2f-4804-b0e8-e8ff25c209da",
   "metadata": {},
   "outputs": [
    {
     "data": {
      "text/plain": [
       "True"
      ]
     },
     "execution_count": 101,
     "metadata": {},
     "output_type": "execute_result"
    }
   ],
   "source": [
    "set1={1,2,3,4}\n",
    "set2={5,6,7,8}\n",
    "                           # it will return True if common valuse is not present in the sets.\n",
    "set1.isdisjoint(set2)"
   ]
  },
  {
   "cell_type": "markdown",
   "id": "6dafbb46-20a5-4c3b-a4c0-264d3fd29fd0",
   "metadata": {},
   "source": [
    "# 9) issubset  -   ( it will return True when all the elements of a set id present in another set and vise versa.)"
   ]
  },
  {
   "cell_type": "code",
   "execution_count": 110,
   "id": "4c940e07-c4df-4ef6-a03e-7f7778b09897",
   "metadata": {},
   "outputs": [
    {
     "data": {
      "text/plain": [
       "True"
      ]
     },
     "execution_count": 110,
     "metadata": {},
     "output_type": "execute_result"
    }
   ],
   "source": [
    "set1={1,2,3,4,}\n",
    "set2={1,2,4,3}\n",
    "                         # all elements are comman in boyhe the sets \n",
    "                              # so it return 'TRUE'\n",
    "set1.issubset(set2)"
   ]
  },
  {
   "cell_type": "code",
   "execution_count": 112,
   "id": "fa8001eb-309d-49fc-b04d-205b65d4ac37",
   "metadata": {},
   "outputs": [
    {
     "data": {
      "text/plain": [
       "False"
      ]
     },
     "execution_count": 112,
     "metadata": {},
     "output_type": "execute_result"
    }
   ],
   "source": [
    "set1={1,2,3,4,}\n",
    "set2={1,2,3,5}\n",
    "                         # all elements are not comman in both the sets \n",
    "                              # so it return 'FALSE'\n",
    "set1.issubset(set2)"
   ]
  },
  {
   "cell_type": "markdown",
   "id": "2907567b-cb43-4e6b-89df-b7ec718c99b0",
   "metadata": {},
   "source": [
    "# 10)    -  (  return true whwn all the elements are comman in bothe the se # or return false when elements are different "
   ]
  },
  {
   "cell_type": "code",
   "execution_count": 114,
   "id": "06ddcf4f-eeaf-4b5c-b8b4-6a3384c5e875",
   "metadata": {},
   "outputs": [
    {
     "data": {
      "text/plain": [
       "True"
      ]
     },
     "execution_count": 114,
     "metadata": {},
     "output_type": "execute_result"
    }
   ],
   "source": [
    "set1={1,2,3,4,}\n",
    "set2={1,2,4,3}\n",
    "\n",
    "set1.issuperset(set2)\n"
   ]
  },
  {
   "cell_type": "code",
   "execution_count": 116,
   "id": "4d37f342-ad7e-4555-8ecb-099d178afd74",
   "metadata": {},
   "outputs": [
    {
     "data": {
      "text/plain": [
       "False"
      ]
     },
     "execution_count": 116,
     "metadata": {},
     "output_type": "execute_result"
    }
   ],
   "source": [
    "set1={1,2,3,4}\n",
    "set2={5,6,7,8}\n",
    "\n",
    "set1.issuperset(set2)"
   ]
  },
  {
   "cell_type": "markdown",
   "id": "3eee39fb-c7d8-49ff-866c-585b1cfa884b",
   "metadata": {},
   "source": [
    "# 11) pop  -  (it will remove the random element from the set)"
   ]
  },
  {
   "cell_type": "code",
   "execution_count": 119,
   "id": "c81c4b65-93d0-4e66-98ea-9bf1187903fe",
   "metadata": {},
   "outputs": [
    {
     "name": "stdout",
     "output_type": "stream",
     "text": [
      "{2, 3, 55, 44, 343}\n"
     ]
    }
   ],
   "source": [
    "# Python set pop() removes any random element from the set and returns the removed element.\n",
    "\n",
    "my_set1={1,343,44,55,2,3}      \n",
    "\n",
    "my_set1.pop()\n",
    "\n",
    "print(my_set1)"
   ]
  },
  {
   "cell_type": "markdown",
   "id": "89c38289-66f1-46ca-8151-c7e775a88d58",
   "metadata": {},
   "source": [
    "# 12) remove   -  (it will remove the element if the elements in the set. other wise ti will give error ,but  discard () does't show error,  )\n",
    "# even the element is not present in the set"
   ]
  },
  {
   "cell_type": "code",
   "execution_count": 128,
   "id": "294a688a-2440-44ed-9c97-9dcdb256a094",
   "metadata": {},
   "outputs": [
    {
     "name": "stdout",
     "output_type": "stream",
     "text": [
      "{1, 44, 343}\n"
     ]
    }
   ],
   "source": [
    "my_set1={1,343,44,55}\n",
    "my_set1.remove(55)     # if item not found in the set throws  error\n",
    "print(my_set1)"
   ]
  },
  {
   "cell_type": "markdown",
   "id": "3cd47101-848b-42e5-a2a8-9fe14ac435d6",
   "metadata": {},
   "source": [
    "# 13) symmetric_difference  -  ( it return the non comman elements in bothe the sets. )"
   ]
  },
  {
   "cell_type": "code",
   "execution_count": 157,
   "id": "5fb90b71-60ef-4b16-bf72-7dae1d989df7",
   "metadata": {},
   "outputs": [
    {
     "data": {
      "text/plain": [
       "{3, 6}"
      ]
     },
     "execution_count": 157,
     "metadata": {},
     "output_type": "execute_result"
    }
   ],
   "source": [
    "set1={1,2,3,4,}\n",
    "set2={1,2,4,6}\n",
    "\n",
    "set1.symmetric_difference(set2)"
   ]
  },
  {
   "cell_type": "markdown",
   "id": "5a439ea6-2426-4652-b459-10bc16a012b5",
   "metadata": {},
   "source": [
    "# 14) symmetric_difference_update  -  ( it will update the elemants of one sets with thw non comman elements of other set )"
   ]
  },
  {
   "cell_type": "code",
   "execution_count": 150,
   "id": "5c75216a-94a9-48d4-bfd9-d6807445b507",
   "metadata": {},
   "outputs": [
    {
     "name": "stdout",
     "output_type": "stream",
     "text": [
      "{99, 55, 44, 343}\n"
     ]
    }
   ],
   "source": [
    "set1={1,343,44,55,2,3}       \n",
    "set2={1,2,3,99}\n",
    "set1.symmetric_difference_update(set2)\n",
    "print(set1)"
   ]
  },
  {
   "cell_type": "markdown",
   "id": "1a3ce84e-fb33-426b-a7c2-4a558ca98e6d",
   "metadata": {},
   "source": [
    "# 15) union    -(  it will return the unique means non reparated elements of all the sets)"
   ]
  },
  {
   "cell_type": "code",
   "execution_count": 154,
   "id": "d1252f3d-8e63-4a2b-af1d-c8f4f422bfc4",
   "metadata": {},
   "outputs": [
    {
     "data": {
      "text/plain": [
       "{1, 2, 3, 4, 5, 6, 7, 8, 9, 10}"
      ]
     },
     "execution_count": 154,
     "metadata": {},
     "output_type": "execute_result"
    }
   ],
   "source": [
    "set1={1,2,2,3,3,4,5,6,7}\n",
    "set2={1,2,4,4,6,8,9,10}\n",
    "\n",
    "set1.union(set2)\n"
   ]
  },
  {
   "cell_type": "markdown",
   "id": "91fac057-43fd-4e58-aa6a-bda84a01398b",
   "metadata": {},
   "source": [
    "# 16)  -  (  it will uodate the value of one set withe values of other elements )"
   ]
  },
  {
   "cell_type": "code",
   "execution_count": 164,
   "id": "81c1c4ec-6563-4836-8083-bf411fad3635",
   "metadata": {},
   "outputs": [
    {
     "name": "stdout",
     "output_type": "stream",
     "text": [
      "{1, 2, 3, 4, 6}\n"
     ]
    }
   ],
   "source": [
    "set1={1,2,3,4,}\n",
    "set2={1,2,4,6}\n",
    "\n",
    "set1.update(set2)      #   it does'nt give comman elements two times.\n",
    "\n",
    "print(set1)"
   ]
  },
  {
   "cell_type": "code",
   "execution_count": null,
   "id": "887af8b4-e0a2-4f61-b4d7-ca798412739b",
   "metadata": {},
   "outputs": [],
   "source": []
  },
  {
   "cell_type": "markdown",
   "id": "ad809bc1-e816-4c25-a5a6-275d15e455fb",
   "metadata": {},
   "source": [
    "#  tuple()  -  "
   ]
  },
  {
   "cell_type": "code",
   "execution_count": 185,
   "id": "fe98b68e-8d83-442d-a34d-8bb5fe81a877",
   "metadata": {},
   "outputs": [
    {
     "name": "stdout",
     "output_type": "stream",
     "text": [
      "<class 'tuple'>\n"
     ]
    }
   ],
   "source": [
    "# creating and checkng typy \n",
    "tup1=()\n",
    "print(type(tup1))"
   ]
  },
  {
   "cell_type": "code",
   "execution_count": 183,
   "id": "96ca630d-1e74-4b17-8ede-7aedbf3374d1",
   "metadata": {},
   "outputs": [
    {
     "name": "stdout",
     "output_type": "stream",
     "text": [
      "<class 'tuple'>\n"
     ]
    }
   ],
   "source": [
    "#creating by constructor\n",
    "\n",
    "tup1=tuple()\n",
    "\n",
    "print(type(tup1))"
   ]
  },
  {
   "cell_type": "markdown",
   "id": "1fceca5a-9f82-4c34-882d-0bc092c97cd7",
   "metadata": {},
   "source": [
    "# tuple has only two methods \n",
    "# * index\n",
    "# * count"
   ]
  },
  {
   "cell_type": "markdown",
   "id": "af469cac-978b-4589-b245-ba52b9dc0215",
   "metadata": {},
   "source": [
    "# 1) index  ( it will return the index of the elements)"
   ]
  },
  {
   "cell_type": "code",
   "execution_count": 189,
   "id": "fc1b5e26-3ae6-45de-b473-239d81ef68be",
   "metadata": {},
   "outputs": [
    {
     "data": {
      "text/plain": [
       "3"
      ]
     },
     "execution_count": 189,
     "metadata": {},
     "output_type": "execute_result"
    }
   ],
   "source": [
    "tup1=(1,2,3,4,5,6) \n",
    "tup1.index(4)"
   ]
  },
  {
   "cell_type": "markdown",
   "id": "13844daf-765d-459b-8cbc-59c97873258b",
   "metadata": {},
   "source": [
    "# 2) count   -  (return the no. of occorence of value) "
   ]
  },
  {
   "cell_type": "code",
   "execution_count": 198,
   "id": "d808b918-fb2b-4305-a817-0ba2df921490",
   "metadata": {},
   "outputs": [
    {
     "data": {
      "text/plain": [
       "2"
      ]
     },
     "execution_count": 198,
     "metadata": {},
     "output_type": "execute_result"
    }
   ],
   "source": [
    "tup1=(1,2,3,3,3,3,4,4,5,6) \n",
    "tup1.count(4)"
   ]
  },
  {
   "cell_type": "code",
   "execution_count": null,
   "id": "570bfd8d-f540-4ead-aed5-0352e60100ca",
   "metadata": {},
   "outputs": [],
   "source": []
  },
  {
   "cell_type": "code",
   "execution_count": null,
   "id": "9a398bcc-e2e5-4ffb-8d18-e1b98fab08a8",
   "metadata": {},
   "outputs": [],
   "source": []
  },
  {
   "cell_type": "code",
   "execution_count": null,
   "id": "d09fd3ad-f798-4965-8041-63af4ee7a0cb",
   "metadata": {},
   "outputs": [],
   "source": []
  },
  {
   "cell_type": "code",
   "execution_count": null,
   "id": "29dc43b5-6516-4763-90e4-e0fcbb15fa63",
   "metadata": {},
   "outputs": [],
   "source": []
  },
  {
   "cell_type": "code",
   "execution_count": null,
   "id": "75cf885a-375d-4f84-8819-072d12c98584",
   "metadata": {},
   "outputs": [],
   "source": []
  },
  {
   "cell_type": "code",
   "execution_count": null,
   "id": "c1c8435b-8551-4c28-a819-dbc891fd43d1",
   "metadata": {},
   "outputs": [],
   "source": []
  },
  {
   "cell_type": "markdown",
   "id": "eca70be6-71b9-4dac-a515-e8c262808b22",
   "metadata": {},
   "source": [
    "#     CLASS WORK"
   ]
  },
  {
   "cell_type": "code",
   "execution_count": 3,
   "id": "abf00353-4c23-43e2-8a81-9157420c6caa",
   "metadata": {},
   "outputs": [],
   "source": [
    "list1=[1,2,3,4,5]\n",
    "list1= tuple(list1)"
   ]
  },
  {
   "cell_type": "code",
   "execution_count": 5,
   "id": "62f768de-a04b-401d-8432-abcb7dead215",
   "metadata": {},
   "outputs": [
    {
     "data": {
      "text/plain": [
       "(1, 2, 3, 4, 5)"
      ]
     },
     "execution_count": 5,
     "metadata": {},
     "output_type": "execute_result"
    }
   ],
   "source": [
    "list1"
   ]
  },
  {
   "cell_type": "markdown",
   "id": "9b0d2985-4a37-4333-be41-ad4e5a5ecd45",
   "metadata": {},
   "source": [
    " # set\n"
   ]
  },
  {
   "cell_type": "code",
   "execution_count": 13,
   "id": "6ef7bf5d-0fa5-4010-975d-5d26b6dd04d7",
   "metadata": {},
   "outputs": [],
   "source": [
    "# 1 unordered\n",
    "# 2 no duplicate\n",
    "# 3 no indexing,slicing"
   ]
  },
  {
   "cell_type": "code",
   "execution_count": 7,
   "id": "76bc7983-a1c2-4974-8e68-781847e3858f",
   "metadata": {},
   "outputs": [
    {
     "data": {
      "text/plain": [
       "{1, 2, 3, 4, 5}"
      ]
     },
     "execution_count": 7,
     "metadata": {},
     "output_type": "execute_result"
    }
   ],
   "source": [
    "set1=(1,2,3,4,4,5)\n",
    "set1."
   ]
  },
  {
   "cell_type": "code",
   "execution_count": 25,
   "id": "3cec1759-f826-4d7a-b19f-dd846d186d94",
   "metadata": {},
   "outputs": [
    {
     "name": "stdout",
     "output_type": "stream",
     "text": [
      "{2, 3, 4}\n",
      "{8, 6, 7}\n"
     ]
    }
   ],
   "source": [
    "my_set1={1,2,3,4}\n",
    "my_set2={1,6,7,8}\n",
    "\n",
    "my_set3 = my_set1.difference(my_set2)\n",
    "my_set4 = my_set2.difference(my_set1)\n",
    "print(my_set3)\n",
    "print(my_set4)"
   ]
  },
  {
   "cell_type": "code",
   "execution_count": 29,
   "id": "1e1a5b7d-8485-4df2-9c15-3e5f4182395b",
   "metadata": {},
   "outputs": [
    {
     "name": "stdout",
     "output_type": "stream",
     "text": [
      "None\n"
     ]
    }
   ],
   "source": [
    "my_set3 = my_set1.difference_update(my_set2)\n",
    "print(my_set3)"
   ]
  },
  {
   "cell_type": "code",
   "execution_count": 39,
   "id": "05a427de-388d-4b11-a041-d8c422e3beb5",
   "metadata": {},
   "outputs": [
    {
     "data": {
      "text/plain": [
       "{1, 2}"
      ]
     },
     "execution_count": 39,
     "metadata": {},
     "output_type": "execute_result"
    }
   ],
   "source": [
    "my_set1={1,2,3,4}\n",
    "my_set2={1,6,2,7,8}         # intersection return the common element of sets.\n",
    "my_set1.intersection(my_set2)"
   ]
  },
  {
   "cell_type": "code",
   "execution_count": 45,
   "id": "dc44510d-931f-4757-8bb8-ba969b32c751",
   "metadata": {},
   "outputs": [
    {
     "name": "stdout",
     "output_type": "stream",
     "text": [
      "{1, 2}\n"
     ]
    }
   ],
   "source": [
    "my_set1={1,2,3,4}\n",
    "my_set2={1,6,2,7,8}         # it will update the set with the common elements. \n",
    "my_set1.intersection_update(my_set2)\n",
    "print(my_set1)"
   ]
  },
  {
   "cell_type": "code",
   "execution_count": 53,
   "id": "99baef41-4a59-4f38-b5b5-806b04842b92",
   "metadata": {},
   "outputs": [
    {
     "data": {
      "text/plain": [
       "True"
      ]
     },
     "execution_count": 53,
     "metadata": {},
     "output_type": "execute_result"
    }
   ],
   "source": [
    "my_set1={1,2,3,4}\n",
    "my_set2={6,7,8}                #  return true if thier is no common element\n",
    "                                   \n",
    "my_set1.isdisjoint(my_set2)     #  return false is thier is con=mmon element."
   ]
  },
  {
   "cell_type": "markdown",
   "id": "528515b4-41c4-4638-9494-9cbba2b5a060",
   "metadata": {},
   "source": []
  },
  {
   "cell_type": "code",
   "execution_count": 55,
   "id": "dcf83473-8519-45c9-95da-5630279587b9",
   "metadata": {},
   "outputs": [
    {
     "data": {
      "text/plain": [
       "1"
      ]
     },
     "execution_count": 55,
     "metadata": {},
     "output_type": "execute_result"
    }
   ],
   "source": [
    "my_set1={1,2,3,4}\n",
    "my_set2={6,7,8} \n",
    "my_set1.pop()\n"
   ]
  },
  {
   "cell_type": "code",
   "execution_count": null,
   "id": "4ca73a08-1afd-451e-8ad7-1de0afc69a28",
   "metadata": {},
   "outputs": [],
   "source": []
  },
  {
   "cell_type": "code",
   "execution_count": null,
   "id": "4c92dac9-8feb-4ab5-8e26-3e69717f8a95",
   "metadata": {},
   "outputs": [],
   "source": []
  },
  {
   "cell_type": "code",
   "execution_count": null,
   "id": "e8babaec-660c-41fa-b27d-33882a7e690a",
   "metadata": {},
   "outputs": [],
   "source": []
  }
 ],
 "metadata": {
  "kernelspec": {
   "display_name": "Python 3 (ipykernel)",
   "language": "python",
   "name": "python3"
  },
  "language_info": {
   "codemirror_mode": {
    "name": "ipython",
    "version": 3
   },
   "file_extension": ".py",
   "mimetype": "text/x-python",
   "name": "python",
   "nbconvert_exporter": "python",
   "pygments_lexer": "ipython3",
   "version": "3.12.7"
  }
 },
 "nbformat": 4,
 "nbformat_minor": 5
}
