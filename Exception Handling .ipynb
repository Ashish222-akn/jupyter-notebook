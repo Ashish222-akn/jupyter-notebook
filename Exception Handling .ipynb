{
 "cells": [
  {
   "cell_type": "markdown",
   "id": "2df72789-0ae1-4d57-b893-500336561eab",
   "metadata": {},
   "source": [
    " # ''''''''''''''''''''''''''''''''''''''''''''''''Exception Handling'''''''''''''''''''''''''''''''''''''''''''''''''''''"
   ]
  },
  {
   "cell_type": "raw",
   "id": "0dc3256c-e36c-4261-8323-e550b2856784",
   "metadata": {},
   "source": [
    " # exception handling allows the programmers to handle the exception or errors ,that occours  during exceution of program.\n",
    " # such as devision by 0, invalid input,file not found which can cause interpution in program."
   ]
  },
  {
   "cell_type": "markdown",
   "id": "c4b98605-ba8b-42f6-83e3-9dd157722dc7",
   "metadata": {},
   "source": [
    "# in python the exception handling is done by the combination of try , except , finally block"
   ]
  },
  {
   "cell_type": "raw",
   "id": "4be15a0f-e9d6-440e-ab97-9ba0dc24f5c5",
   "metadata": {},
   "source": [
    "# There are two types of errors in python\n",
    "\n",
    " # 1.Syntax Error:\n",
    "   #   Syntax Errors are problems in a program due to which the program will stop the execution.\n",
    "    \n",
    "    \n",
    "# 2.Exceptions :\n",
    "    \n",
    "   #  exceptions are raised when some internal events occur which change the normal flow of the program.   \n",
    "    "
   ]
  },
  {
   "cell_type": "markdown",
   "id": "37fdbaf1-75dd-49c8-a991-4adab82c0b34",
   "metadata": {},
   "source": [
    "# Syntax Error"
   ]
  },
  {
   "cell_type": "code",
   "execution_count": null,
   "id": "0e098011-76f6-43b5-aa97-ea4cc591d3ea",
   "metadata": {},
   "outputs": [],
   "source": [
    "\n",
    " 1.Syntax errors occur during the parsing of code, before the execution of the program begins.\n",
    "\n",
    " 2.These errors arise when Python encounters code that violates the language syntax rules. For example, missing colons, mismatched parentheses,\n",
    "   or using an invalid token.\n",
    "\n",
    " 3.Syntax errors prevent the program from running at all. Python will display an error message and terminate the program immediately.\n",
    "\n",
    " 4.Syntax errors are typically caught during the initial compilation or interpretation phase of the code."
   ]
  },
  {
   "cell_type": "markdown",
   "id": "a8099ee7-3e33-4233-b1d3-37858fa83a51",
   "metadata": {},
   "source": [
    "# Exception error"
   ]
  },
  {
   "cell_type": "code",
   "execution_count": null,
   "id": "86a819dd-94a8-492a-9e80-590df96fbc9d",
   "metadata": {},
   "outputs": [],
   "source": [
    "* Exceptions occur during the execution of a program, after the code has been successfully parsed and is running.\n",
    "\n",
    "* Exceptions arise when unexpected conditions occur during the execution of the program. This could be due to user \n",
    "   input, file I/O errors, network issues, or other runtime conditions.\n",
    "\n",
    "* Exceptions do not necessarily halt the program immediately. They can be caught and handled using try and except  \n",
    "   blocks to gracefully handle errors and continue program execution or perform cleanup operations.\n",
    "\n",
    "* Exceptions are instances of Python's built-in Exception class or its subclasses, and they can be raised intentionally\n",
    "   using the raise statement or raised automatically by Python when an error occurs."
   ]
  },
  {
   "cell_type": "code",
   "execution_count": null,
   "id": "fb62478c-ec23-4770-8ae5-b88a07ffb06a",
   "metadata": {},
   "outputs": [],
   "source": [
    "SUMMARY -> \"In summary, syntax errors occur during the parsing phase due to violations of language syntax rules and prevent the \n",
    "        \"program from running, while exceptions occur during program execution due to unexpected conditions and can be caught and handled to gracefully \n",
    "          \"handle errors and continue program execution\""
   ]
  },
  {
   "cell_type": "code",
   "execution_count": null,
   "id": "a3f08a02-6b20-4784-8d33-fc2a3a0f5e47",
   "metadata": {},
   "outputs": [],
   "source": []
  },
  {
   "cell_type": "code",
   "execution_count": 14,
   "id": "a151bef8-ad71-4d82-897e-50a8cb449dd7",
   "metadata": {},
   "outputs": [
    {
     "name": "stdin",
     "output_type": "stream",
     "text": [
      "enter number 12\n",
      "enter number 0\n"
     ]
    },
    {
     "ename": "ZeroDivisionError",
     "evalue": "float division by zero",
     "output_type": "error",
     "traceback": [
      "\u001b[1;31m---------------------------------------------------------------------------\u001b[0m",
      "\u001b[1;31mZeroDivisionError\u001b[0m                         Traceback (most recent call last)",
      "Cell \u001b[1;32mIn[14], line 4\u001b[0m\n\u001b[0;32m      1\u001b[0m num1 \u001b[38;5;241m=\u001b[39m\u001b[38;5;28mfloat\u001b[39m(\u001b[38;5;28minput\u001b[39m(\u001b[38;5;124m\"\u001b[39m\u001b[38;5;124menter number\u001b[39m\u001b[38;5;124m\"\u001b[39m))\n\u001b[0;32m      2\u001b[0m num2 \u001b[38;5;241m=\u001b[39m\u001b[38;5;28mfloat\u001b[39m(\u001b[38;5;28minput\u001b[39m(\u001b[38;5;124m\"\u001b[39m\u001b[38;5;124menter number\u001b[39m\u001b[38;5;124m\"\u001b[39m))\n\u001b[1;32m----> 4\u001b[0m \u001b[38;5;28mprint\u001b[39m(num1\u001b[38;5;241m/\u001b[39mnum2)\n",
      "\u001b[1;31mZeroDivisionError\u001b[0m: float division by zero"
     ]
    }
   ],
   "source": [
    "num1 =float(input(\"enter number\"))\n",
    "num2 =float(input(\"enter number\"))\n",
    "\n",
    "print(num1/num2)\n",
    "                                                  # if we give 12/0 it will give error."
   ]
  },
  {
   "cell_type": "code",
   "execution_count": 5,
   "id": "43cfe42d-ea9a-4b0a-b1b9-c00a428f9d0b",
   "metadata": {},
   "outputs": [
    {
     "name": "stdin",
     "output_type": "stream",
     "text": [
      "enter number sa\n"
     ]
    },
    {
     "name": "stdout",
     "output_type": "stream",
     "text": [
      "zero se bada enter karo\n",
      "hello ashish\n"
     ]
    }
   ],
   "source": [
    "try:\n",
    "    num1 =float(input(\"enter number\"))\n",
    "    num2 =float(input(\"enter number\"))\n",
    "    \n",
    "    print(num1/num2)                                      # try and except does'nt crash the program.\n",
    "except Exception as e:\n",
    "    print(\"zero se bada enter karo\")                     # we can write are own error.\n",
    "else:\n",
    "    print(\"all work successfully\")\n",
    "\n",
    "print(\"hello ashish\")                                   # neeche vale codes as well run kaenge."
   ]
  },
  {
   "cell_type": "code",
   "execution_count": 36,
   "id": "9cf4ec22-37b9-41c0-8988-1213e30d63f0",
   "metadata": {},
   "outputs": [
    {
     "name": "stdin",
     "output_type": "stream",
     "text": [
      "enter number 12\n",
      "enter number sefs\n"
     ]
    },
    {
     "name": "stdout",
     "output_type": "stream",
     "text": [
      "zero se bada enter karo\n",
      "hello ashish\n"
     ]
    }
   ],
   "source": [
    "try:\n",
    "    num1 =float(input(\"enter number\"))\n",
    "    num2 =float(input(\"enter number\"))\n",
    "    \n",
    "    print(num1/num2)                                      # try and except does'nt crash the program.\n",
    "except Exception as e:\n",
    "    print(\"zero se bada enter karo\")                     # we can write are own error.\n",
    "else:\n",
    "    print(\"all work successfully\")\n",
    "\n",
    "print(\"hello ashish\")                                   # neeche vale codes as well run kaenge."
   ]
  },
  {
   "cell_type": "code",
   "execution_count": null,
   "id": "2abf5c56-bbd0-4795-8c60-de67675d303f",
   "metadata": {},
   "outputs": [],
   "source": [
    "# else block try block ke associated hai ,means when codes and user enter perfect valuse than program run successfulyand esle block run as well.\n",
    "# means try sahi se chelega tho else bhi chalega but agar exception raise ho gyi then else nahi run karega."
   ]
  },
  {
   "cell_type": "code",
   "execution_count": null,
   "id": "582ee250-a05a-4e42-baf3-d11926033cb7",
   "metadata": {},
   "outputs": [],
   "source": [
    " # use finally - to close the file is compulsory and that code will put in 'finally block'.\n",
    " # finally hamesh run karega \n",
    "\n",
    "try:\n",
    "    num1 =float(input(\"enter number\"))\n",
    "    num2 =float(input(\"enter number\"))\n",
    "    \n",
    "    print(num1/num2)                                       # try and except does'nt crash the program.\n",
    "\n",
    "except Exception as e:\n",
    "    print(\"zero se bada enter karo\")                     # we can write are own error.\n",
    "\n",
    "else:\n",
    "    print(\"all work successfully\")\n",
    "\n",
    "finally:\n",
    "    file.close()\n",
    "    conection.close()\n",
    "print(\"hello ashish\")   \n"
   ]
  },
  {
   "cell_type": "markdown",
   "id": "dc64cea2-1e8e-4d3c-a1ad-eed12c7b8ade",
   "metadata": {},
   "source": [
    "# raise keyword"
   ]
  },
  {
   "cell_type": "raw",
   "id": "e754237f-4d7c-4efb-bfb3-13063e3eb85e",
   "metadata": {},
   "source": [
    "# In Python, the raise keyword is used to explicitly raise an exception during the execution of a program. \n",
    "  It allows programmers to raise a specific exception when a certain condition is met or when an error needs to be propagated.\n",
    "\n",
    "# syntax  - raise exception type(\"message\")\n",
    "\n"
   ]
  },
  {
   "cell_type": "raw",
   "id": "8aa25cad-81ab-444c-9244-7b2353628f51",
   "metadata": {},
   "source": [
    "# For example, let's say you are writing a function to divide two numbers, and you want to raise a \n",
    "   ValueError exception if the divisor is zero. You can use the raise keyword as follows:"
   ]
  },
  {
   "cell_type": "code",
   "execution_count": 48,
   "id": "7538640c-e140-4cd9-a754-ff2f12b86f9d",
   "metadata": {},
   "outputs": [],
   "source": [
    "def division(a,b):\n",
    "    if b == 0:\n",
    "        raise ValueError(\"Zero se bada number daalo yaar\")\n",
    "    return a/b     "
   ]
  },
  {
   "cell_type": "code",
   "execution_count": 50,
   "id": "6f848795-9aeb-45c3-862c-ef4c4bc7f0ca",
   "metadata": {},
   "outputs": [
    {
     "ename": "ValueError",
     "evalue": "Zero se bada number daalo yaar",
     "output_type": "error",
     "traceback": [
      "\u001b[1;31m---------------------------------------------------------------------------\u001b[0m",
      "\u001b[1;31mValueError\u001b[0m                                Traceback (most recent call last)",
      "Cell \u001b[1;32mIn[50], line 1\u001b[0m\n\u001b[1;32m----> 1\u001b[0m division(\u001b[38;5;241m12\u001b[39m,\u001b[38;5;241m0\u001b[39m)\n",
      "Cell \u001b[1;32mIn[48], line 3\u001b[0m, in \u001b[0;36mdivision\u001b[1;34m(a, b)\u001b[0m\n\u001b[0;32m      1\u001b[0m \u001b[38;5;28;01mdef\u001b[39;00m \u001b[38;5;21mdivision\u001b[39m(a,b):\n\u001b[0;32m      2\u001b[0m     \u001b[38;5;28;01mif\u001b[39;00m b \u001b[38;5;241m==\u001b[39m \u001b[38;5;241m0\u001b[39m:\n\u001b[1;32m----> 3\u001b[0m         \u001b[38;5;28;01mraise\u001b[39;00m \u001b[38;5;167;01mValueError\u001b[39;00m(\u001b[38;5;124m\"\u001b[39m\u001b[38;5;124mZero se bada number daalo yaar\u001b[39m\u001b[38;5;124m\"\u001b[39m)\n\u001b[0;32m      4\u001b[0m     \u001b[38;5;28;01mreturn\u001b[39;00m a\u001b[38;5;241m/\u001b[39mb\n",
      "\u001b[1;31mValueError\u001b[0m: Zero se bada number daalo yaar"
     ]
    }
   ],
   "source": [
    "division(12,0)                   # this will raise error of your message."
   ]
  },
  {
   "cell_type": "code",
   "execution_count": 64,
   "id": "68975e0b-0e07-41ad-9d14-aaa03cd8ef1b",
   "metadata": {},
   "outputs": [
    {
     "name": "stdin",
     "output_type": "stream",
     "text": [
      "Please enter 5 digit Numeric Password 123\n"
     ]
    },
    {
     "ename": "ValueError",
     "evalue": "kya kar rhe ho yaar , 5 digit ka number daalo ",
     "output_type": "error",
     "traceback": [
      "\u001b[1;31m---------------------------------------------------------------------------\u001b[0m",
      "\u001b[1;31mValueError\u001b[0m                                Traceback (most recent call last)",
      "Cell \u001b[1;32mIn[64], line 10\u001b[0m\n\u001b[0;32m      7\u001b[0m     \u001b[38;5;28mprint\u001b[39m (\u001b[38;5;124m\"\u001b[39m\u001b[38;5;124mLogin Sccessflly\u001b[39m\u001b[38;5;124m\"\u001b[39m)\n\u001b[0;32m      9\u001b[0m \u001b[38;5;28;01melse\u001b[39;00m:\n\u001b[1;32m---> 10\u001b[0m     \u001b[38;5;28;01mraise\u001b[39;00m \u001b[38;5;167;01mValueError\u001b[39;00m(\u001b[38;5;124m\"\u001b[39m\u001b[38;5;124mkya kar rhe ho yaar , 5 digit ka number daalo \u001b[39m\u001b[38;5;124m\"\u001b[39m)\n",
      "\u001b[1;31mValueError\u001b[0m: kya kar rhe ho yaar , 5 digit ka number daalo "
     ]
    }
   ],
   "source": [
    "# take password as input ans raise error.\n",
    "\n",
    "password=input(\"Please enter 5 digit Numeric Password\")\n",
    "\n",
    "if password.isdigit() and len(password) == 5:\n",
    "    print (\"Welcome To The Page\")\n",
    "    print (\"Login Sccessflly\")\n",
    "\n",
    "else:\n",
    "    raise ValueError(\"kya kar rhe ho yaar , 5 digit ka number daalo \")"
   ]
  },
  {
   "cell_type": "code",
   "execution_count": null,
   "id": "c49383c2-7c17-4432-a14b-614df20822b5",
   "metadata": {},
   "outputs": [],
   "source": []
  }
 ],
 "metadata": {
  "kernelspec": {
   "display_name": "Python 3 (ipykernel)",
   "language": "python",
   "name": "python3"
  },
  "language_info": {
   "codemirror_mode": {
    "name": "ipython",
    "version": 3
   },
   "file_extension": ".py",
   "mimetype": "text/x-python",
   "name": "python",
   "nbconvert_exporter": "python",
   "pygments_lexer": "ipython3",
   "version": "3.12.7"
  }
 },
 "nbformat": 4,
 "nbformat_minor": 5
}
