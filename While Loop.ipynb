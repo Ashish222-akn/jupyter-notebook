{
 "cells": [
  {
   "cell_type": "markdown",
   "id": "82bcb464-e277-44ae-ba98-36333aeca21b",
   "metadata": {},
   "source": [
    "# YouTube Video"
   ]
  },
  {
   "cell_type": "markdown",
   "id": "6b5cd396-ad24-475d-ac15-0e22db00d3ad",
   "metadata": {},
   "source": []
  },
  {
   "cell_type": "code",
   "execution_count": 3,
   "id": "aefc6a31-029e-4ba4-8e2b-64725d89ce5c",
   "metadata": {},
   "outputs": [
    {
     "name": "stdout",
     "output_type": "stream",
     "text": [
      "1\n",
      "2\n",
      "3\n",
      "4\n",
      "5\n"
     ]
    }
   ],
   "source": [
    "num=1\n",
    "while num<6:\n",
    "    print(num)\n",
    "    num=num+1                              # num+1 nahi karenge tho infintit loop chal jayega."
   ]
  },
  {
   "cell_type": "code",
   "execution_count": 1,
   "id": "8d59a6e6-fbb9-48b0-9f5f-d48bd8fe9923",
   "metadata": {},
   "outputs": [
    {
     "name": "stdout",
     "output_type": "stream",
     "text": [
      "1\n",
      "2\n",
      "4\n"
     ]
    }
   ],
   "source": [
    "# using continue stataement\n",
    "\n",
    "\n",
    "num=1\n",
    "while num<5:\n",
    "    if num==3:\n",
    "         num =num+1\n",
    "         continue\n",
    "    print(num)\n",
    "    num=num+1\n",
    "    "
   ]
  },
  {
   "cell_type": "code",
   "execution_count": 3,
   "id": "5dd99283-6356-4de6-8580-4f226040e433",
   "metadata": {},
   "outputs": [
    {
     "name": "stdout",
     "output_type": "stream",
     "text": [
      "1\n",
      "2\n"
     ]
    }
   ],
   "source": [
    "# using Break statement\n",
    "\n",
    "num=1\n",
    "while num<5:\n",
    "    if num==3:\n",
    "         num =num+1\n",
    "         break\n",
    "    print(num)\n",
    "    num=num+1"
   ]
  },
  {
   "cell_type": "code",
   "execution_count": 1,
   "id": "f72da5be-7962-492e-8cf6-5f3ced53c5f1",
   "metadata": {},
   "outputs": [
    {
     "name": "stdin",
     "output_type": "stream",
     "text": [
      "enter password 1234\n"
     ]
    },
    {
     "name": "stdout",
     "output_type": "stream",
     "text": [
      "correct password\n"
     ]
    }
   ],
   "source": [
    "\n",
    "# using else block and open a website. when password get correct otherwise it continously ask password.\n",
    "\n",
    "real_password=1234\n",
    "user_password=int(input(\"enter password\"))\n",
    "import webbrowser\n",
    "while real_password != user_password:\n",
    "    user_password=int(input(\"wrong password: enter password again\")) \n",
    "else:\n",
    "    print(\"correct password\")\n",
    "    webbrowser.open(\"www.vivo.com\")"
   ]
  },
  {
   "cell_type": "code",
   "execution_count": null,
   "id": "337c6f72-1c04-4f34-b02e-ed023aab8dcc",
   "metadata": {},
   "outputs": [],
   "source": []
  },
  {
   "cell_type": "code",
   "execution_count": null,
   "id": "49219a54-70d8-4817-8feb-7c512f1f1dcf",
   "metadata": {},
   "outputs": [],
   "source": []
  },
  {
   "cell_type": "code",
   "execution_count": null,
   "id": "98b68f67-e69d-46ff-af84-024999966350",
   "metadata": {},
   "outputs": [],
   "source": []
  },
  {
   "cell_type": "code",
   "execution_count": null,
   "id": "0bea6b3b-8c79-4306-b9f8-bdc93fb48029",
   "metadata": {},
   "outputs": [],
   "source": []
  },
  {
   "cell_type": "code",
   "execution_count": null,
   "id": "9ec6eef1-7928-4a90-89c3-82dfb2017a0b",
   "metadata": {},
   "outputs": [],
   "source": []
  },
  {
   "cell_type": "code",
   "execution_count": null,
   "id": "8cd2351a-e584-467b-93b3-a03b2f7f4695",
   "metadata": {},
   "outputs": [],
   "source": []
  },
  {
   "cell_type": "code",
   "execution_count": null,
   "id": "ba984f5c-7f40-47ce-bec8-a4c078ad8287",
   "metadata": {},
   "outputs": [],
   "source": []
  },
  {
   "cell_type": "code",
   "execution_count": null,
   "id": "cade1cb5-69c2-4107-8fff-7bfb4d91fd46",
   "metadata": {},
   "outputs": [],
   "source": []
  }
 ],
 "metadata": {
  "kernelspec": {
   "display_name": "Python 3 (ipykernel)",
   "language": "python",
   "name": "python3"
  },
  "language_info": {
   "codemirror_mode": {
    "name": "ipython",
    "version": 3
   },
   "file_extension": ".py",
   "mimetype": "text/x-python",
   "name": "python",
   "nbconvert_exporter": "python",
   "pygments_lexer": "ipython3",
   "version": "3.12.7"
  }
 },
 "nbformat": 4,
 "nbformat_minor": 5
}
