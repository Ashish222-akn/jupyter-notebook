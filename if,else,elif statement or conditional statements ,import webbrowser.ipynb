{
 "cells": [
  {
   "cell_type": "code",
   "execution_count": null,
   "id": "8cee0d34-daca-41c6-aeeb-2d9d50aa6126",
   "metadata": {},
   "outputs": [],
   "source": [
    "name=(\"hello ashish\")\n",
    "print(\"hello\",\"ashish\",sep=\"@\") "
   ]
  },
  {
   "cell_type": "code",
   "execution_count": null,
   "id": "cb734f6d-9ec5-422a-8adb-8792b26f8184",
   "metadata": {},
   "outputs": [],
   "source": [
    "x=\"ashishnagar\"\n",
    "print(x,sep=\"@\")"
   ]
  },
  {
   "cell_type": "code",
   "execution_count": null,
   "id": "6fd8b205-9d1c-431f-9f19-77f1b4692e9e",
   "metadata": {},
   "outputs": [],
   "source": [
    "print(\"hip\\rython\")"
   ]
  },
  {
   "cell_type": "code",
   "execution_count": null,
   "id": "5a169937-6842-44c5-a841-072f488b0166",
   "metadata": {},
   "outputs": [],
   "source": []
  },
  {
   "cell_type": "code",
   "execution_count": 4,
   "id": "86584b81-b4ad-440a-81f7-1458deb3aec7",
   "metadata": {},
   "outputs": [
    {
     "name": "stdout",
     "output_type": "stream",
     "text": [
      "9\r"
     ]
    }
   ],
   "source": [
    "import time\n",
    "for i in range (10):\n",
    "    time.sleep(1)\n",
    "    print(i,end=\"\\r\")"
   ]
  },
  {
   "cell_type": "code",
   "execution_count": 5,
   "id": "9facfbef-e2a5-4c5c-a20e-ddd60d5da53f",
   "metadata": {},
   "outputs": [
    {
     "name": "stdin",
     "output_type": "stream",
     "text": [
      "enter your password 12345\n"
     ]
    },
    {
     "name": "stdout",
     "output_type": "stream",
     "text": [
      "right\n"
     ]
    }
   ],
   "source": [
    "password1=(\"12345\")\n",
    "user_input=input(\"enter your password\")\n",
    "if password1==user_input:\n",
    "    print(\"right\")\n",
    "else:\n",
    "    print(\"worong\")"
   ]
  },
  {
   "cell_type": "code",
   "execution_count": 6,
   "id": "6b708c70-9dfb-4a4f-be55-9d461c2b3098",
   "metadata": {},
   "outputs": [
    {
     "name": "stdout",
     "output_type": "stream",
     "text": [
      "10\n",
      "50\n"
     ]
    }
   ],
   "source": [
    "if 10==10:\n",
    "    print(\"10\")\n",
    "    if 20==30:\n",
    "        print(\"20\")\n",
    "        if 30==40:\n",
    "            print(\"30\")\n",
    "        else:\n",
    "            print(\"40\")\n",
    "    else:\n",
    "        print(\"50\")\n",
    "else:\n",
    "    print(\"60\")"
   ]
  },
  {
   "cell_type": "code",
   "execution_count": 7,
   "id": "e2de77a0-a4fa-4d89-9805-862514d16acb",
   "metadata": {},
   "outputs": [
    {
     "name": "stdin",
     "output_type": "stream",
     "text": [
      "enter your name rohan\n"
     ]
    },
    {
     "name": "stdout",
     "output_type": "stream",
     "text": [
      "ashish\n"
     ]
    }
   ],
   "source": [
    "x =(\"rohan\")\n",
    "user_name=input(\"enter your name\")\n",
    "if x==user_name:\n",
    "    print(\"ashish\")\n",
    "elif x==(\"ashish\"):\n",
    "    print(\"rohan\")\n",
    "else:print(\"wrong name\")"
   ]
  },
  {
   "cell_type": "code",
   "execution_count": 8,
   "id": "dc8cde9b-db2e-43cc-be6f-da3562634a32",
   "metadata": {},
   "outputs": [
    {
     "name": "stdout",
     "output_type": "stream",
     "text": [
      "50\n"
     ]
    }
   ],
   "source": [
    "value=50\n",
    "if value==34:\n",
    "    print(\"25\")\n",
    "if value==50:\n",
    "    print(\"50\")\n",
    "else:\n",
    "    print(\"none\")"
   ]
  },
  {
   "cell_type": "code",
   "execution_count": 9,
   "id": "5d3fbcd0-6381-4fac-a51b-ba107b899c1c",
   "metadata": {},
   "outputs": [],
   "source": [
    "# ( youtube VIDEO) "
   ]
  },
  {
   "cell_type": "code",
   "execution_count": 10,
   "id": "dcfc629d-0ed3-4512-836b-546524f729f0",
   "metadata": {},
   "outputs": [
    {
     "name": "stdout",
     "output_type": "stream",
     "text": [
      "yes 10 is equals to 10\n"
     ]
    }
   ],
   "source": [
    "# use of (if) statement.\n",
    "# identation (indentation ke liye collon : lagana if statement ke baad)\n",
    "\n",
    "if 10==10:\n",
    "    print(\"yes 10 is equals to 10\")"
   ]
  },
  {
   "cell_type": "code",
   "execution_count": 11,
   "id": "0a4f1a0f-a708-44c1-b9fc-f4230f33853c",
   "metadata": {},
   "outputs": [
    {
     "name": "stdout",
     "output_type": "stream",
     "text": [
      "50\n"
     ]
    }
   ],
   "source": [
    "# use of else statement.\n",
    "\n",
    "if 50==50:\n",
    "    print(\"50\")\n",
    "else:\n",
    "    print(\"wrong\")"
   ]
  },
  {
   "cell_type": "code",
   "execution_count": 12,
   "id": "c7d601c6-4323-46bf-9478-9664a44824d5",
   "metadata": {},
   "outputs": [
    {
     "name": "stdout",
     "output_type": "stream",
     "text": [
      "wrong\n"
     ]
    }
   ],
   "source": [
    "if 50==20:\n",
    "    print(\"50\")\n",
    "else:\n",
    "    print(\"wrong\")\n"
   ]
  },
  {
   "cell_type": "code",
   "execution_count": 13,
   "id": "d07212ed-8222-457d-ad10-c742d21c64f8",
   "metadata": {},
   "outputs": [
    {
     "name": "stdout",
     "output_type": "stream",
     "text": [
      "ans is 20\n"
     ]
    }
   ],
   "source": [
    "# use of elif statement\n",
    "\n",
    "if 50==52:\n",
    "    print(\"50\")\n",
    "elif 20==20:\n",
    "    print(\"ans is 20\")"
   ]
  },
  {
   "cell_type": "code",
   "execution_count": 14,
   "id": "3c819b49-b24b-44c7-be6b-e63c25c59549",
   "metadata": {},
   "outputs": [
    {
     "name": "stdout",
     "output_type": "stream",
     "text": [
      "NONE\n"
     ]
    }
   ],
   "source": [
    "if 50==52:\n",
    "    print(\"50\")\n",
    "elif 20==22:\n",
    "    print(\"ans is 20\")\n",
    "else:\n",
    "    print(\"NONE\")"
   ]
  },
  {
   "cell_type": "code",
   "execution_count": 15,
   "id": "a6b6988d-846a-4ac2-9a84-6f18d5783874",
   "metadata": {},
   "outputs": [
    {
     "name": "stdout",
     "output_type": "stream",
     "text": [
      "50\n"
     ]
    }
   ],
   "source": [
    "if 50==50:\n",
    "    print(\"50\")\n",
    "elif 20==20:                                            # agar first (if) ststement true ho jata hai or elif bhi true hai then elif run nahi hoga.\n",
    "    print(\"ans is 20\")                                   \n",
    "elif 30==30:                                                                             \n",
    "    print(\"ans is 30\")\n",
    "else:\n",
    "    print(\"NONE\")"
   ]
  },
  {
   "cell_type": "code",
   "execution_count": 16,
   "id": "2feabe91-960d-465a-af26-9000315deee8",
   "metadata": {},
   "outputs": [
    {
     "name": "stdout",
     "output_type": "stream",
     "text": [
      "ans is 20\n"
     ]
    }
   ],
   "source": [
    "if 50==53:\n",
    "    print(\"50\")\n",
    "elif 20==20:                                            \n",
    "    print(\"ans is 20\")                                  # both the elif statements are true but agar first true hogya hai tho dusra run nhi hoga. \n",
    "elif 30==30:                                                                             \n",
    "    print(\"ans is 30\")\n",
    "else:\n",
    "    print(\"NONE\")"
   ]
  },
  {
   "cell_type": "code",
   "execution_count": 17,
   "id": "02890b5e-972c-4dd9-b925-9ff1a133e158",
   "metadata": {},
   "outputs": [
    {
     "name": "stdout",
     "output_type": "stream",
     "text": [
      "ans is 50\n",
      "ans is 20\n",
      "ans is 30\n"
     ]
    }
   ],
   "source": [
    "# if you want to print all the ture statements then use 'if' in all lines. insted of 'elif' .\n",
    "\n",
    "\n",
    "if 50==50:\n",
    "    print(\"ans is 50\")\n",
    "if 20==20:                                            \n",
    "    print(\"ans is 20\")                                  \n",
    "if 30==30:                                                                             \n",
    "    print(\"ans is 30\")\n",
    "else:\n",
    "    print(\"NONE\")"
   ]
  },
  {
   "cell_type": "code",
   "execution_count": 18,
   "id": "d66dbea0-6612-4117-a1cb-0ca68a67af02",
   "metadata": {},
   "outputs": [
    {
     "name": "stdout",
     "output_type": "stream",
     "text": [
      " equals to 50\n",
      " equals to 60\n",
      " equals to 70\n"
     ]
    }
   ],
   "source": [
    "# NESTED IF means using if ststement in if ststement.\n",
    "\n",
    "if 50==50:\n",
    "    print(\" equals to 50\")\n",
    "    if 60==60:                                           # all if are true .so saare run ho jayenge .\n",
    "        print(\" equals to 60\")                           # indentation is important .\n",
    "        if 70==70:\n",
    "            print(\" equals to 70\")\n",
    "        else:\n",
    "            print(\"not equals to 70\")\n",
    "    else:\n",
    "        print(\"not equals to 60\")\n",
    "else:\n",
    "    print(\"not equals to 50\")"
   ]
  },
  {
   "cell_type": "code",
   "execution_count": 19,
   "id": "39a7ffe5-aa66-4ae8-a91a-48f43969a459",
   "metadata": {},
   "outputs": [
    {
     "name": "stdout",
     "output_type": "stream",
     "text": [
      " equals to 50\n",
      " equals to 60\n",
      "not equals to 70\n"
     ]
    }
   ],
   "source": [
    "\n",
    "\n",
    "if 50==50:\n",
    "    print(\" equals to 50\")\n",
    "    if 60==60:                                           \n",
    "        print(\" equals to 60\")\n",
    "        if 70==73:\n",
    "            print(\" equals to 70\")\n",
    "        else:\n",
    "            print(\"not equals to 70\")\n",
    "    else:\n",
    "        print(\"not equals to 60\")\n",
    "else:\n",
    "    print(\"not equals to 50\")"
   ]
  },
  {
   "cell_type": "code",
   "execution_count": 20,
   "id": "1c24e130-6179-493c-a3b1-80bd99faee13",
   "metadata": {},
   "outputs": [
    {
     "name": "stdout",
     "output_type": "stream",
     "text": [
      "not equals to 50\n"
     ]
    }
   ],
   "source": [
    "if 50==53:\n",
    "    print(\" equals to 50\")\n",
    "    if 60==60:                                           \n",
    "        print(\" equals to 60\")\n",
    "        if 70==70:                                  # agar first if hi false ho jata hai . then it only run first if ,chahe baaki ke ifs true ho.\n",
    "            print(\" equals to 70\")\n",
    "        else:\n",
    "            print(\"not equals to 70\")\n",
    "    else:\n",
    "        print(\"not equals to 60\")\n",
    "else:\n",
    "    print(\"not equals to 50\")"
   ]
  },
  {
   "cell_type": "markdown",
   "id": "424cfd60-4253-4f75-956e-454451924ecc",
   "metadata": {},
   "source": [
    "# Opening a web browser , through input function."
   ]
  },
  {
   "cell_type": "code",
   "execution_count": 29,
   "id": "fe62b7b5-4d4b-40d3-8cf3-fc277b93ae61",
   "metadata": {},
   "outputs": [
    {
     "name": "stdin",
     "output_type": "stream",
     "text": [
      "please enter your name ashish\n",
      "please enter your password ashish1234@\n"
     ]
    }
   ],
   "source": [
    "user_name=(\"ashish\")\n",
    "user_password=(\"ashish1234@\")\n",
    "user_name_input=input(\"please enter your name\")\n",
    "user_password_input=input(\"please enter your password\")\n",
    "import webbrowser                                                       #\n",
    "\n",
    "if user_name==user_name_input:\n",
    "    if user_password==user_password_input:\n",
    "         webbrowser.open(\"www.vivo.com\")\n",
    "    else:\n",
    "        print(\"worng password\")\n",
    "else:\n",
    "    print(\"wrong user name\")"
   ]
  },
  {
   "cell_type": "code",
   "execution_count": null,
   "id": "78632101-261f-4ec6-8caa-69fd6e97d5c5",
   "metadata": {},
   "outputs": [],
   "source": []
  }
 ],
 "metadata": {
  "kernelspec": {
   "display_name": "Python 3 (ipykernel)",
   "language": "python",
   "name": "python3"
  },
  "language_info": {
   "codemirror_mode": {
    "name": "ipython",
    "version": 3
   },
   "file_extension": ".py",
   "mimetype": "text/x-python",
   "name": "python",
   "nbconvert_exporter": "python",
   "pygments_lexer": "ipython3",
   "version": "3.12.7"
  }
 },
 "nbformat": 4,
 "nbformat_minor": 5
}
