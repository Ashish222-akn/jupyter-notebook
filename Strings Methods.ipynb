{
 "cells": [
  {
   "cell_type": "code",
   "execution_count": 290,
   "id": "51a3fed6-2ee9-4eee-97d6-047b6389f9de",
   "metadata": {},
   "outputs": [
    {
     "name": "stdout",
     "output_type": "stream",
     "text": [
      "hello ashish\n"
     ]
    }
   ],
   "source": [
    "name=(\"hello ashish\")\n",
    "print(name)"
   ]
  },
  {
   "cell_type": "markdown",
   "id": "35cdabeb-9c14-46d4-9542-2e17b3a4cb0c",
   "metadata": {},
   "source": [
    "# captialize\n",
    "it will captialize the the fist word of the string."
   ]
  },
  {
   "cell_type": "code",
   "execution_count": 293,
   "id": "d033d6df-75bc-4e04-9803-2609fac792b3",
   "metadata": {},
   "outputs": [
    {
     "data": {
      "text/plain": [
       "'Hello ashish'"
      ]
     },
     "execution_count": 293,
     "metadata": {},
     "output_type": "execute_result"
    }
   ],
   "source": [
    "name.capitalize()"
   ]
  },
  {
   "cell_type": "markdown",
   "id": "4bd72c9c-925a-4cc3-b6cb-a630fe4d52f5",
   "metadata": {},
   "source": [
    "# casefold\n",
    "it will give the same string in lower case"
   ]
  },
  {
   "cell_type": "code",
   "execution_count": 296,
   "id": "8821fffe-ea35-4cbd-8491-54c81ca02f18",
   "metadata": {},
   "outputs": [
    {
     "data": {
      "text/plain": [
       "'hello ashish'"
      ]
     },
     "execution_count": 296,
     "metadata": {},
     "output_type": "execute_result"
    }
   ],
   "source": [
    "name.casefold()"
   ]
  },
  {
   "cell_type": "markdown",
   "id": "1ae9997a-f99a-4d4a-8939-3f776f64fe86",
   "metadata": {},
   "source": [
    "# centre\n",
    "it will align the string in the centre"
   ]
  },
  {
   "cell_type": "code",
   "execution_count": 299,
   "id": "32ac4d2b-f0ce-478a-a2c9-be8b0249d1f6",
   "metadata": {},
   "outputs": [
    {
     "ename": "NameError",
     "evalue": "name 'list1' is not defined",
     "output_type": "error",
     "traceback": [
      "\u001b[1;31m---------------------------------------------------------------------------\u001b[0m",
      "\u001b[1;31mNameError\u001b[0m                                 Traceback (most recent call last)",
      "Cell \u001b[1;32mIn[299], line 2\u001b[0m\n\u001b[0;32m      1\u001b[0m liat1\u001b[38;5;241m=\u001b[39m[\u001b[38;5;241m1\u001b[39m,\u001b[38;5;241m2\u001b[39m,\u001b[38;5;241m3\u001b[39m,\u001b[38;5;241m4\u001b[39m,\u001b[38;5;241m4\u001b[39m,\u001b[38;5;241m4\u001b[39m,\u001b[38;5;241m5\u001b[39m,\u001b[38;5;241m5\u001b[39m]\n\u001b[1;32m----> 2\u001b[0m list1\u001b[38;5;241m.\u001b[39mcentre()\n",
      "\u001b[1;31mNameError\u001b[0m: name 'list1' is not defined"
     ]
    }
   ],
   "source": [
    "liat1=[1,2,3,4,4,4,5,5]\n",
    "list1.centre()"
   ]
  },
  {
   "cell_type": "markdown",
   "id": "58c53290-9550-41b8-b5fc-356abd7afef8",
   "metadata": {},
   "source": [
    "# encode\n",
    "it will encode the giving string."
   ]
  },
  {
   "cell_type": "code",
   "execution_count": 302,
   "id": "c312ee64-0b9b-4712-837d-52bb01dba08b",
   "metadata": {},
   "outputs": [
    {
     "data": {
      "text/plain": [
       "b'hello ashish'"
      ]
     },
     "execution_count": 302,
     "metadata": {},
     "output_type": "execute_result"
    }
   ],
   "source": [
    "name.encode()"
   ]
  },
  {
   "cell_type": "markdown",
   "id": "c5502099-26b9-4bde-a12e-e88b5a4c1ff4",
   "metadata": {},
   "source": [
    "# endswith \n",
    "it will tell the ending characther of the string."
   ]
  },
  {
   "cell_type": "code",
   "execution_count": 305,
   "id": "88c60060-3b4c-43fa-9ac0-7b128aba2c06",
   "metadata": {},
   "outputs": [
    {
     "data": {
      "text/plain": [
       "True"
      ]
     },
     "execution_count": 305,
     "metadata": {},
     "output_type": "execute_result"
    }
   ],
   "source": [
    "name=(\"hello ashish\")\n",
    "name.endswith(\"h\")"
   ]
  },
  {
   "cell_type": "markdown",
   "id": "54722d59-7244-4836-a447-28a5bba1bfea",
   "metadata": {},
   "source": [
    "# expandtab\n",
    "it will apply the space and expand the string"
   ]
  },
  {
   "cell_type": "code",
   "execution_count": 308,
   "id": "8cb52791-adb2-4ae8-ac89-ee4233c68a78",
   "metadata": {},
   "outputs": [
    {
     "data": {
      "text/plain": [
       "'hello ashish'"
      ]
     },
     "execution_count": 308,
     "metadata": {},
     "output_type": "execute_result"
    }
   ],
   "source": [
    "name.expandtabs(32)"
   ]
  },
  {
   "cell_type": "markdown",
   "id": "729a5a07-0e45-457e-9cfa-f0c20f340737",
   "metadata": {},
   "source": [
    "# find\n",
    "it will tell the no. of characthers in the word"
   ]
  },
  {
   "cell_type": "code",
   "execution_count": 311,
   "id": "3d3afb4c-419e-47d6-a54d-b95eef1468a4",
   "metadata": {},
   "outputs": [
    {
     "data": {
      "text/plain": [
       "6"
      ]
     },
     "execution_count": 311,
     "metadata": {},
     "output_type": "execute_result"
    }
   ],
   "source": [
    "name=(\"hello ashish\")\n",
    "name.find(\"ashish\")"
   ]
  },
  {
   "cell_type": "markdown",
   "id": "1e30dfc6-e9ba-4d1c-b36d-0e281d493da6",
   "metadata": {},
   "source": [
    "# index\n",
    "it will tell the fist index no. of the alphabet"
   ]
  },
  {
   "cell_type": "code",
   "execution_count": 314,
   "id": "d7d4beb9-5d5b-4a4f-acb3-335f7c90cb54",
   "metadata": {},
   "outputs": [
    {
     "data": {
      "text/plain": [
       "4"
      ]
     },
     "execution_count": 314,
     "metadata": {},
     "output_type": "execute_result"
    }
   ],
   "source": [
    "name.index(\"o\")"
   ]
  },
  {
   "cell_type": "markdown",
   "id": "b5a0ac18-2c55-44ca-ad0c-c347101e772d",
   "metadata": {},
   "source": [
    "# is alnum\n",
    "it tell's us that the string is alphanumeric or not "
   ]
  },
  {
   "cell_type": "code",
   "execution_count": 317,
   "id": "a5f84e63-13ef-46f4-9373-d393a4d89b4e",
   "metadata": {},
   "outputs": [
    {
     "data": {
      "text/plain": [
       "True"
      ]
     },
     "execution_count": 317,
     "metadata": {},
     "output_type": "execute_result"
    }
   ],
   "source": [
    "name=(\"ashish\")\n",
    "name.isalnum()"
   ]
  },
  {
   "cell_type": "code",
   "execution_count": 319,
   "id": "9e4923ea-deef-4f22-8cde-4fae708d136a",
   "metadata": {},
   "outputs": [
    {
     "data": {
      "text/plain": [
       "True"
      ]
     },
     "execution_count": 319,
     "metadata": {},
     "output_type": "execute_result"
    }
   ],
   "source": [
    "name.isalpha()"
   ]
  },
  {
   "cell_type": "markdown",
   "id": "2865c72a-d2d5-46b9-aadb-9a725dc810f0",
   "metadata": {},
   "source": [
    "# isalpha\n",
    "it will give us (true) when all the characthers in the strings is alphabets."
   ]
  },
  {
   "cell_type": "code",
   "execution_count": 322,
   "id": "176cf842-9f73-47d0-9001-f77dbde792b5",
   "metadata": {},
   "outputs": [
    {
     "data": {
      "text/plain": [
       "False"
      ]
     },
     "execution_count": 322,
     "metadata": {},
     "output_type": "execute_result"
    }
   ],
   "source": [
    "name=(\"12.6\")\n",
    "name.isalpha()"
   ]
  },
  {
   "cell_type": "markdown",
   "id": "42db1fe2-6dec-4137-9620-9f967736e529",
   "metadata": {},
   "source": [
    "# isascii\n",
    "it will give us true when all the values in the strigs is in ascii values."
   ]
  },
  {
   "cell_type": "code",
   "execution_count": 325,
   "id": "06601479-e2a4-4c52-810c-fcb3c1cf1169",
   "metadata": {},
   "outputs": [
    {
     "data": {
      "text/plain": [
       "True"
      ]
     },
     "execution_count": 325,
     "metadata": {},
     "output_type": "execute_result"
    }
   ],
   "source": [
    "name.isascii()"
   ]
  },
  {
   "cell_type": "markdown",
   "id": "92bac22f-65b4-43bf-8fd6-3261ce63e774",
   "metadata": {},
   "source": [
    "# isdecimal\n",
    "it will give us true when all the cgaracthers in the strings is int.\n"
   ]
  },
  {
   "cell_type": "code",
   "execution_count": 328,
   "id": "20fd6ca2-d235-4b68-bb43-9fcbdcb4ad7c",
   "metadata": {},
   "outputs": [
    {
     "data": {
      "text/plain": [
       "False"
      ]
     },
     "execution_count": 328,
     "metadata": {},
     "output_type": "execute_result"
    }
   ],
   "source": [
    "name=(\"12a5\")\n",
    "name.isdecimal()"
   ]
  },
  {
   "cell_type": "markdown",
   "id": "bfa6480b-5f37-4f07-910a-594bcdef838b",
   "metadata": {},
   "source": [
    "# isdigits\n",
    "it will give us true when all the values in the strings is in the digits."
   ]
  },
  {
   "cell_type": "code",
   "execution_count": 331,
   "id": "e3e0084d-5e71-4540-b365-249cb953d64a",
   "metadata": {},
   "outputs": [
    {
     "data": {
      "text/plain": [
       "True"
      ]
     },
     "execution_count": 331,
     "metadata": {},
     "output_type": "execute_result"
    }
   ],
   "source": [
    "name=(\"123456\")\n",
    "name.isdigit()"
   ]
  },
  {
   "cell_type": "markdown",
   "id": "ec3815ac-281e-4d67-9461-602e8915dbed",
   "metadata": {},
   "source": [
    "# isidentifier\n",
    "it will give us true when the value in the string is identified or have some meaning"
   ]
  },
  {
   "cell_type": "code",
   "execution_count": 334,
   "id": "1759af0f-0d8a-453d-b2d7-71d47ef4868d",
   "metadata": {},
   "outputs": [
    {
     "data": {
      "text/plain": [
       "True"
      ]
     },
     "execution_count": 334,
     "metadata": {},
     "output_type": "execute_result"
    }
   ],
   "source": [
    "name=(\"ashish123\")\n",
    "name.isidentifier()"
   ]
  },
  {
   "cell_type": "markdown",
   "id": "9bf7a0bb-aa2c-47e4-9491-8eba93350c0b",
   "metadata": {},
   "source": [
    "# islower\n",
    "it will return us true when all the characthers in the strings is in lower case."
   ]
  },
  {
   "cell_type": "code",
   "execution_count": 337,
   "id": "d4729552-4c56-4c7c-add3-7d500cf14383",
   "metadata": {},
   "outputs": [
    {
     "data": {
      "text/plain": [
       "False"
      ]
     },
     "execution_count": 337,
     "metadata": {},
     "output_type": "execute_result"
    }
   ],
   "source": [
    "name=(\"ASHISH\")\n",
    "name.islower()"
   ]
  },
  {
   "cell_type": "markdown",
   "id": "5c954b6a-ce58-4fe1-95bf-ea8861ab81ee",
   "metadata": {},
   "source": [
    "# isnumeric\n",
    "it will return us true when all characthers in the strings is in numbers/."
   ]
  },
  {
   "cell_type": "code",
   "execution_count": 340,
   "id": "db3c5f29-88d6-4e87-bc7a-298ba1eb8157",
   "metadata": {},
   "outputs": [
    {
     "data": {
      "text/plain": [
       "False"
      ]
     },
     "execution_count": 340,
     "metadata": {},
     "output_type": "execute_result"
    }
   ],
   "source": [
    "name=(\"13a2\")\n",
    "name.isnumeric()"
   ]
  },
  {
   "cell_type": "markdown",
   "id": "28f72d34-fbba-4906-8e8e-eb4fe1f25c70",
   "metadata": {},
   "source": [
    "# isprintable\n",
    "return true when all the characthers in the strings is printable."
   ]
  },
  {
   "cell_type": "code",
   "execution_count": 343,
   "id": "8b6ccbb9-c466-449f-84ae-8be2f516f186",
   "metadata": {},
   "outputs": [
    {
     "data": {
      "text/plain": [
       "True"
      ]
     },
     "execution_count": 343,
     "metadata": {},
     "output_type": "execute_result"
    }
   ],
   "source": [
    "name=(\"ashish @#%^&\")\n",
    "name.isprintable()"
   ]
  },
  {
   "cell_type": "markdown",
   "id": "75d08599-936c-4809-89f3-8360ea9bac34",
   "metadata": {},
   "source": [
    "# isspace\n",
    "retuen true when all the characthers in the strings is \"whitespace\"."
   ]
  },
  {
   "cell_type": "code",
   "execution_count": 346,
   "id": "8b4b5b3a-060c-4322-bc47-86869529aa51",
   "metadata": {},
   "outputs": [
    {
     "data": {
      "text/plain": [
       "True"
      ]
     },
     "execution_count": 346,
     "metadata": {},
     "output_type": "execute_result"
    }
   ],
   "source": [
    "name=(\"     \")\n",
    "name.isspace()"
   ]
  },
  {
   "cell_type": "markdown",
   "id": "770c092f-7489-418d-8ed9-69741402da1d",
   "metadata": {},
   "source": [
    "# istitle\n",
    "return true when every first word of every words i the string is in upper case."
   ]
  },
  {
   "cell_type": "code",
   "execution_count": 349,
   "id": "9e71fc4b-4a6b-4251-a9e3-b6172ac84e8c",
   "metadata": {},
   "outputs": [
    {
     "data": {
      "text/plain": [
       "False"
      ]
     },
     "execution_count": 349,
     "metadata": {},
     "output_type": "execute_result"
    }
   ],
   "source": [
    "name=(\"Ashsih Kumar nagar\")\n",
    "name.istitle()"
   ]
  },
  {
   "cell_type": "markdown",
   "id": "80df0588-ab8c-4d60-8099-1e7c426427d5",
   "metadata": {},
   "source": [
    "# format\n",
    "this will format or transfer the value of the variables in the output."
   ]
  },
  {
   "cell_type": "code",
   "execution_count": 352,
   "id": "9c8be06b-1af2-441c-970d-3e52ef50bcd9",
   "metadata": {},
   "outputs": [
    {
     "name": "stdout",
     "output_type": "stream",
     "text": [
      " Hi ASHISH your city isDelhi and your age is 22\n"
     ]
    }
   ],
   "source": [
    "name=\"ASHISH\"\n",
    "age= 22\n",
    "city= \"Delhi\"\n",
    "print(f\" Hi {name} your city is{city} and your age is {age}\")"
   ]
  },
  {
   "cell_type": "markdown",
   "id": "55b5cfa1-958c-4dbf-8dd8-293e4859432d",
   "metadata": {},
   "source": [
    "# isupper\n",
    "it will return true when all the characthers in the strings is in upper case."
   ]
  },
  {
   "cell_type": "code",
   "execution_count": 355,
   "id": "82c65106-e8ea-4fd1-946c-5dd8b4deb012",
   "metadata": {},
   "outputs": [
    {
     "ename": "SyntaxError",
     "evalue": "invalid syntax (3209991573.py, line 1)",
     "output_type": "error",
     "traceback": [
      "\u001b[1;36m  Cell \u001b[1;32mIn[355], line 1\u001b[1;36m\u001b[0m\n\u001b[1;33m    name.\u001b[0m\n\u001b[1;37m         ^\u001b[0m\n\u001b[1;31mSyntaxError\u001b[0m\u001b[1;31m:\u001b[0m invalid syntax\n"
     ]
    }
   ],
   "source": [
    "name."
   ]
  },
  {
   "cell_type": "markdown",
   "id": "dcd45899-8440-4475-95e9-e29ea3fa4651",
   "metadata": {},
   "source": [
    "# join\n",
    "it will join all the characthers in the strings using a seperaterlike (@#$%)."
   ]
  },
  {
   "cell_type": "code",
   "execution_count": 358,
   "id": "38a17f30-f6a8-46b4-a793-10e7ad94b44d",
   "metadata": {},
   "outputs": [
    {
     "data": {
      "text/plain": [
       "'ashish@rohan@sumit'"
      ]
     },
     "execution_count": 358,
     "metadata": {},
     "output_type": "execute_result"
    }
   ],
   "source": [
    "name=(\"ashish\",\"rohan\",\"sumit\")\n",
    "'@'.join(name)"
   ]
  },
  {
   "cell_type": "markdown",
   "id": "315cf51f-b8b7-4417-9584-9b5d41cbd686",
   "metadata": {},
   "source": [
    "# Ljust   \n",
    "\n",
    "# it will shift the string toward left side and in right side we can give any characther(width,'characther')"
   ]
  },
  {
   "cell_type": "code",
   "execution_count": 142,
   "id": "8ef2fff7-2106-47ae-bad5-374bc5a07cd0",
   "metadata": {},
   "outputs": [
    {
     "data": {
      "text/plain": [
       "'ashish,kumar,nagar@@@@@@@@@@@@@@@@@@@@@@@@@@@'"
      ]
     },
     "execution_count": 142,
     "metadata": {},
     "output_type": "execute_result"
    }
   ],
   "source": [
    "list3=(\"ashish,kumar,nagar\")\n",
    "list3.ljust(45,'@')"
   ]
  },
  {
   "cell_type": "markdown",
   "id": "31c15903-2468-4326-930e-6f348618b8c9",
   "metadata": {},
   "source": [
    "# lower\n",
    "\n",
    "# it will return the whole string in lowe case."
   ]
  },
  {
   "cell_type": "code",
   "execution_count": 145,
   "id": "71b8bd4a-0ce2-491f-9870-c88df421bc3c",
   "metadata": {},
   "outputs": [
    {
     "data": {
      "text/plain": [
       "'ashish,kumar,nagar'"
      ]
     },
     "execution_count": 145,
     "metadata": {},
     "output_type": "execute_result"
    }
   ],
   "source": [
    "list3=(\"ASHISH,KUMAR,NAGAR\")\n",
    "\n",
    "list3.lower()\n",
    "\n"
   ]
  },
  {
   "cell_type": "markdown",
   "id": "a57db841-3906-4e8d-9d4a-b97ba047e0c5",
   "metadata": {},
   "source": [
    "# lstrip\n",
    "\n",
    "# it removes the left side space of the string in the variable."
   ]
  },
  {
   "cell_type": "code",
   "execution_count": 148,
   "id": "1e45f2c6-b4d8-4b56-998d-484356eedab8",
   "metadata": {},
   "outputs": [
    {
     "data": {
      "text/plain": [
       "'ASHISH,KUMAR,NAGAR'"
      ]
     },
     "execution_count": 148,
     "metadata": {},
     "output_type": "execute_result"
    }
   ],
   "source": [
    "list3=(\"                 ASHISH,KUMAR,NAGAR\")\n",
    "\n",
    "list3.lstrip()"
   ]
  },
  {
   "cell_type": "markdown",
   "id": "d64abf04-eb91-446f-92c4-3ffa2f4ef12b",
   "metadata": {},
   "source": [
    "# maketrans"
   ]
  },
  {
   "cell_type": "code",
   "execution_count": 151,
   "id": "22424bc7-fe66-4125-b8ee-48c16e355a79",
   "metadata": {},
   "outputs": [
    {
     "name": "stdout",
     "output_type": "stream",
     "text": [
      "Hello jam!\n"
     ]
    }
   ],
   "source": [
    "txt = \"Hello Sam!\"\n",
    "\n",
    "mytable = str.maketrans(\"S\", \"j\")\n",
    "\n",
    "print(txt.translate(mytable))\n"
   ]
  },
  {
   "cell_type": "markdown",
   "id": "765107ec-3638-468c-bb0d-ce14400a1be5",
   "metadata": {},
   "source": [
    "# partition\n",
    "\n",
    "\n",
    "# Partition the string into three parts using the given separator.\n",
    "\n",
    "This will search for the separator in the string.  If the separator is found,\n",
    "returns a 3-tuple containing the part before the separator, the separator\n",
    "itself, and the part after it.\n",
    "\n",
    "If the separator is not found, returns a 3-tuple containing the original string\n",
    "and two empty strings."
   ]
  },
  {
   "cell_type": "code",
   "execution_count": 154,
   "id": "f8d25d5a-65da-4ff7-b7a3-c62e7c8ac2a3",
   "metadata": {},
   "outputs": [
    {
     "data": {
      "text/plain": [
       "('ASHISH,', '@', 'KUMAR,NAGAR')"
      ]
     },
     "execution_count": 154,
     "metadata": {},
     "output_type": "execute_result"
    }
   ],
   "source": [
    "list3=(\"ASHISH,@KUMAR,NAGAR\")              # has seperator.\n",
    "list3.partition('@')"
   ]
  },
  {
   "cell_type": "code",
   "execution_count": 156,
   "id": "8627913a-d3db-4fb8-ad06-733b10fb57d7",
   "metadata": {},
   "outputs": [
    {
     "data": {
      "text/plain": [
       "('ASHISH,KUMAR,NAGAR', '', '')"
      ]
     },
     "execution_count": 156,
     "metadata": {},
     "output_type": "execute_result"
    }
   ],
   "source": [
    "list3=(\"ASHISH,KUMAR,NAGAR\")               # has no seperator.\n",
    "list3.partition('a')"
   ]
  },
  {
   "cell_type": "markdown",
   "id": "d21c6a20-1104-4c4a-9bf8-c858acfc1668",
   "metadata": {},
   "source": [
    "#  removeprefix ()\n",
    "\n",
    "# it will remove the prefix of the string ,by providing the PREFIX()"
   ]
  },
  {
   "cell_type": "code",
   "execution_count": 159,
   "id": "ae451a6f-8397-480f-a2f5-96741168a417",
   "metadata": {},
   "outputs": [
    {
     "data": {
      "text/plain": [
       "'ISH,KUMAR,NAGAR'"
      ]
     },
     "execution_count": 159,
     "metadata": {},
     "output_type": "execute_result"
    }
   ],
   "source": [
    "list3=(\"ASHISH,KUMAR,NAGAR\")   # only ASHISH is prefix\n",
    "list3.removeprefix(\"ASH\")"
   ]
  },
  {
   "cell_type": "code",
   "execution_count": 161,
   "id": "749bc672-a8d5-488c-8050-e3af2a49e508",
   "metadata": {},
   "outputs": [
    {
     "data": {
      "text/plain": [
       "'ASHISH,KUMAR,NAGAR'"
      ]
     },
     "execution_count": 161,
     "metadata": {},
     "output_type": "execute_result"
    }
   ],
   "source": [
    "list3=(\"ASHISH,KUMAR,NAGAR\")       # KUMAR NAGAR is not a prefix\n",
    "list3.removeprefix(\"KUMA\")"
   ]
  },
  {
   "cell_type": "markdown",
   "id": "97612a29-8be0-4192-b4ab-ffdf65b8954b",
   "metadata": {},
   "source": [
    "# removesuffix ()\n",
    "\n",
    "#  it will remove the suffix of the string ,by providing the suffix()"
   ]
  },
  {
   "cell_type": "code",
   "execution_count": 164,
   "id": "34103060-b994-4ff7-8319-0fcf53dbb019",
   "metadata": {},
   "outputs": [
    {
     "data": {
      "text/plain": [
       "'ASHISH,KUMAR,N'"
      ]
     },
     "execution_count": 164,
     "metadata": {},
     "output_type": "execute_result"
    }
   ],
   "source": [
    "list3=(\"ASHISH,KUMAR,NAGAR\") \n",
    "list3.removesuffix('AGAR')"
   ]
  },
  {
   "cell_type": "markdown",
   "id": "fc77eb18-7f33-473c-8fc1-bc15c87954a1",
   "metadata": {},
   "source": [
    "# replace ()\n",
    "\n",
    "\n",
    "# it will replace the old element with the new element in the string"
   ]
  },
  {
   "cell_type": "code",
   "execution_count": 185,
   "id": "c9f64ab1-1beb-41ca-8412-a5026798695c",
   "metadata": {},
   "outputs": [
    {
     "data": {
      "text/plain": [
       "'OSHISH,KUMOR,NOGOR'"
      ]
     },
     "execution_count": 185,
     "metadata": {},
     "output_type": "execute_result"
    }
   ],
   "source": [
    "list3=(\"ASHISH,KUMAR,NAGAR\") \n",
    "\n",
    "list3.replace('A','O',)\n",
    "\n"
   ]
  },
  {
   "cell_type": "markdown",
   "id": "ba5cca08-afcf-4dcb-9607-d18d4034fb06",
   "metadata": {},
   "source": [
    "# rfind ()\n",
    "\n",
    "# S.rfind(sub[, start[, end]]) -> int\n",
    "\n",
    "Return the highest index in S where substring sub is found,\n",
    "such that sub is contained within S[start:end].  Optional\n",
    "arguments start and end are interpreted as in slice notation.\n",
    "\n",
    "Return -1 on failure."
   ]
  },
  {
   "cell_type": "code",
   "execution_count": 201,
   "id": "0edbd0ab-6c98-4814-8ad4-05e7326e3602",
   "metadata": {},
   "outputs": [
    {
     "data": {
      "text/plain": [
       "14"
      ]
     },
     "execution_count": 201,
     "metadata": {},
     "output_type": "execute_result"
    }
   ],
   "source": [
    "list3=(\"ASHISH,KUMAR,'jinga',NAGAR\") \n",
    "list3.rfind('jinga')"
   ]
  },
  {
   "cell_type": "markdown",
   "id": "2cc3d25b-bc8c-4a2b-8e04-b8107e7cefdf",
   "metadata": {},
   "source": [
    "# split ()\n",
    "\n",
    "\n",
    "# Return a list of the substrings in the string, using sep as the separator string.\n",
    "\n",
    " # sep\n",
    " #   The separator used to split the string.\n"
   ]
  },
  {
   "cell_type": "code",
   "execution_count": 229,
   "id": "0a0f6eb0-6c22-44e8-90fd-d63deef96453",
   "metadata": {},
   "outputs": [
    {
     "data": {
      "text/plain": [
       "['ASHISH,KUMAR,NAGAR']"
      ]
     },
     "execution_count": 229,
     "metadata": {},
     "output_type": "execute_result"
    }
   ],
   "source": [
    "list3=(\"ASHISH,KUMAR,NAGAR\")\n",
    "\n",
    "list3.split()"
   ]
  },
  {
   "cell_type": "markdown",
   "id": "d4587aff-a522-41da-9099-45b2ef734014",
   "metadata": {},
   "source": [
    "# startswith()\n",
    "\n",
    "\n",
    "# Return True if S starts with the specified prefix, False otherwise.\n",
    "With optional start, test S beginning at that position.\n",
    "With optional end, stop comparing S at that position.\n",
    "prefix can also be a tuple of strings to try."
   ]
  },
  {
   "cell_type": "code",
   "execution_count": 237,
   "id": "9398a2b3-2629-4014-8a4a-fca52327ff9e",
   "metadata": {},
   "outputs": [
    {
     "data": {
      "text/plain": [
       "True"
      ]
     },
     "execution_count": 237,
     "metadata": {},
     "output_type": "execute_result"
    }
   ],
   "source": [
    "list3=(\"ASHISH,KUMAR,NAGAR\")\n",
    "\n",
    "list3.startswith('ASH')"
   ]
  },
  {
   "cell_type": "markdown",
   "id": "ca1b23fa-56ba-4b1a-b3f5-134f30f318c6",
   "metadata": {},
   "source": [
    "# swapcase()\n",
    "\n",
    "\n",
    "# Convert uppercase characters to lowercase and lowercase characters to uppercase.\n",
    "   "
   ]
  },
  {
   "cell_type": "code",
   "execution_count": 247,
   "id": "ade86fe8-60da-4bbb-b21c-1ebccbcf96f6",
   "metadata": {},
   "outputs": [
    {
     "data": {
      "text/plain": [
       "'aSHiSh,KUMaR,nagar'"
      ]
     },
     "execution_count": 247,
     "metadata": {},
     "output_type": "execute_result"
    }
   ],
   "source": [
    "list3=(\"AshIsH,kumAr,NAGAR\")\n",
    "\n",
    "list3.swapcase()"
   ]
  },
  {
   "cell_type": "markdown",
   "id": "55c0e0e7-39bc-4910-9f4d-6ba503e39d00",
   "metadata": {},
   "source": [
    "# title ()\n",
    "\n",
    "\n",
    "# it will return the string withe first word in upper case and other in lower case."
   ]
  },
  {
   "cell_type": "code",
   "execution_count": 257,
   "id": "18df3d2c-653e-4368-a0de-fafd0386963b",
   "metadata": {},
   "outputs": [
    {
     "data": {
      "text/plain": [
       "'Ashish,Kumar,Nagar'"
      ]
     },
     "execution_count": 257,
     "metadata": {},
     "output_type": "execute_result"
    }
   ],
   "source": [
    "list3=(\"ashish,kumar,nagar\")\n",
    "\n",
    "list3.title()"
   ]
  },
  {
   "cell_type": "markdown",
   "id": "c8fa93ce-bdfa-4643-b758-9aa97a31d67a",
   "metadata": {},
   "source": [
    "# upper ().\n",
    "\n",
    "\n",
    "# Return a copy of the full string converted to uppercase."
   ]
  },
  {
   "cell_type": "code",
   "execution_count": 277,
   "id": "b4083b30-939e-406d-b8b4-5a74d82f6a38",
   "metadata": {},
   "outputs": [
    {
     "data": {
      "text/plain": [
       "'ASHIH,KUMAR,NAGAR'"
      ]
     },
     "execution_count": 277,
     "metadata": {},
     "output_type": "execute_result"
    }
   ],
   "source": [
    "list3=(\"ashih,kumar,nagar\")\n",
    "\n",
    "list3.upper()"
   ]
  },
  {
   "cell_type": "markdown",
   "id": "4d3859c2-e37e-45ba-ace7-1394c2c4c37d",
   "metadata": {},
   "source": [
    "# zfill ()\n",
    "\n",
    "# it fill the left side space with zero(0), by providing (width)"
   ]
  },
  {
   "cell_type": "code",
   "execution_count": 287,
   "id": "0da4bbb5-38e5-46d1-b80a-d34c39199533",
   "metadata": {},
   "outputs": [
    {
     "data": {
      "text/plain": [
       "'00000000000000000001,2,3,4,5,6,7,8'"
      ]
     },
     "execution_count": 287,
     "metadata": {},
     "output_type": "execute_result"
    }
   ],
   "source": [
    "list3=(\"1,2,3,4,5,6,7,8\")\n",
    "       \n",
    "list3.zfill(34)"
   ]
  },
  {
   "cell_type": "code",
   "execution_count": null,
   "id": "e091bc96-c263-4491-928d-88288e81d7de",
   "metadata": {},
   "outputs": [],
   "source": []
  }
 ],
 "metadata": {
  "kernelspec": {
   "display_name": "Python 3 (ipykernel)",
   "language": "python",
   "name": "python3"
  },
  "language_info": {
   "codemirror_mode": {
    "name": "ipython",
    "version": 3
   },
   "file_extension": ".py",
   "mimetype": "text/x-python",
   "name": "python",
   "nbconvert_exporter": "python",
   "pygments_lexer": "ipython3",
   "version": "3.12.7"
  }
 },
 "nbformat": 4,
 "nbformat_minor": 5
}
