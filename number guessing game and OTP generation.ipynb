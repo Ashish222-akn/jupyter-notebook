{
 "cells": [
  {
   "cell_type": "markdown",
   "id": "1f13abdf-b618-4873-b50d-6c07bc4452c0",
   "metadata": {},
   "source": [
    "# generate random number , guess user input"
   ]
  },
  {
   "cell_type": "code",
   "execution_count": 58,
   "id": "22a22b09-bc38-48ef-bf98-c4a91620a35f",
   "metadata": {},
   "outputs": [
    {
     "name": "stdout",
     "output_type": "stream",
     "text": [
      "Number Guessing Game !\n"
     ]
    },
    {
     "name": "stdin",
     "output_type": "stream",
     "text": [
      "enter your number 15\n"
     ]
    },
    {
     "name": "stdout",
     "output_type": "stream",
     "text": [
      "your guess is low\n"
     ]
    },
    {
     "name": "stdin",
     "output_type": "stream",
     "text": [
      "enter your number 17\n"
     ]
    },
    {
     "name": "stdout",
     "output_type": "stream",
     "text": [
      "your guess is low\n"
     ]
    },
    {
     "name": "stdin",
     "output_type": "stream",
     "text": [
      "enter your number 19\n"
     ]
    },
    {
     "name": "stdout",
     "output_type": "stream",
     "text": [
      "Total attempts: 3\n",
      "correct number\n",
      "number of reamining attempts: 2\n"
     ]
    }
   ],
   "source": [
    "import random\n",
    "\n",
    "random_number=random.randint(1,20)\n",
    "print(\"Number Guessing Game !\")\n",
    "\n",
    "user_input=int(input(\"enter your number\"))\n",
    "no_of_attempts=1\n",
    "remaining_attempts=5\n",
    "while user_input != random_number:\n",
    "    if user_input == random_number:\n",
    "         print(\"Congratulation! you guess the correct Number\")\n",
    "    \n",
    "    if user_input>random_number:\n",
    "         print(\"your guess is high\")\n",
    "    if user_input<random_number:\n",
    "         print(\"your guess is low\")\n",
    "    user_input=int(input(\"enter your number\"))\n",
    "\n",
    "    \n",
    "    no_of_attempts = no_of_attempts+1\n",
    "    remaining_attempts = remaining_attempts-1\n",
    "    \n",
    "    if remaining_attempts == 0:\n",
    "        print(\"all attempts are gone! try again\")\n",
    "        break\n",
    "else:\n",
    "    print(\"Total attempts:\",no_of_attempts)\n",
    "    print(\"correct number\")\n",
    "    print(\"number of reamining attempts:\",remaining_attempts-1)   \n",
    "        "
   ]
  },
  {
   "cell_type": "code",
   "execution_count": 57,
   "id": "d00ee9a9-4280-4a13-81a2-53e54d06cd31",
   "metadata": {},
   "outputs": [
    {
     "data": {
      "text/plain": [
       "[88888888]"
      ]
     },
     "execution_count": 57,
     "metadata": {},
     "output_type": "execute_result"
    }
   ],
   "source": [
    "list1=[1,23,[1,2,3,[9,[88888888]]]]\n",
    "\n",
    "list1[2][3][1]"
   ]
  },
  {
   "cell_type": "code",
   "execution_count": 43,
   "id": "c6594480-79a2-407b-affd-071ba6cb57ee",
   "metadata": {},
   "outputs": [
    {
     "name": "stdout",
     "output_type": "stream",
     "text": [
      "your OTP is : 504624358882465171097801328410976615\n"
     ]
    }
   ],
   "source": [
    "import random\n",
    "otp=random.randint(1,1000)\n",
    "print(\"your OTP is :\",otp)"
   ]
  },
  {
   "cell_type": "code",
   "execution_count": null,
   "id": "4f77fd9d-0dd5-4b70-879c-ae97a3a74389",
   "metadata": {},
   "outputs": [],
   "source": []
  },
  {
   "cell_type": "code",
   "execution_count": null,
   "id": "c3ae9773-cd50-4582-80c0-2f0fa4d51e8c",
   "metadata": {},
   "outputs": [],
   "source": []
  }
 ],
 "metadata": {
  "kernelspec": {
   "display_name": "Python 3 (ipykernel)",
   "language": "python",
   "name": "python3"
  },
  "language_info": {
   "codemirror_mode": {
    "name": "ipython",
    "version": 3
   },
   "file_extension": ".py",
   "mimetype": "text/x-python",
   "name": "python",
   "nbconvert_exporter": "python",
   "pygments_lexer": "ipython3",
   "version": "3.12.7"
  }
 },
 "nbformat": 4,
 "nbformat_minor": 5
}
