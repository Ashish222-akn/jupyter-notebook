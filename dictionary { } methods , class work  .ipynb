{
 "cells": [
  {
   "cell_type": "markdown",
   "id": "f0419946-0d5c-465b-96a6-346a62a4363f",
   "metadata": {},
   "source": [
    "#                                                                                      Dictionary METHODS"
   ]
  },
  {
   "cell_type": "markdown",
   "id": "9bb7d773-4aba-4e6d-aa0b-faba70b9d1e4",
   "metadata": {},
   "source": [
    "#"
   ]
  },
  {
   "cell_type": "markdown",
   "id": "a4097fe9-2c0d-44fa-be40-88251843ce8b",
   "metadata": {},
   "source": [
    "# 1 - Clear (it will return empty  dictionary .)"
   ]
  },
  {
   "cell_type": "code",
   "execution_count": 100,
   "id": "f631ebdd-f452-4400-a09f-cefaf4de7f52",
   "metadata": {},
   "outputs": [
    {
     "name": "stdout",
     "output_type": "stream",
     "text": [
      "{}\n"
     ]
    }
   ],
   "source": [
    "my_dict={'name':'ashish','class':'python'}\n",
    "\n",
    "my_dict.clear()\n",
    "print(my_dict)"
   ]
  },
  {
   "cell_type": "markdown",
   "id": "bf1e1088-8352-42b1-84f2-6c400b9b0d9a",
   "metadata": {},
   "source": [
    "# 2 - copy (it will copy the dictionary)"
   ]
  },
  {
   "cell_type": "code",
   "execution_count": 25,
   "id": "1e541ae3-857a-4b0b-b5d6-d7abecb05460",
   "metadata": {},
   "outputs": [
    {
     "data": {
      "text/plain": [
       "{'name': 'ashish', 'class': 'python'}"
      ]
     },
     "execution_count": 25,
     "metadata": {},
     "output_type": "execute_result"
    }
   ],
   "source": [
    "my_dict={'name':'ashish','class':'python'}\n",
    "\n",
    "my_dict.copy()\n"
   ]
  },
  {
   "cell_type": "markdown",
   "id": "aa3fabb1-6b34-4910-930b-47002c7ae384",
   "metadata": {},
   "source": [
    "# 3-  fromkey - (it will add default 'value' in the every'key' of dictionary)."
   ]
  },
  {
   "cell_type": "code",
   "execution_count": 30,
   "id": "525b185c-29c1-4100-91aa-ac4d978a785c",
   "metadata": {},
   "outputs": [
    {
     "name": "stdout",
     "output_type": "stream",
     "text": [
      "{'key1': 'python', 'key2': 'python', 'key3': 'python'}\n"
     ]
    }
   ],
   "source": [
    "key=['key1','key2','key3']            # here we want to add pytho in every 'key'\n",
    "default_value='python'\n",
    "\n",
    "new_vari=dict.fromkeys(key,default_value)      # take a new variable .\n",
    "\n",
    "print(new_vari)"
   ]
  },
  {
   "cell_type": "code",
   "execution_count": 9,
   "id": "6732013d-5332-4601-bd04-f0cf70830f28",
   "metadata": {},
   "outputs": [
    {
     "data": {
      "text/plain": [
       "dict_values(['ashish', 'python'])"
      ]
     },
     "execution_count": 9,
     "metadata": {},
     "output_type": "execute_result"
    }
   ],
   "source": [
    "my_dict={'name':'ashish','class':'python'}\n",
    "my_dict.values()"
   ]
  },
  {
   "cell_type": "markdown",
   "id": "16ce7da7-dd54-4715-8c30-d41629f2d258",
   "metadata": {},
   "source": [
    "# 4 - get (it will return the value of the key by providing the key.)"
   ]
  },
  {
   "cell_type": "code",
   "execution_count": 37,
   "id": "fb129cd6-3f0b-4174-97f3-6807413df7e4",
   "metadata": {},
   "outputs": [
    {
     "data": {
      "text/plain": [
       "'ashish'"
      ]
     },
     "execution_count": 37,
     "metadata": {},
     "output_type": "execute_result"
    }
   ],
   "source": [
    "my_dict={'name':'ashish','class':'python'}\n",
    "my_dict.get('name')"
   ]
  },
  {
   "cell_type": "markdown",
   "id": "77de55a9-ea84-46f0-8b00-a8a0cf36f000",
   "metadata": {},
   "source": [
    "# 5 - item ( it will return thewhole dictionary in a list.)"
   ]
  },
  {
   "cell_type": "code",
   "execution_count": 39,
   "id": "94c338b8-57ed-40a8-a5a8-6c458f823660",
   "metadata": {},
   "outputs": [
    {
     "data": {
      "text/plain": [
       "dict_items([('name', 'ashish'), ('class', 'python')])"
      ]
     },
     "execution_count": 39,
     "metadata": {},
     "output_type": "execute_result"
    }
   ],
   "source": [
    "my_dict={'name':'ashish','class':'python'}\n",
    "my_dict.items()"
   ]
  },
  {
   "cell_type": "markdown",
   "id": "9691db97-c4bc-4b67-af00-c73ce98e5c92",
   "metadata": {},
   "source": [
    "# 6 key - ( it will return only key of the dictionary.)"
   ]
  },
  {
   "cell_type": "code",
   "execution_count": 46,
   "id": "9ffc4db1-73eb-4d87-a680-66f3c3a0be97",
   "metadata": {},
   "outputs": [
    {
     "data": {
      "text/plain": [
       "dict_keys(['name', 'class'])"
      ]
     },
     "execution_count": 46,
     "metadata": {},
     "output_type": "execute_result"
    }
   ],
   "source": [
    "my_dict={'name':'ashish','class':'python'}\n",
    "my_dict.keys()"
   ]
  },
  {
   "cell_type": "markdown",
   "id": "b5230879-3b18-4f4a-8c25-729f34a8fced",
   "metadata": {},
   "source": [
    "# 7- pop ( it will remove the specfic key and return the value of key.)"
   ]
  },
  {
   "cell_type": "code",
   "execution_count": 51,
   "id": "4f9f113e-8ebb-44f9-806a-619d522bbb7f",
   "metadata": {},
   "outputs": [
    {
     "data": {
      "text/plain": [
       "'ashish'"
      ]
     },
     "execution_count": 51,
     "metadata": {},
     "output_type": "execute_result"
    }
   ],
   "source": [
    "my_dict={'name':'ashish','class':'python'}\n",
    "my_dict.pop('name')"
   ]
  },
  {
   "cell_type": "code",
   "execution_count": 53,
   "id": "b8f37109-3acf-4882-bc8a-e2bae9c8d829",
   "metadata": {},
   "outputs": [
    {
     "data": {
      "text/plain": [
       "{'class': 'python'}"
      ]
     },
     "execution_count": 53,
     "metadata": {},
     "output_type": "execute_result"
    }
   ],
   "source": [
    "my_dict                              # here 'name' key has been removed for the dictinary(mydict)"
   ]
  },
  {
   "cell_type": "markdown",
   "id": "41c34aea-309d-4774-8daf-3055180e80c8",
   "metadata": {},
   "source": [
    "# 8 - popitem (it will remove the last (key , value) in the dictionary )"
   ]
  },
  {
   "cell_type": "code",
   "execution_count": 64,
   "id": "2370d406-c3a9-42c3-b8d8-b2a1f2be7bdd",
   "metadata": {},
   "outputs": [
    {
     "data": {
      "text/plain": [
       "('city', 'delhi')"
      ]
     },
     "execution_count": 64,
     "metadata": {},
     "output_type": "execute_result"
    }
   ],
   "source": [
    "my_dict={'name':'ashish','class':'python','city':'delhi'}\n",
    "my_dict.popitem()                                           # it will show output like which key and value is removed."
   ]
  },
  {
   "cell_type": "code",
   "execution_count": 69,
   "id": "56120194-2c68-457f-84dd-934e5317bd1d",
   "metadata": {},
   "outputs": [
    {
     "data": {
      "text/plain": [
       "{'name': 'ashish', 'class': 'python'}"
      ]
     },
     "execution_count": 69,
     "metadata": {},
     "output_type": "execute_result"
    }
   ],
   "source": [
    "my_dict                                     # here (city,delhi) has been removed."
   ]
  },
  {
   "cell_type": "markdown",
   "id": "e8252cc0-e34d-41b2-99f5-82ca83777abf",
   "metadata": {},
   "source": [
    "# 9 - setdefault  (it update the dictionary if the 'key' is not present in the dictionary.)"
   ]
  },
  {
   "cell_type": "code",
   "execution_count": 130,
   "id": "906d885a-ede6-48c8-b43e-7f78cb9b72f7",
   "metadata": {},
   "outputs": [
    {
     "name": "stdout",
     "output_type": "stream",
     "text": [
      "{'name': 'ashish', 'surname': 'nagar'}\n"
     ]
    }
   ],
   "source": [
    "one={'name':'ashish','surname':'nagar'}\n",
    "one.setdefault('name','rohan') # setdefault doest not update the dictionary if the key is already existing, \n",
    "\n",
    "print(one)                                 "
   ]
  },
  {
   "cell_type": "code",
   "execution_count": 131,
   "id": "0fdb12eb-4bce-4b33-a218-1c9b43538b5a",
   "metadata": {},
   "outputs": [
    {
     "name": "stdout",
     "output_type": "stream",
     "text": [
      "{'name': 'ashish', 'surname': 'nagar', 'name1': 'rohan'}\n"
     ]
    }
   ],
   "source": [
    "one={'name':'ashish','surname':'nagar'}\n",
    "one.setdefault('name1','rohan')             # here setdefault update the dictionary because the key'name1' is not existing in the dictionary.\n",
    "                                                                            \n",
    "print(one)                                 "
   ]
  },
  {
   "cell_type": "markdown",
   "id": "6b699b09-53e2-4481-8de0-cc4ab2bbd777",
   "metadata": {},
   "source": [
    "# 10 - update  ( it will uodate the first dictionary and assign them the value of second dictionary. )"
   ]
  },
  {
   "cell_type": "code",
   "execution_count": 135,
   "id": "31656178-c935-4526-a78f-899caa379c6d",
   "metadata": {},
   "outputs": [
    {
     "name": "stdout",
     "output_type": "stream",
     "text": [
      "{'name': 'rohan', 'surname': 'singh'}\n"
     ]
    }
   ],
   "source": [
    "one={'name':'ashish','surname':'nagar'}\n",
    "two={'name':'rohan','surname':'singh'}\n",
    "\n",
    "one.update(two)                             # the value of dictionary one has been updateded into the second dictionary,.\n",
    "\n",
    "print(one)"
   ]
  },
  {
   "cell_type": "markdown",
   "id": "fe2288a0-460b-4a3e-9909-eb62ad883178",
   "metadata": {},
   "source": [
    "# 11 - values  ( it will return the values of all the keys)"
   ]
  },
  {
   "cell_type": "code",
   "execution_count": 138,
   "id": "d4fc8a41-d7e2-4c9d-90dd-178a3a4605ab",
   "metadata": {},
   "outputs": [
    {
     "data": {
      "text/plain": [
       "dict_values(['ashish', 'python', 'delhi'])"
      ]
     },
     "execution_count": 138,
     "metadata": {},
     "output_type": "execute_result"
    }
   ],
   "source": [
    "my_dict={'name':'ashish','class':'python','city':'delhi'}\n",
    "\n",
    "my_dict.values()"
   ]
  },
  {
   "cell_type": "code",
   "execution_count": null,
   "id": "3ae14748-9f76-44cd-aa6f-af7b7505ffbc",
   "metadata": {},
   "outputs": [],
   "source": []
  },
  {
   "cell_type": "code",
   "execution_count": null,
   "id": "ab12f56b-6828-44a5-86f2-01fdc1ddd9d5",
   "metadata": {},
   "outputs": [],
   "source": []
  },
  {
   "cell_type": "markdown",
   "id": "f079bb47-8405-494d-a6a6-ebe75bfdc337",
   "metadata": {},
   "source": [
    "#                                                        CLASS  WORK ."
   ]
  },
  {
   "cell_type": "code",
   "execution_count": 143,
   "id": "3087c824-8867-4d28-84e0-d94b9871387a",
   "metadata": {},
   "outputs": [
    {
     "data": {
      "text/plain": [
       "'ashish'"
      ]
     },
     "execution_count": 143,
     "metadata": {},
     "output_type": "execute_result"
    }
   ],
   "source": [
    "#  to access only single value, just give the name of key.\n",
    "\n",
    "my_dict['name']                 "
   ]
  },
  {
   "cell_type": "code",
   "execution_count": 145,
   "id": "9d3ff4db-c99f-42a6-a6bb-d99c540997cb",
   "metadata": {},
   "outputs": [
    {
     "name": "stdout",
     "output_type": "stream",
     "text": [
      "name\n",
      "class\n"
     ]
    }
   ],
   "source": [
    "# for accessing all the values , keys in dictionary.\n",
    "my_dict={'name':'ashish','class':'python'}\n",
    "for key,value in my_dict.items():\n",
    "    print(key)"
   ]
  },
  {
   "cell_type": "code",
   "execution_count": 146,
   "id": "0de25fb4-3bb2-410c-bf03-e48dba110574",
   "metadata": {},
   "outputs": [
    {
     "name": "stdout",
     "output_type": "stream",
     "text": [
      "python\n"
     ]
    }
   ],
   "source": [
    "# using for loop for accessing the particular values in the keys.\n",
    "my_dict={'name':'ashish','class':'python'}\n",
    "for key,value in my_dict.items():\n",
    "    if key=='class':                               # here we want to access only class key.\n",
    "        print(value)\n",
    "    "
   ]
  },
  {
   "cell_type": "code",
   "execution_count": 147,
   "id": "6fcbecbf-7d85-4627-b662-51332fd072a8",
   "metadata": {},
   "outputs": [
    {
     "name": "stdout",
     "output_type": "stream",
     "text": [
      "{'name': 'rohan', 'class': 'JAVA'}\n"
     ]
    }
   ],
   "source": [
    "# to update the 'values' of the 'key' in a dictionary.\n",
    "\n",
    "my_dict={'name':'ashish','class':'python'}\n",
    "\n",
    "my_dict['name'] = \"rohan\"\n",
    "my_dict['class'] = \"JAVA\"\n",
    "\n",
    "print(my_dict)"
   ]
  },
  {
   "cell_type": "code",
   "execution_count": 151,
   "id": "912a281f-2093-45a4-9d58-eb7911d304d4",
   "metadata": {},
   "outputs": [
    {
     "data": {
      "text/plain": [
       "34"
      ]
     },
     "execution_count": 151,
     "metadata": {},
     "output_type": "execute_result"
    }
   ],
   "source": [
    "# to access the '34' for the my_dict2.\n",
    "# first etract the 'list' key and then perform indexing\n",
    "# first [2] and then [1].\n",
    "\n",
    "\n",
    "my_dict2={'name':'ashish','class':'python','city':'delhi',1:'this', (1,2,3):'my list','list1':[1,2,[3,34]]}\n",
    "my_dict2['list1'][2][1]"
   ]
  },
  {
   "cell_type": "code",
   "execution_count": 153,
   "id": "a4b8e6db-b5b5-4b7b-aa98-e67dfcee75e8",
   "metadata": {},
   "outputs": [
    {
     "name": "stdout",
     "output_type": "stream",
     "text": [
      "{'name': 'ashish kumar', 'subject': 'python basic'}\n"
     ]
    }
   ],
   "source": [
    "# creating dictionary withe dict constructor.\n",
    "\n",
    "my_dict3=dict(name='ashish kumar',subject='python basic')       # just take key as a varaibles.\n",
    "print(my_dict3)"
   ]
  },
  {
   "cell_type": "code",
   "execution_count": 155,
   "id": "f545f366-d040-4d95-985f-32b8e116326e",
   "metadata": {},
   "outputs": [
    {
     "name": "stdout",
     "output_type": "stream",
     "text": [
      "<class 'dict'>\n"
     ]
    }
   ],
   "source": [
    "print(type(my_dict3))      # checking 'TYPE' of my_dict3."
   ]
  },
  {
   "cell_type": "markdown",
   "id": "4426865e-50ec-45cf-b0b5-ed71a7bcc1a6",
   "metadata": {},
   "source": [
    "# * Adding a new key to a dictionary {}."
   ]
  },
  {
   "cell_type": "code",
   "execution_count": 165,
   "id": "fecf3040-2f12-4070-aadb-a3b20027a9e4",
   "metadata": {},
   "outputs": [
    {
     "name": "stdout",
     "output_type": "stream",
     "text": [
      "{'name': 'ashish', 'class': 'python', 'roll.number': '222'}\n"
     ]
    }
   ],
   "source": [
    "my_dict={'name':'ashish','class':'python'}\n",
    "\n",
    "my_dict['roll.number']=\"222\"\n",
    "print(my_dict)"
   ]
  },
  {
   "cell_type": "markdown",
   "id": "bb8bf740-efaf-49f1-a68f-007abd0a16bd",
   "metadata": {},
   "source": [
    "# Updating the dictionary."
   ]
  },
  {
   "cell_type": "code",
   "execution_count": 161,
   "id": "9ec36697-6549-45f8-8cc9-47e316119e6f",
   "metadata": {},
   "outputs": [
    {
     "name": "stdout",
     "output_type": "stream",
     "text": [
      "{'name': 'rohan', 'surname': 'singh'}\n"
     ]
    }
   ],
   "source": [
    "one={'name':'ashish','surname':'nagar'}\n",
    "two={'name':'rohan','surname':'singh'}\n",
    "\n",
    "one.update(two)\n",
    "\n",
    "print(one)"
   ]
  },
  {
   "cell_type": "markdown",
   "id": "0cb82446-c246-49bb-a2e7-d1a04f9891c7",
   "metadata": {},
   "source": [
    "# setdefault - it update the dictionary if the key is not present otherwise it will return the existing value."
   ]
  },
  {
   "cell_type": "code",
   "execution_count": 124,
   "id": "71ec1557-a40f-4b6c-89bb-30aa91c6a6de",
   "metadata": {},
   "outputs": [
    {
     "name": "stdout",
     "output_type": "stream",
     "text": [
      "{'name': 'ashish', 'surname': 'nagar'}\n"
     ]
    }
   ],
   "source": [
    "one={'name':'ashish','surname':'nagar'}\n",
    "one.setdefault('name','rohan')             # setdefault doest not update the dictionary if the key is already existing,   \n",
    "print(one)                                 "
   ]
  },
  {
   "cell_type": "code",
   "execution_count": 126,
   "id": "6c87579e-88be-4860-a36f-54688adeb1cd",
   "metadata": {},
   "outputs": [
    {
     "name": "stdout",
     "output_type": "stream",
     "text": [
      "{'name': 'ashish', 'surname': 'nagar', 'name1': 'rohan'}\n"
     ]
    }
   ],
   "source": [
    "one={'name':'ashish','surname':'nagar'}\n",
    "one.setdefault('name1','rohan')             # here setdefault update the dictionary because the key'name1' is not existing in the dictionary.\n",
    "                                                                            \n",
    "print(one)                                 "
   ]
  },
  {
   "cell_type": "code",
   "execution_count": null,
   "id": "ae5f6d8f-36b6-4da2-9ad6-ae62656e289a",
   "metadata": {},
   "outputs": [],
   "source": []
  },
  {
   "cell_type": "code",
   "execution_count": null,
   "id": "24eb514b-0f4f-4107-a1c9-a69d2d86b1bd",
   "metadata": {},
   "outputs": [],
   "source": []
  },
  {
   "cell_type": "code",
   "execution_count": null,
   "id": "aa9b60ff-65cf-42f7-b777-cf99b61bedf5",
   "metadata": {},
   "outputs": [],
   "source": []
  },
  {
   "cell_type": "code",
   "execution_count": null,
   "id": "5f1fd55c-9408-4c83-86b4-0f0bfe97f62a",
   "metadata": {},
   "outputs": [],
   "source": []
  },
  {
   "cell_type": "code",
   "execution_count": null,
   "id": "0d733c3f-f4de-47d2-8759-fcd4fbf3fd26",
   "metadata": {},
   "outputs": [],
   "source": []
  },
  {
   "cell_type": "code",
   "execution_count": null,
   "id": "30770b9c-9449-4e67-9bb5-bd5a13128e30",
   "metadata": {},
   "outputs": [],
   "source": []
  }
 ],
 "metadata": {
  "kernelspec": {
   "display_name": "Python 3 (ipykernel)",
   "language": "python",
   "name": "python3"
  },
  "language_info": {
   "codemirror_mode": {
    "name": "ipython",
    "version": 3
   },
   "file_extension": ".py",
   "mimetype": "text/x-python",
   "name": "python",
   "nbconvert_exporter": "python",
   "pygments_lexer": "ipython3",
   "version": "3.12.7"
  }
 },
 "nbformat": 4,
 "nbformat_minor": 5
}
