{
 "cells": [
  {
   "cell_type": "code",
   "execution_count": 1,
   "id": "e7cc45f1-2bd2-46e4-994c-f9fc7e4e1a12",
   "metadata": {},
   "outputs": [],
   "source": [
    "import tkinter as tk\n",
    "from tkinter import messagebox\n",
    "import webbrowser\n",
    "\n",
    "def login():\n",
    "    username=user_name_entry.get()\n",
    "    password=password_entry.get()\n",
    "    \n",
    "    if username==\"ashish\" and password==\"ashish1234@\":\n",
    "        webbrowser.open(\"www.amazon.com\")\n",
    "    else:\n",
    "        messagebox.showerror(\"wrong username\",\"invalid username or password please try again\")\n",
    "\n",
    "\n",
    "root=tk.Tk()\n",
    "root.geometry(\"500x500\")\n",
    "root.title(\"login app\")\n",
    "\n",
    "user_name_lable = tk.Label(text = \"USERNAME\")\n",
    "user_name_lable.grid(row=0,column=0,padx=30,pady=30)\n",
    "\n",
    "\n",
    "password_lable=tk.Label(text=\"PASSWORD\")\n",
    "password_lable.grid(row=1,column=0,padx=30,pady=30)\n",
    "\n",
    "\n",
    "password_entry=tk.Entry()\n",
    "password_entry.grid(row=1,column=1,)\n",
    "\n",
    "\n",
    "user_name_entry=tk.Entry()\n",
    "user_name_entry.grid(row=0,column=1)\n",
    "\n",
    "user_button=tk.Button(text=\"LOGIN\",command=login)\n",
    "user_button.grid(row=3,column=1)\n",
    "\n",
    "\n",
    "root.mainloop()"
   ]
  },
  {
   "cell_type": "code",
   "execution_count": null,
   "id": "9edb5a80-5697-4694-b56b-844cf70012d6",
   "metadata": {},
   "outputs": [],
   "source": []
  },
  {
   "cell_type": "code",
   "execution_count": null,
   "id": "ef6b9a20-904d-4ef4-bb81-ea5493af3991",
   "metadata": {},
   "outputs": [],
   "source": []
  }
 ],
 "metadata": {
  "kernelspec": {
   "display_name": "Python 3 (ipykernel)",
   "language": "python",
   "name": "python3"
  },
  "language_info": {
   "codemirror_mode": {
    "name": "ipython",
    "version": 3
   },
   "file_extension": ".py",
   "mimetype": "text/x-python",
   "name": "python",
   "nbconvert_exporter": "python",
   "pygments_lexer": "ipython3",
   "version": "3.12.7"
  }
 },
 "nbformat": 4,
 "nbformat_minor": 5
}
