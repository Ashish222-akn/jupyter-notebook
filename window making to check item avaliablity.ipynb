{
 "cells": [
  {
   "cell_type": "code",
   "execution_count": null,
   "id": "bc4eb741-00d4-46a8-9ca4-aebcf9cdd490",
   "metadata": {},
   "outputs": [],
   "source": []
  },
  {
   "cell_type": "code",
   "execution_count": 143,
   "id": "a26c01f1-4827-46cf-a77e-37e3bbecfd8f",
   "metadata": {},
   "outputs": [
    {
     "ename": "NameError",
     "evalue": "name 'item_to_search' is not defined",
     "output_type": "error",
     "traceback": [
      "\u001b[1;31m---------------------------------------------------------------------------\u001b[0m",
      "\u001b[1;31mNameError\u001b[0m                                 Traceback (most recent call last)",
      "Cell \u001b[1;32mIn[143], line 9\u001b[0m\n\u001b[0;32m      7\u001b[0m window\u001b[38;5;241m.\u001b[39mtitle(\u001b[38;5;124m\"\u001b[39m\u001b[38;5;124msearch window for item\u001b[39m\u001b[38;5;124m\"\u001b[39m)\n\u001b[0;32m      8\u001b[0m window\u001b[38;5;241m.\u001b[39mgeometry(\u001b[38;5;124m\"\u001b[39m\u001b[38;5;124m800x600\u001b[39m\u001b[38;5;124m\"\u001b[39m)\n\u001b[1;32m----> 9\u001b[0m search_entry_box\u001b[38;5;241m=\u001b[39mitem_to_search\u001b[38;5;241m.\u001b[39mget()\n\u001b[0;32m     10\u001b[0m \u001b[38;5;28;01mif\u001b[39;00m search_entry_box \u001b[38;5;129;01min\u001b[39;00m list1:\n\u001b[0;32m     11\u001b[0m     output_box\u001b[38;5;241m.\u001b[39minsert(tk\u001b[38;5;241m.\u001b[39mEND,\u001b[38;5;124mf\u001b[39m\u001b[38;5;124m\"\u001b[39m\u001b[38;5;132;01m{\u001b[39;00mitem_to_search\u001b[38;5;132;01m}\u001b[39;00m\u001b[38;5;124m is avaliable\u001b[39m\u001b[38;5;124m\"\u001b[39m)\n",
      "\u001b[1;31mNameError\u001b[0m: name 'item_to_search' is not defined"
     ]
    }
   ],
   "source": [
    "list1=[\"mango\",\"banana\",\"milk\",\"eggs\",\"apple\"]\n",
    "\n",
    "\n",
    "\n",
    "import tkinter as tk\n",
    "window=tk.Tk()\n",
    "window.title(\"search window for item\")\n",
    "window.geometry(\"800x600\")\n",
    "search_entry_box=item_to_search.get()\n",
    "if search_entry_box in list1:\n",
    "    output_box.insert(tk.END,f\"{item_to_search} is avaliable\")\n",
    "else:\n",
    "    output_box.insert(tk.END,f\"{item_to_search} is not avaliable\")\n",
    "\n",
    "\n",
    "\n",
    "\n",
    "search_lable=tk.Label(text=\"Enter the name of item\",font=30)\n",
    "search_lable.grid(row=0,column=1,pady=50,padx=90)\n",
    "\n",
    "search_entry_box=tk.Entry()\n",
    "search_entry_box.grid(row=0,column=2,pady=80,padx=60)\n",
    "\n",
    "\n",
    "\n",
    "search_button=tk.Button(text=\"search\",command=item_to_search)\n",
    "search_button.grid(row=1,column=2)\n",
    "\n",
    "\n",
    "\n",
    "\n",
    "output_box=tk.Text()\n",
    "output_box.grid(row=4, column=2, pady=6)\n",
    "\n",
    "\n",
    "\n",
    "\n",
    "window.mainloop()"
   ]
  },
  {
   "cell_type": "code",
   "execution_count": null,
   "id": "c827b933-233a-464e-ac6d-7381269524f9",
   "metadata": {},
   "outputs": [],
   "source": []
  },
  {
   "cell_type": "code",
   "execution_count": null,
   "id": "7c3bf3d8-9662-4b21-9136-d3fe3b044702",
   "metadata": {},
   "outputs": [],
   "source": []
  },
  {
   "cell_type": "code",
   "execution_count": null,
   "id": "20f74db2-2989-4042-bef0-9f176531bf54",
   "metadata": {},
   "outputs": [],
   "source": [
    "list1=[\"mango\",\"banana\",\"milk\",\"eggs\",\"apple\"]"
   ]
  },
  {
   "cell_type": "code",
   "execution_count": 135,
   "id": "b3f91093-469a-4901-a5c7-c865efd6318b",
   "metadata": {},
   "outputs": [
    {
     "name": "stderr",
     "output_type": "stream",
     "text": [
      "Exception in Tkinter callback\n",
      "Traceback (most recent call last):\n",
      "  File \"C:\\Users\\asus\\anaconda3\\Lib\\tkinter\\__init__.py\", line 1968, in __call__\n",
      "    return self.func(*args)\n",
      "           ^^^^^^^^^^^^^^^^\n",
      "  File \"C:\\Users\\asus\\AppData\\Local\\Temp\\ipykernel_1528\\2846911051.py\", line 8, in search_item\n",
      "    item_to_search==entry_box.get()\n",
      "    ^^^^^^^^^^^^^^\n",
      "NameError: name 'item_to_search' is not defined\n",
      "Exception in Tkinter callback\n",
      "Traceback (most recent call last):\n",
      "  File \"C:\\Users\\asus\\anaconda3\\Lib\\tkinter\\__init__.py\", line 1968, in __call__\n",
      "    return self.func(*args)\n",
      "           ^^^^^^^^^^^^^^^^\n",
      "  File \"C:\\Users\\asus\\AppData\\Local\\Temp\\ipykernel_1528\\2846911051.py\", line 8, in search_item\n",
      "    item_to_search==entry_box.get()\n",
      "    ^^^^^^^^^^^^^^\n",
      "NameError: name 'item_to_search' is not defined\n",
      "Exception in Tkinter callback\n",
      "Traceback (most recent call last):\n",
      "  File \"C:\\Users\\asus\\anaconda3\\Lib\\tkinter\\__init__.py\", line 1968, in __call__\n",
      "    return self.func(*args)\n",
      "           ^^^^^^^^^^^^^^^^\n",
      "  File \"C:\\Users\\asus\\AppData\\Local\\Temp\\ipykernel_1528\\2846911051.py\", line 8, in search_item\n",
      "    item_to_search==entry_box.get()\n",
      "    ^^^^^^^^^^^^^^\n",
      "NameError: name 'item_to_search' is not defined\n",
      "Exception in Tkinter callback\n",
      "Traceback (most recent call last):\n",
      "  File \"C:\\Users\\asus\\anaconda3\\Lib\\tkinter\\__init__.py\", line 1968, in __call__\n",
      "    return self.func(*args)\n",
      "           ^^^^^^^^^^^^^^^^\n",
      "  File \"C:\\Users\\asus\\AppData\\Local\\Temp\\ipykernel_1528\\2846911051.py\", line 8, in search_item\n",
      "    item_to_search==entry_box.get()\n",
      "    ^^^^^^^^^^^^^^\n",
      "NameError: name 'item_to_search' is not defined\n",
      "Exception in Tkinter callback\n",
      "Traceback (most recent call last):\n",
      "  File \"C:\\Users\\asus\\anaconda3\\Lib\\tkinter\\__init__.py\", line 1968, in __call__\n",
      "    return self.func(*args)\n",
      "           ^^^^^^^^^^^^^^^^\n",
      "  File \"C:\\Users\\asus\\AppData\\Local\\Temp\\ipykernel_1528\\2846911051.py\", line 8, in search_item\n",
      "    item_to_search==entry_box.get()\n",
      "    ^^^^^^^^^^^^^^\n",
      "NameError: name 'item_to_search' is not defined\n"
     ]
    }
   ],
   "source": [
    "import tkinter as tk\n",
    "\n",
    "window=tk.Tk()\n",
    "window.geometry(\"500x500\")\n",
    "window.title(\"search window\")\n",
    "\n",
    "def search_item():\n",
    "    item_to_search==entry_box.get()\n",
    "    for item in list1:\n",
    "        if item == item_to_search:\n",
    "            output_window.insert(tk.END,f\"{item_to_search} is avaliable\\n\")\n",
    "            break\n",
    "    else:\n",
    "        output_window.insert(TK.END,f\"{item_to_search} is not avaliable\\n\")\n",
    "\n",
    "\n",
    "search_label=tk.Label(text=\"Enter the Name of Item\",font=50)\n",
    "search_label.grid(row=0,column=1,padx=50,pady=50)\n",
    "\n",
    "entry_box=tk.Entry()\n",
    "entry_box.grid(row=0,column=2)\n",
    "\n",
    "\n",
    "search_button=tk.Button(text=\"Search\",command=search_item)\n",
    "search_button.grid(row=2,column=2,padx=20)\n",
    "\n",
    "\n",
    "output_window=tk.Text()\n",
    "output_window.grid(row=3,column=2,pady=30)\n",
    "\n",
    "window.mainloop()"
   ]
  },
  {
   "cell_type": "code",
   "execution_count": null,
   "id": "09ee3ac9-8168-4ac2-aca4-e88e0f16f08f",
   "metadata": {},
   "outputs": [],
   "source": []
  },
  {
   "cell_type": "code",
   "execution_count": null,
   "id": "ff676391-2d0c-445a-bb99-e3b865da25cf",
   "metadata": {},
   "outputs": [],
   "source": []
  }
 ],
 "metadata": {
  "kernelspec": {
   "display_name": "Python 3 (ipykernel)",
   "language": "python",
   "name": "python3"
  },
  "language_info": {
   "codemirror_mode": {
    "name": "ipython",
    "version": 3
   },
   "file_extension": ".py",
   "mimetype": "text/x-python",
   "name": "python",
   "nbconvert_exporter": "python",
   "pygments_lexer": "ipython3",
   "version": "3.12.7"
  }
 },
 "nbformat": 4,
 "nbformat_minor": 5
}
