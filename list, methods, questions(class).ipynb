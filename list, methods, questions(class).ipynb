{
 "cells": [
  {
   "cell_type": "markdown",
   "id": "a27386ee-4aa9-4c7d-a09c-9aa82b8c1674",
   "metadata": {},
   "source": [
    "# To unique element from list1 to unique_list."
   ]
  },
  {
   "cell_type": "code",
   "execution_count": 126,
   "id": "d40e08fd-b3e0-45f7-ae05-0157ae2b1381",
   "metadata": {},
   "outputs": [
    {
     "name": "stdout",
     "output_type": "stream",
     "text": [
      "[1, 2, 3, 4, 6, 7, 8, 9]\n"
     ]
    }
   ],
   "source": [
    "list1=[1,2,3,2,2,3,3,4,6,7,8,9,9]\n",
    "unique_list=[]\n",
    "for item in list1:\n",
    "    if item not in unique_list:\n",
    "        unique_list.append(item)\n",
    "        \n",
    "print(unique_list)    "
   ]
  },
  {
   "cell_type": "markdown",
   "id": "d4927976-2cc1-4d62-98e3-f2e4b11926e6",
   "metadata": {},
   "source": [
    "# To fetch only string elements fron the list."
   ]
  },
  {
   "cell_type": "code",
   "execution_count": 137,
   "id": "2b154ff8-7d6d-4156-bbe4-39ec03007e94",
   "metadata": {},
   "outputs": [
    {
     "name": "stdout",
     "output_type": "stream",
     "text": [
      "noida\n",
      "city\n"
     ]
    }
   ],
   "source": [
    "list1=[1,22,34,56,\"noida\",43,\"city\",66]\n",
    "string=[0]\n",
    "for i in list1:\n",
    "    if type(i)==str:\n",
    "       print(i)        \n"
   ]
  },
  {
   "cell_type": "markdown",
   "id": "47346b1e-3f6c-47fc-9faa-34eddd076580",
   "metadata": {},
   "source": [
    "# To add some elements of a list to a new list."
   ]
  },
  {
   "cell_type": "code",
   "execution_count": 82,
   "id": "9ec2b731-bbb6-4022-880d-685949bd3574",
   "metadata": {},
   "outputs": [
    {
     "name": "stdout",
     "output_type": "stream",
     "text": [
      "[34, 56]\n"
     ]
    }
   ],
   "source": [
    "list1=[1,22,\"ashish\",34,56,\"noida\",43,\"city\",66]\n",
    "\n",
    "removed_items=[]\n",
    "\n",
    "list1.remove(34)\n",
    "list1.remove(56)\n",
    "\n",
    "removed_items.append(34)\n",
    "removed_items.append(56)\n",
    "\n",
    "print(removed_items)"
   ]
  },
  {
   "cell_type": "code",
   "execution_count": null,
   "id": "7274aef1-efb9-411f-b19f-a10b73c6b773",
   "metadata": {},
   "outputs": [],
   "source": []
  },
  {
   "cell_type": "markdown",
   "id": "4a0072d7-837e-4e84-825d-01cdd9197a47",
   "metadata": {},
   "source": [
    "# flatten the list."
   ]
  },
  {
   "cell_type": "code",
   "execution_count": 93,
   "id": "bf898fa2-3d87-4808-89bc-07cee614c4d4",
   "metadata": {},
   "outputs": [
    {
     "name": "stdout",
     "output_type": "stream",
     "text": [
      "[1, 2, 3, 4, 5, 6, 3, 5, 7]\n"
     ]
    }
   ],
   "source": [
    "list1=[[1,2,3],[4,5,6],[3,5,7]]\n",
    "flatten_list=[]\n",
    "for outer_list in list1:\n",
    "    for inner_item in outer_list:\n",
    "        flatten_list.append(inner_item)\n",
    "        \n",
    "print(flatten_list)        \n",
    "   \n",
    "    "
   ]
  },
  {
   "cell_type": "markdown",
   "id": "e6720869-5b9a-4779-bd8f-6121f14066df",
   "metadata": {},
   "source": [
    "# 1) append - (it will enter the element at the end of the list)\n",
    "\n"
   ]
  },
  {
   "cell_type": "code",
   "execution_count": null,
   "id": "03a83662-8f98-46c9-a2c3-34f0602ef91a",
   "metadata": {},
   "outputs": [],
   "source": [
    "list1=[1,2,3,4,5,6,7]\n",
    "list1.append(9)\n",
    "print(list1)"
   ]
  },
  {
   "cell_type": "markdown",
   "id": "49e4051e-2446-4f1c-9daf-b2f089780d2b",
   "metadata": {},
   "source": [
    "# 2) clear - (remove all the items in the list and return empty list[])"
   ]
  },
  {
   "cell_type": "code",
   "execution_count": 14,
   "id": "312de467-bf5d-4a90-897e-8bc04d663282",
   "metadata": {},
   "outputs": [
    {
     "name": "stdout",
     "output_type": "stream",
     "text": [
      "[]\n"
     ]
    }
   ],
   "source": [
    "list1=[1,2,3,4,5,6,7]\n",
    "list1.clear()\n",
    "print(list1)"
   ]
  },
  {
   "cell_type": "markdown",
   "id": "f9b7518b-d6fd-461e-9393-f182fc55947e",
   "metadata": {},
   "source": [
    "# 3) copy - (return a copy of a list)"
   ]
  },
  {
   "cell_type": "code",
   "execution_count": 24,
   "id": "b3696ab4-4bfc-4d14-a4af-559386e357aa",
   "metadata": {},
   "outputs": [
    {
     "name": "stdout",
     "output_type": "stream",
     "text": [
      "[1, 2, 3, 4, 5, 6, 7]\n"
     ]
    }
   ],
   "source": [
    "list1=[1,2,3,4,5,6,7]\n",
    "list1.copy()\n",
    "print(list1)"
   ]
  },
  {
   "cell_type": "markdown",
   "id": "c4668cd6-7122-4257-854a-24a0bd20f77c",
   "metadata": {},
   "source": [
    "# 4) count- (return the number of frequency of a element in a list)"
   ]
  },
  {
   "cell_type": "code",
   "execution_count": null,
   "id": "bb98257f-d8f1-4755-a071-3889226400c4",
   "metadata": {},
   "outputs": [],
   "source": [
    "list1=[1,2,3,4,5,6,7]\n",
    "list1.count()"
   ]
  },
  {
   "cell_type": "markdown",
   "id": "bb6e5091-70d5-47a4-b2c9-011247f25508",
   "metadata": {},
   "source": [
    "# 5 entend- (it will extend the list by any iterable item)"
   ]
  },
  {
   "cell_type": "code",
   "execution_count": 32,
   "id": "88d76709-8b7f-482a-b48d-97a5b2648936",
   "metadata": {},
   "outputs": [
    {
     "name": "stdout",
     "output_type": "stream",
     "text": [
      "[1, 2, 3, 4, 5, 6, 7, 'a', 's', 'h', 'i', 's', 'h']\n"
     ]
    }
   ],
   "source": [
    "list1=[1,2,3,4,5,6,7]\n",
    "list1.extend(\"ashish\")\n",
    "print(list1)"
   ]
  },
  {
   "cell_type": "markdown",
   "id": "2a702afc-915a-4c52-a862-797adcbe8da7",
   "metadata": {},
   "source": [
    "# 6) index - (it will return the index of the element in the list)"
   ]
  },
  {
   "cell_type": "code",
   "execution_count": 63,
   "id": "6b2f9234-623e-4e41-b418-4f7d322a105d",
   "metadata": {},
   "outputs": [
    {
     "name": "stdout",
     "output_type": "stream",
     "text": [
      "6\n"
     ]
    }
   ],
   "source": [
    "list1=[1,2,3,4,5,6,7]\n",
    "index =list1.index(7)\n",
    "print(index)"
   ]
  },
  {
   "cell_type": "markdown",
   "id": "53608acb-22a6-410e-9d32-f0eaab9a36fb",
   "metadata": {},
   "source": [
    "# 7) insert - (it will insert the element in the list (index,element) )"
   ]
  },
  {
   "cell_type": "code",
   "execution_count": 66,
   "id": "f69b3725-d00e-4a39-a011-d5b4f125ac37",
   "metadata": {},
   "outputs": [
    {
     "name": "stdout",
     "output_type": "stream",
     "text": [
      "[1, 2, 3, 9, 4, 5, 6, 7]\n"
     ]
    }
   ],
   "source": [
    "list1=[1,2,3,4,5,6,7]\n",
    "list1.insert(3,9)\n",
    "print(list1)"
   ]
  },
  {
   "cell_type": "markdown",
   "id": "944c4bdc-56fe-4946-8af5-89b17e7d554c",
   "metadata": {},
   "source": [
    "# 8) pop - (it will remove the element after giving the particular index)"
   ]
  },
  {
   "cell_type": "code",
   "execution_count": 76,
   "id": "e1330d2e-262f-437f-aff0-a7f2dbc86df7",
   "metadata": {},
   "outputs": [
    {
     "name": "stdout",
     "output_type": "stream",
     "text": [
      "[1, 2, 3, 4, 5, 6]\n"
     ]
    }
   ],
   "source": [
    "list1=[1,2,3,4,5,6,7]\n",
    "list1.pop(6)\n",
    "print(list1)"
   ]
  },
  {
   "cell_type": "markdown",
   "id": "a8ea5049-1a75-4e88-b802-453f9520377e",
   "metadata": {},
   "source": [
    "# 9) remove - (it will remove the first occourance of element in the list by just providing the element)"
   ]
  },
  {
   "cell_type": "code",
   "execution_count": 79,
   "id": "ef79ce2b-086b-4292-8605-6986998f0065",
   "metadata": {},
   "outputs": [
    {
     "name": "stdout",
     "output_type": "stream",
     "text": [
      "[1, 2, 4, 5, 6, 7]\n"
     ]
    }
   ],
   "source": [
    "list1=[1,2,3,4,5,6,7]\n",
    "list1.remove(3)\n",
    "print(list1)"
   ]
  },
  {
   "cell_type": "markdown",
   "id": "16bd66e1-df91-44c5-9e98-31089edfe6a3",
   "metadata": {},
   "source": [
    "# 10) reverrse - ( it will reverse the element of list )"
   ]
  },
  {
   "cell_type": "code",
   "execution_count": 88,
   "id": "1ec19e99-2820-4119-8ef4-48178fedf40c",
   "metadata": {},
   "outputs": [
    {
     "name": "stdout",
     "output_type": "stream",
     "text": [
      "[7, 6, 5, 4, 3, 2, 1]\n"
     ]
    }
   ],
   "source": [
    "list1=[1,2,3,4,5,6,7]\n",
    "list1.reverse()\n",
    "print(list1)\n"
   ]
  },
  {
   "cell_type": "markdown",
   "id": "6039b1e8-7e80-4ee7-b891-e6bbafc184e0",
   "metadata": {},
   "source": [
    "# 11) sort - ( it will arange the list in ascemding order and decending order)"
   ]
  },
  {
   "cell_type": "code",
   "execution_count": 116,
   "id": "421c3969-1340-49c7-b7d4-24bae5351433",
   "metadata": {},
   "outputs": [
    {
     "name": "stdout",
     "output_type": "stream",
     "text": [
      "[10, 20, 30, 50, 60, 80]\n"
     ]
    }
   ],
   "source": [
    "list1=[20,50,60,80,10,30]\n",
    "list1.sort()                                                 # Ascending order\n",
    "print(list1)"
   ]
  },
  {
   "cell_type": "code",
   "execution_count": 118,
   "id": "ed565018-edc9-4aa7-ba03-ba84a7a8d11b",
   "metadata": {},
   "outputs": [
    {
     "name": "stdout",
     "output_type": "stream",
     "text": [
      "[80, 60, 50, 30, 20, 10]\n"
     ]
    }
   ],
   "source": [
    "list1=[20,50,60,80,10,30]\n",
    "list1.sort(reverse=True)                                    #Descending order\n",
    "print(list1)"
   ]
  }
 ],
 "metadata": {
  "kernelspec": {
   "display_name": "Python 3 (ipykernel)",
   "language": "python",
   "name": "python3"
  },
  "language_info": {
   "codemirror_mode": {
    "name": "ipython",
    "version": 3
   },
   "file_extension": ".py",
   "mimetype": "text/x-python",
   "name": "python",
   "nbconvert_exporter": "python",
   "pygments_lexer": "ipython3",
   "version": "3.12.7"
  }
 },
 "nbformat": 4,
 "nbformat_minor": 5
}
